{
 "cells": [
  {
   "cell_type": "markdown",
   "id": "0423a22d-fd94-4821-877d-644a8341f5ce",
   "metadata": {},
   "source": [
    "## 1. Write a Python program to print the numbers from 1 to 10 using a for loop.\n"
   ]
  },
  {
   "cell_type": "code",
   "execution_count": 2,
   "id": "bfd7df1b-4c90-419a-b84d-d6b5bc67c785",
   "metadata": {},
   "outputs": [
    {
     "name": "stdout",
     "output_type": "stream",
     "text": [
      "1\n",
      "2\n",
      "3\n",
      "4\n",
      "5\n",
      "6\n",
      "7\n",
      "8\n",
      "9\n",
      "10\n"
     ]
    }
   ],
   "source": [
    "for a in range(1,11):\n",
    "    print(a)"
   ]
  },
  {
   "cell_type": "markdown",
   "id": "ef936be1-78d2-4b5d-8265-f9363d87f004",
   "metadata": {},
   "source": [
    "## 2. Write a Python program to print the numbers from 20 to 1 using a while loop\n"
   ]
  },
  {
   "cell_type": "code",
   "execution_count": 7,
   "id": "d31b2442-951b-4e17-8509-5e56d966d8e2",
   "metadata": {},
   "outputs": [
    {
     "name": "stdout",
     "output_type": "stream",
     "text": [
      "1\n",
      "2\n",
      "3\n",
      "4\n",
      "5\n",
      "6\n",
      "7\n",
      "8\n",
      "9\n",
      "10\n",
      "11\n",
      "12\n",
      "13\n",
      "14\n",
      "15\n",
      "16\n",
      "17\n",
      "18\n",
      "19\n",
      "20\n"
     ]
    }
   ],
   "source": [
    "a=0\n",
    "while a<20:\n",
    "    a+=1\n",
    "    print(a)"
   ]
  },
  {
   "cell_type": "markdown",
   "id": "0b5e1d19-60c7-4119-b409-019585b77c00",
   "metadata": {},
   "source": [
    "## 3. Write a program to print even numbers from 1 to 10.\n"
   ]
  },
  {
   "cell_type": "code",
   "execution_count": 10,
   "id": "70346615-9b22-4f8e-9622-fb5a9a83967a",
   "metadata": {},
   "outputs": [
    {
     "name": "stdout",
     "output_type": "stream",
     "text": [
      "2\n",
      "4\n",
      "6\n",
      "8\n",
      "10\n"
     ]
    }
   ],
   "source": [
    " for e in range(1,11):\n",
    "    if e%2==0:\n",
    "       print(e)"
   ]
  },
  {
   "cell_type": "markdown",
   "id": "abb0a28d-278a-4704-8e68-ca870587c98a",
   "metadata": {},
   "source": [
    "##    4. Write a program that prompts the user to enter a number n and prints all the numbers from 1 to n.\n"
   ]
  },
  {
   "cell_type": "code",
   "execution_count": 13,
   "id": "2b0f56d7-8106-4fc7-bc4a-ee0f997bdf5c",
   "metadata": {},
   "outputs": [
    {
     "name": "stdin",
     "output_type": "stream",
     "text": [
      "Enter number: 5\n"
     ]
    },
    {
     "name": "stdout",
     "output_type": "stream",
     "text": [
      "1\n",
      "2\n",
      "3\n",
      "4\n",
      "5\n"
     ]
    }
   ],
   "source": [
    "n=int(input(\"Enter number:\"))\n",
    "for n in range(1,n+1):\n",
    "    print(n)\n"
   ]
  },
  {
   "cell_type": "markdown",
   "id": "9b58be4b-e27e-443f-8b8d-9c2b6bc22c41",
   "metadata": {},
   "source": [
    "## 5. Write a program that prompts the user to enter a number n, and then prints all the odd numbers between 1 and n.\n"
   ]
  },
  {
   "cell_type": "code",
   "execution_count": 16,
   "id": "f19e58b2-7336-4bae-b8df-daad6af646b8",
   "metadata": {},
   "outputs": [
    {
     "name": "stdin",
     "output_type": "stream",
     "text": [
      "Enter number: 9\n"
     ]
    },
    {
     "name": "stdout",
     "output_type": "stream",
     "text": [
      "1\n",
      "3\n",
      "5\n",
      "7\n"
     ]
    }
   ],
   "source": [
    "n1=int(input(\"Enter number:\"))\n",
    "for n1 in range(1,n1):\n",
    "    if n1%2!=0:\n",
    "        print(n1)\n"
   ]
  },
  {
   "cell_type": "markdown",
   "id": "64a4bed4-a852-486c-a4d4-9a07618c1629",
   "metadata": {},
   "source": [
    "## 6. Write a program that prints 'Happy Birthday!' five times on screen\n"
   ]
  },
  {
   "cell_type": "code",
   "execution_count": 19,
   "id": "aea9f45a-0d2d-47a8-91b4-703701d08617",
   "metadata": {},
   "outputs": [
    {
     "name": "stdout",
     "output_type": "stream",
     "text": [
      "1 Happy Birthday!\n",
      "2 Happy Birthday!\n",
      "3 Happy Birthday!\n",
      "4 Happy Birthday!\n",
      "5 Happy Birthday!\n"
     ]
    }
   ],
   "source": [
    "for a in range(1,6):\n",
    "    print(a,\"Happy Birthday!\")\n"
   ]
  },
  {
   "cell_type": "markdown",
   "id": "7f3baea1-2507-4002-99f9-34586e0ca25e",
   "metadata": {},
   "source": [
    "## 7. Write a program that takes a number n as input from the user and generates the first n terms of the series formed by squaring the natural numbers.\n"
   ]
  },
  {
   "cell_type": "code",
   "execution_count": 22,
   "id": "09c44f02-2189-4a92-8262-9b0a2aa6aeb9",
   "metadata": {},
   "outputs": [
    {
     "name": "stdin",
     "output_type": "stream",
     "text": [
      "Enter Number: 15\n"
     ]
    },
    {
     "name": "stdout",
     "output_type": "stream",
     "text": [
      "1\n",
      "4\n",
      "9\n",
      "16\n",
      "25\n",
      "36\n",
      "49\n",
      "64\n",
      "81\n",
      "100\n",
      "121\n",
      "144\n",
      "169\n",
      "196\n",
      "225\n"
     ]
    }
   ],
   "source": [
    "n2=int(input(\"Enter Number:\"))\n",
    "for n2 in range(1,n2+1):\n",
    "    print(n2**2)\n"
   ]
  },
  {
   "cell_type": "markdown",
   "id": "8c9690e4-d63a-498e-9f9b-286dcac78a39",
   "metadata": {},
   "source": [
    "## 8. Write a program that prompts the user to input a number and prints its multiplication table.\n"
   ]
  },
  {
   "cell_type": "code",
   "execution_count": 25,
   "id": "aab61c8f-e6a0-41a9-8974-812dc09412b1",
   "metadata": {},
   "outputs": [
    {
     "name": "stdin",
     "output_type": "stream",
     "text": [
      "Enter Number: 8\n"
     ]
    },
    {
     "name": "stdout",
     "output_type": "stream",
     "text": [
      "8 x 1 = 8\n",
      "8 x 2 = 16\n",
      "8 x 3 = 24\n",
      "8 x 4 = 32\n",
      "8 x 5 = 40\n",
      "8 x 6 = 48\n",
      "8 x 7 = 56\n",
      "8 x 8 = 64\n",
      "8 x 9 = 72\n",
      "8 x 10 = 80\n"
     ]
    }
   ],
   "source": [
    "n3=int(input(\"Enter Number:\"))\n",
    "for n in range(1,11):\n",
    "    print(f\"{n3} x {n} = {n3*n}\")\n"
   ]
  },
  {
   "cell_type": "markdown",
   "id": "603ff400-1670-44c8-b5a6-852a1d65be4a",
   "metadata": {},
   "source": [
    "## 9. Write a Python program to print the first 8 terms of an arithmetic progression starting with 3 and having a common difference of 4.\n"
   ]
  },
  {
   "cell_type": "code",
   "execution_count": 28,
   "id": "2ca1fab4-35c8-42be-98c8-46e859599218",
   "metadata": {},
   "outputs": [
    {
     "name": "stdout",
     "output_type": "stream",
     "text": [
      "3\n",
      "7\n",
      "11\n",
      "15\n",
      "19\n",
      "23\n",
      "27\n",
      "31\n"
     ]
    }
   ],
   "source": [
    "for d in range(3,32,4):\n",
    "    print(d)\n"
   ]
  },
  {
   "cell_type": "markdown",
   "id": "7ed3bea1-6e2e-4532-b25f-940291f9ee0b",
   "metadata": {},
   "source": [
    "## 10. Write a Python program to print the first 6 terms of a geometric sequence starting with 2 and having a common ratio of 3.\n"
   ]
  },
  {
   "cell_type": "code",
   "execution_count": 31,
   "id": "245bf884-8685-4907-a58a-fdbda639722e",
   "metadata": {},
   "outputs": [
    {
     "name": "stdout",
     "output_type": "stream",
     "text": [
      "2\n",
      "6\n",
      "18\n",
      "54\n",
      "162\n",
      "486\n"
     ]
    }
   ],
   "source": [
    "st=2\n",
    "cr=3\n",
    "for c in range(6):\n",
    "    print(st)\n",
    "    st*=cr\n"
   ]
  },
  {
   "cell_type": "markdown",
   "id": "53e30f38-9b4b-4769-bf43-6f2c395bc8bb",
   "metadata": {},
   "source": [
    "## 11. Write a program that asks the user for a positive integer value. The program should calculate the sum of all the integers from 1 up to the number entered.\n"
   ]
  },
  {
   "cell_type": "code",
   "execution_count": 34,
   "id": "ec429e1f-8f65-4924-9767-9a2abe7757eb",
   "metadata": {},
   "outputs": [
    {
     "name": "stdin",
     "output_type": "stream",
     "text": [
      "Enter a positive number: 9\n"
     ]
    },
    {
     "name": "stdout",
     "output_type": "stream",
     "text": [
      "The sum from 1 to 9 is 45\n"
     ]
    }
   ],
   "source": [
    "num=int(input(\"Enter a positive number:\"))\n",
    "tot=0\n",
    "for i in range(1,num+1):\n",
    "    tot+=i\n",
    "print(f\"The sum from 1 to {num} is {tot}\")\n"
   ]
  },
  {
   "cell_type": "markdown",
   "id": "b2e8abb6-682c-44a1-9ca5-ba89b3947696",
   "metadata": {},
   "source": [
    "## 12. write a program that takes a positive integer N as input and calculates the sum of the reciprocals of all numbers from 1 up to N\n"
   ]
  },
  {
   "cell_type": "code",
   "execution_count": 37,
   "id": "cf328b7f-560d-4b09-b88d-4bac0419b9f7",
   "metadata": {},
   "outputs": [
    {
     "name": "stdin",
     "output_type": "stream",
     "text": [
      "Enter a positive number: 16\n"
     ]
    },
    {
     "name": "stdout",
     "output_type": "stream",
     "text": [
      "The sum of reciprocal from 1 to 16 is: 3.3807289932289937\n"
     ]
    }
   ],
   "source": [
    "num=int(input(\"Enter a positive number:\"))\n",
    "rec=0\n",
    "init=1\n",
    "for i in range(1,num+1):\n",
    "    rec+=1/i\n",
    "print(f\"The sum of reciprocal from {init} to {num} is: {rec}\")\n"
   ]
  },
  {
   "cell_type": "markdown",
   "id": "167fcc23-60c7-47b3-9573-dfd73da09be3",
   "metadata": {},
   "source": [
    "## 13. Write a program that prompts the user to enter a number and repeats this process 5 times. The program should accumulate the numbers entered and then display the final running total.\n"
   ]
  },
  {
   "cell_type": "code",
   "execution_count": 40,
   "id": "610a30ac-fee1-4449-88ba-dad917809f92",
   "metadata": {},
   "outputs": [
    {
     "name": "stdin",
     "output_type": "stream",
     "text": [
      "Enter a number: 8\n",
      "Enter a number: 7\n",
      "Enter a number: 2\n",
      "Enter a number: 0\n",
      "Enter a number: 63\n"
     ]
    },
    {
     "name": "stdout",
     "output_type": "stream",
     "text": [
      "The total is 80\n"
     ]
    }
   ],
   "source": [
    "total=0\n",
    "num=0\n",
    "for c in range(5):\n",
    "    num=int(input(\"Enter a number:\"))\n",
    "    total+=num \n",
    "print(f'The total is {total}')\n"
   ]
  },
  {
   "cell_type": "markdown",
   "id": "5eacb79a-0084-4cfd-b7ff-1ff30e87567a",
   "metadata": {},
   "source": [
    "## 14. Write a program that prompts the user to enter a positive integer and calculates its factorial. The factorial of a positive integer 'n' is denoted as 'n!' and is calculated by multiplying all the integers from 1 to 'n' together. For example, the factorial of 5 (denoted as 5!) is calculated as 1 x 2 x 3 x 4 x 5.\n",
    "    The program should display the factorial value if the input is a positive number, or display a message stating that the factorial does not exist for negative numbers. Additionally, for an input of zero, the program should output that the factorial of 0 is 1.\n",
    "\n"
   ]
  },
  {
   "cell_type": "code",
   "execution_count": 44,
   "id": "b1d9bd75-b57f-457a-a849-cdb51227960d",
   "metadata": {},
   "outputs": [
    {
     "name": "stdin",
     "output_type": "stream",
     "text": [
      "Enter a positive number: 13\n"
     ]
    },
    {
     "name": "stdout",
     "output_type": "stream",
     "text": [
      "The Factorial of 13 is 6227020800\n"
     ]
    }
   ],
   "source": [
    "num=int(input(\"Enter a positive number:\"))\n",
    "tot=1\n",
    "if num>0:\n",
    "    for i in range(1,num+1):\n",
    "        tot=tot*i\n",
    "    print(f\"The Factorial of {num} is {tot}\")\n",
    "elif num==0:\n",
    "    print(\"The factorial of 0 is 1\")\n",
    "elif num<0:\n",
    "    print(\"Factorial does not exist for negative numbers\")\n"
   ]
  },
  {
   "cell_type": "markdown",
   "id": "7b0760a7-a0f8-4c55-8bdc-6f2ff69c65f1",
   "metadata": {},
   "source": [
    "## 15. Write a Python program that prompts the user to enter a base number and an exponent, and then calculates the power of the base to the exponent. The program should not use the exponentiation operator (**) or the math.pow() function. The program should handle both positive and negative exponents.\n"
   ]
  },
  {
   "cell_type": "code",
   "execution_count": 47,
   "id": "dbb09580-95ed-4f6e-bbee-81bfaa94734a",
   "metadata": {},
   "outputs": [
    {
     "name": "stdin",
     "output_type": "stream",
     "text": [
      "Enter base number: 4\n",
      "Enter exponent: 3\n"
     ]
    },
    {
     "name": "stdout",
     "output_type": "stream",
     "text": [
      "64\n"
     ]
    }
   ],
   "source": [
    "base=int(input(\"Enter base number:\"))\n",
    "expo=int(input(\"Enter exponent:\"))\n",
    "r=1\n",
    "for a in range(1,expo+1):\n",
    "    r*=base\n",
    "print(r)    \n"
   ]
  },
  {
   "cell_type": "code",
   "execution_count": null,
   "id": "92806e39-f383-470a-bc85-ef416a31f81e",
   "metadata": {},
   "outputs": [],
   "source": []
  }
 ],
 "metadata": {
  "kernelspec": {
   "display_name": "Python 3 (ipykernel)",
   "language": "python",
   "name": "python3"
  },
  "language_info": {
   "codemirror_mode": {
    "name": "ipython",
    "version": 3
   },
   "file_extension": ".py",
   "mimetype": "text/x-python",
   "name": "python",
   "nbconvert_exporter": "python",
   "pygments_lexer": "ipython3",
   "version": "3.12.7"
  }
 },
 "nbformat": 4,
 "nbformat_minor": 5
}
