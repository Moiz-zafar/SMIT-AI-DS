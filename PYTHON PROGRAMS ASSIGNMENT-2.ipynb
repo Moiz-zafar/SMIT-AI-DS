{
 "cells": [
  {
   "cell_type": "markdown",
   "id": "faa9bb5a-c6db-4e84-a3d6-1ed2ac961fe1",
   "metadata": {},
   "source": [
    "# 1) Area of a Rectangle:\n",
    "    - Write a Python program to calculate the area of a rectangle. Use the formula:\n"
   ]
  },
  {
   "cell_type": "code",
   "execution_count": 3,
   "id": "50f1a7e3-4006-410a-a814-ceae0e53cd5f",
   "metadata": {},
   "outputs": [
    {
     "name": "stdin",
     "output_type": "stream",
     "text": [
      "Enter Length: 12\n",
      "Enter Width: 23\n"
     ]
    },
    {
     "name": "stdout",
     "output_type": "stream",
     "text": [
      "The Area Of The Rectangle is: 276\n"
     ]
    }
   ],
   "source": [
    "length = int(input(\"Enter Length:\"))\n",
    "width = int(input(\"Enter Width:\"))\n",
    "\n",
    "area = length*width\n",
    "print(f\"The Area Of The Rectangle is: {area}\")\n"
   ]
  },
  {
   "cell_type": "markdown",
   "id": "dae1afd0-c0b5-44de-8075-08e21e887e73",
   "metadata": {},
   "source": [
    "# 2) Circumference of a Circle:\n",
    "    Write a Python program to calculate the circumference of a circle. Use the formula:\n"
   ]
  },
  {
   "cell_type": "code",
   "execution_count": 9,
   "id": "fbeb22e5-174d-48bf-8f44-eea187e6ef48",
   "metadata": {},
   "outputs": [
    {
     "name": "stdin",
     "output_type": "stream",
     "text": [
      "Enter radius: 23\n"
     ]
    },
    {
     "data": {
      "text/plain": [
       "144.53199999999998"
      ]
     },
     "execution_count": 9,
     "metadata": {},
     "output_type": "execute_result"
    }
   ],
   "source": [
    "radius = int(input(\"Enter radius:\"))\n",
    "pi=3.142\n",
    "circumference =2*pi*radius\n",
    "circumference\n"
   ]
  },
  {
   "cell_type": "markdown",
   "id": "4c7c4b8e-8935-4686-9f9f-2f336e5538ce",
   "metadata": {},
   "source": [
    "# 3. Simple Interest:\n",
    "    Write a Python program to calculate the simple interest. Use the formula:\n",
    "\n"
   ]
  },
  {
   "cell_type": "code",
   "execution_count": 14,
   "id": "8746c338-bf5c-4d15-87fe-5f69de93e88d",
   "metadata": {},
   "outputs": [
    {
     "name": "stdin",
     "output_type": "stream",
     "text": [
      "Enter Principal Number: 23\n",
      "Enter Rate Number: 14\n",
      "Enter Time: 23\n"
     ]
    },
    {
     "data": {
      "text/plain": [
       "7406"
      ]
     },
     "execution_count": 14,
     "metadata": {},
     "output_type": "execute_result"
    }
   ],
   "source": [
    "principal = int(input(\"Enter Principal Number:\"))\n",
    "rate =int(input(\"Enter Rate Number:\"))\n",
    "time =int(input(\"Enter Time:\"))\n",
    "\n",
    "simple_interest = principal*rate*time\n",
    "simple_interest\n"
   ]
  },
  {
   "cell_type": "markdown",
   "id": "045ce4fb-b325-445a-825d-5dbc8c930b8b",
   "metadata": {},
   "source": [
    "# 4. Speed of an Object:\n",
    "    Write a Python program to calculate the speed of an object. Use the formula:\n"
   ]
  },
  {
   "cell_type": "code",
   "execution_count": 18,
   "id": "2a1458a2-07ec-40e6-8823-f3d1221e60c2",
   "metadata": {},
   "outputs": [
    {
     "name": "stdin",
     "output_type": "stream",
     "text": [
      "Enter Distance: 36\n",
      "Enter Time: 15\n"
     ]
    },
    {
     "data": {
      "text/plain": [
       "2.4"
      ]
     },
     "execution_count": 18,
     "metadata": {},
     "output_type": "execute_result"
    }
   ],
   "source": [
    "distance = int(input(\"Enter Distance:\"))\n",
    "time = int(input(\"Enter Time:\"))\n",
    "speed = distance/time\n",
    "speed\n"
   ]
  },
  {
   "cell_type": "markdown",
   "id": "8f58e479-ddcc-45b0-a2bd-58406cdb0610",
   "metadata": {},
   "source": [
    "# 5. BMI Calculator:\n",
    "    Write a Python program to calculate the Body Mass Index (BMI). Use the formula:\n"
   ]
  },
  {
   "cell_type": "code",
   "execution_count": 25,
   "id": "bf3821e6-d940-4a4d-b582-9f74bef38813",
   "metadata": {},
   "outputs": [
    {
     "name": "stdin",
     "output_type": "stream",
     "text": [
      "Enter In weight 56\n",
      "Enter The Height: 5.5\n"
     ]
    },
    {
     "data": {
      "text/plain": [
       "30.25"
      ]
     },
     "execution_count": 25,
     "metadata": {},
     "output_type": "execute_result"
    }
   ],
   "source": [
    "weight = int(input(\"Enter In weight\"))\n",
    "height = float(input(\"Enter The Height:\"))\n",
    "sq_height = height**2\n",
    "sq_height\n"
   ]
  },
  {
   "cell_type": "markdown",
   "id": "465dd3d4-feee-4dcf-b580-cea89cdfeb26",
   "metadata": {},
   "source": [
    "# 6. Force Using Newton's Second Law:\n",
    "    Write a Python program to calculate the force on an object. Use the formula:\n"
   ]
  },
  {
   "cell_type": "code",
   "execution_count": 30,
   "id": "7e072dbf-b901-4859-ac1a-dea77df5d7d1",
   "metadata": {},
   "outputs": [
    {
     "name": "stdin",
     "output_type": "stream",
     "text": [
      "Enter Mass: 56\n",
      "Enter Acceleration: 24\n"
     ]
    },
    {
     "data": {
      "text/plain": [
       "1344"
      ]
     },
     "execution_count": 30,
     "metadata": {},
     "output_type": "execute_result"
    }
   ],
   "source": [
    "m = int(input(\"Enter Mass:\"))\n",
    "a = int(input(\"Enter Acceleration:\"))\n",
    "force = m*a\n",
    "force\n"
   ]
  },
  {
   "cell_type": "markdown",
   "id": "66062a0e-0def-4f13-bd63-b670a699925a",
   "metadata": {},
   "source": [
    "# 7. Compound Interest:\n",
    "    Write a Python program to calculate compound interest. Use the formula:\n"
   ]
  },
  {
   "cell_type": "code",
   "execution_count": 35,
   "id": "e512bce8-5b2b-4ae1-b443-ff5475b4acb4",
   "metadata": {},
   "outputs": [
    {
     "name": "stdin",
     "output_type": "stream",
     "text": [
      "Enter Principal Amount: 45\n",
      "Enter Annual Interest Rate: 26\n",
      "Enter Number Of Time Interest Is Compounded Per Year: 785\n",
      "Enter Time In Years: 26\n"
     ]
    },
    {
     "data": {
      "text/plain": [
       "5779663108423.869"
      ]
     },
     "execution_count": 35,
     "metadata": {},
     "output_type": "execute_result"
    }
   ],
   "source": [
    "p = float(input(\"Enter Principal Amount:\"))\n",
    "r = float(input(\"Enter Annual Interest Rate:\"))\n",
    "n = float(input(\"Enter Number Of Time Interest Is Compounded Per Year:\"))\n",
    "t = float(input(\"Enter Time In Years:\"))\n",
    "\n",
    "A =p*(1+r/n)**n-t\n",
    "A\n"
   ]
  },
  {
   "cell_type": "markdown",
   "id": "5f69c470-6f0c-4385-af1e-3b6c78d3f05b",
   "metadata": {},
   "source": [
    "# 8. Perimeter of a Triangle:\n",
    "    Write a Python program to calculate the perimeter of a triangle. Use the formula:\n"
   ]
  },
  {
   "cell_type": "code",
   "execution_count": 40,
   "id": "63b0046a-5d02-4ed0-9e29-902b436fe86d",
   "metadata": {},
   "outputs": [
    {
     "name": "stdin",
     "output_type": "stream",
     "text": [
      "Enter Length_1: 45\n",
      "Enter Length_2: 26\n",
      "Enter Length_3: 78\n"
     ]
    },
    {
     "data": {
      "text/plain": [
       "149.0"
      ]
     },
     "execution_count": 40,
     "metadata": {},
     "output_type": "execute_result"
    }
   ],
   "source": [
    "a = float(input(\"Enter Length_1:\"))\n",
    "b = float(input(\"Enter Length_2:\"))\n",
    "c = float(input(\"Enter Length_3:\"))\n",
    "\n",
    "perimeter = a+b+c\n",
    "perimeter"
   ]
  },
  {
   "cell_type": "markdown",
   "id": "e9cd3ae2-0479-4d39-acd8-d25d191f67e9",
   "metadata": {},
   "source": [
    "# 9. Volume of a Sphere:\n",
    "    Write a Python program to calculate the volume of a sphere. Use the formula:\n"
   ]
  },
  {
   "cell_type": "code",
   "execution_count": 45,
   "id": "134f0428-6cee-4091-9f23-d49168f49ae1",
   "metadata": {},
   "outputs": [
    {
     "name": "stdin",
     "output_type": "stream",
     "text": [
      "Enter Radius: 16\n"
     ]
    },
    {
     "data": {
      "text/plain": [
       "17159.50933333333"
      ]
     },
     "execution_count": 45,
     "metadata": {},
     "output_type": "execute_result"
    }
   ],
   "source": [
    "r = float(input(\"Enter Radius:\"))\n",
    "\n",
    "volume = 4/3*(3.1420)*r**3\n",
    "volume\n"
   ]
  },
  {
   "cell_type": "markdown",
   "id": "2133a379-272f-4ece-8ccc-5093bab57e9b",
   "metadata": {},
   "source": [
    "# 10. Kinetic Energy:\n",
    "    Write a Python program to calculate the kinetic energy of an object. Use the formula:\n"
   ]
  },
  {
   "cell_type": "code",
   "execution_count": 52,
   "id": "ac73e259-6bdc-426e-899e-fa9cdaa9236b",
   "metadata": {},
   "outputs": [
    {
     "name": "stdin",
     "output_type": "stream",
     "text": [
      "Enter Mass In KG: 58\n",
      "Enter Velocity In m/s: 35\n"
     ]
    },
    {
     "data": {
      "text/plain": [
       "35525.0"
      ]
     },
     "execution_count": 52,
     "metadata": {},
     "output_type": "execute_result"
    }
   ],
   "source": [
    " m = float(input(\"Enter Mass In KG:\"))\n",
    "v = float(input(\"Enter Velocity In m/s:\"))\n",
    "\n",
    "KE = (1/2)*m*v**2\n",
    "KE"
   ]
  },
  {
   "cell_type": "markdown",
   "id": "13c6b340-e20f-45cf-bb34-d02ba8196c09",
   "metadata": {},
   "source": [
    "# 11. Quadratic Equation Roots:\n",
    "    Write a Python program to find the roots of a quadratic equation. Use the formula:\n"
   ]
  },
  {
   "cell_type": "code",
   "execution_count": 57,
   "id": "33c4dbc1-3ca1-48e9-9ab8-0833053e7581",
   "metadata": {},
   "outputs": [
    {
     "name": "stdin",
     "output_type": "stream",
     "text": [
      "Enter Value_1: 2\n",
      "Enter Value_2: 6\n",
      "Enter Value_3: 4\n"
     ]
    }
   ],
   "source": [
    "a = float(input(\"Enter Value_1:\"))\n",
    "b = float(input(\"Enter Value_2:\"))\n",
    "c = float(input(\"Enter Value_3:\"))\n"
   ]
  },
  {
   "cell_type": "code",
   "execution_count": 59,
   "id": "b0f84326-34cb-4bf3-9b7b-ac674eaab195",
   "metadata": {},
   "outputs": [
    {
     "data": {
      "text/plain": [
       "4.0"
      ]
     },
     "execution_count": 59,
     "metadata": {},
     "output_type": "execute_result"
    }
   ],
   "source": [
    "y = (b**2-4*a*c)\n",
    "y\n"
   ]
  },
  {
   "cell_type": "code",
   "execution_count": 61,
   "id": "e9632a03-b90c-47cc-95a1-71e8942eeec7",
   "metadata": {},
   "outputs": [
    {
     "data": {
      "text/plain": [
       "2.0"
      ]
     },
     "execution_count": 61,
     "metadata": {},
     "output_type": "execute_result"
    }
   ],
   "source": [
    "z = y**1/2\n",
    "z\n"
   ]
  },
  {
   "cell_type": "code",
   "execution_count": 63,
   "id": "f7cded74-d117-47d1-8cae-1f76a36ad3b5",
   "metadata": {},
   "outputs": [
    {
     "data": {
      "text/plain": [
       "8.0"
      ]
     },
     "execution_count": 63,
     "metadata": {},
     "output_type": "execute_result"
    }
   ],
   "source": [
    "X1 = b+z/2*a\n",
    "X1\n"
   ]
  },
  {
   "cell_type": "code",
   "execution_count": 65,
   "id": "5a799bd7-0a69-499d-b2a1-0823d5af968e",
   "metadata": {},
   "outputs": [
    {
     "data": {
      "text/plain": [
       "-8.0"
      ]
     },
     "execution_count": 65,
     "metadata": {},
     "output_type": "execute_result"
    }
   ],
   "source": [
    "X2  =-b-z/2*a\n",
    "X2\n"
   ]
  },
  {
   "cell_type": "markdown",
   "id": "595a3ed8-88ba-466c-9b07-0653bc4d5eb2",
   "metadata": {},
   "source": [
    "# 12. Temperature Conversion:\n",
    "    Write a Python program to convert a temperature from Celsius to Fahrenheit. Use the formula:\n"
   ]
  },
  {
   "cell_type": "code",
   "execution_count": 68,
   "id": "59166e1b-9780-4951-8a1b-dd9af752b04c",
   "metadata": {},
   "outputs": [
    {
     "name": "stdin",
     "output_type": "stream",
     "text": [
      "Enter Temoerature: 35\n"
     ]
    },
    {
     "data": {
      "text/plain": [
       "95.0"
      ]
     },
     "execution_count": 68,
     "metadata": {},
     "output_type": "execute_result"
    }
   ],
   "source": [
    "C = float(input(\"Enter Temoerature:\"))\n",
    "\n",
    "F = 9/5*C+32\n",
    "F\n"
   ]
  },
  {
   "cell_type": "markdown",
   "id": "6411f16a-8364-41f6-8798-75bf1db6c8e2",
   "metadata": {},
   "source": [
    "# 13. Gravitational Force:\n",
    "    Write a Python program to calculate the gravitational force between two objects. Use the formula:\n"
   ]
  },
  {
   "cell_type": "code",
   "execution_count": 71,
   "id": "bc8c5d50-0a34-4ed7-be6c-c08910259c9d",
   "metadata": {},
   "outputs": [
    {
     "name": "stdin",
     "output_type": "stream",
     "text": [
      "Enter mass_1: 36\n",
      "Enter mass_2: 19\n",
      "Enter radius: 25\n"
     ]
    },
    {
     "data": {
      "text/plain": [
       "1.0944"
      ]
     },
     "execution_count": 71,
     "metadata": {},
     "output_type": "execute_result"
    }
   ],
   "source": [
    "m1 = float(input(\"Enter mass_1:\"))\n",
    "m2 = float(input(\"Enter mass_2:\"))\n",
    "r = float(input(\"Enter radius:\"))\n",
    "\n",
    "a = m1*m2/r**2\n",
    "a"
   ]
  },
  {
   "cell_type": "code",
   "execution_count": 73,
   "id": "747f13d2-ba51-4c64-8da0-bdf10cc0cbc8",
   "metadata": {},
   "outputs": [
    {
     "data": {
      "text/plain": [
       "7.304025599999999e-11"
      ]
     },
     "execution_count": 73,
     "metadata": {},
     "output_type": "execute_result"
    }
   ],
   "source": [
    "F = (6.674*10**-11)*a\n",
    "F\n"
   ]
  },
  {
   "cell_type": "markdown",
   "id": "8fa371c6-69fa-4d00-8c04-16158e46f90f",
   "metadata": {},
   "source": [
    "# 14. Volume of a Cylinder:\n",
    "    Write a Python program to calculate the volume of a cylinder. Use the formula:\n"
   ]
  },
  {
   "cell_type": "code",
   "execution_count": 79,
   "id": "da05d87c-3349-4900-a7fe-5df308488f6d",
   "metadata": {},
   "outputs": [
    {
     "name": "stdin",
     "output_type": "stream",
     "text": [
      "Enter Radius: 6\n",
      "Enter Height: 8\n"
     ]
    },
    {
     "data": {
      "text/plain": [
       "904.896"
      ]
     },
     "execution_count": 79,
     "metadata": {},
     "output_type": "execute_result"
    }
   ],
   "source": [
    "r = float(input(\"Enter Radius:\"))\n",
    "h = float(input(\"Enter Height:\"))\n",
    "\n",
    "volume =(3.142)*(r**2)*(h)\n",
    "volume"
   ]
  },
  {
   "cell_type": "markdown",
   "id": "3722be03-5c2a-4bda-b630-247ced2ff88a",
   "metadata": {},
   "source": [
    "# 15. Pressure:\n",
    "    Write a Python program to calculate the pressure exerted by a force on a surface. Use the formula:\n"
   ]
  },
  {
   "cell_type": "markdown",
   "id": "b9946370-8c02-4c46-83a6-f017fb1adbbd",
   "metadata": {},
   "source": [
    "f = float(input(\"Enter Force:\"))\n",
    "A = float(input(\"Enter Area:\"))\n",
    "\n",
    "p = f/A\n",
    "p"
   ]
  },
  {
   "cell_type": "markdown",
   "id": "6d141516-b004-4247-8ade-1e9012556335",
   "metadata": {},
   "source": [
    "# 16. Electric Power:\n",
    "    Write a Python program to calculate the electric power consumed. Use the formula:\n"
   ]
  },
  {
   "cell_type": "code",
   "execution_count": 86,
   "id": "3690a481-ba8a-49a5-8034-895bd3756b6b",
   "metadata": {},
   "outputs": [
    {
     "name": "stdin",
     "output_type": "stream",
     "text": [
      "Enter Votage: 13\n",
      "Enter Current: 10\n"
     ]
    },
    {
     "data": {
      "text/plain": [
       "1.3"
      ]
     },
     "execution_count": 86,
     "metadata": {},
     "output_type": "execute_result"
    }
   ],
   "source": [
    "V = float(input(\"Enter Votage:\"))\n",
    "I = float(input(\"Enter Current:\"))\n",
    "\n",
    "P = V/I\n",
    "P"
   ]
  },
  {
   "cell_type": "markdown",
   "id": "04704349-05f2-494e-ae0c-d33c32602ac4",
   "metadata": {},
   "source": [
    "# 17. Perimeter of a Circle (Circumference):\n",
    "    Write a Python program to calculate the perimeter (circumference) of a circle. Use the formula:\n"
   ]
  },
  {
   "cell_type": "code",
   "execution_count": 89,
   "id": "50f93a08-ef0b-4785-9323-9fc4362395cf",
   "metadata": {},
   "outputs": [
    {
     "name": "stdin",
     "output_type": "stream",
     "text": [
      "Enter radius: 14\n"
     ]
    },
    {
     "data": {
      "text/plain": [
       "87.976"
      ]
     },
     "execution_count": 89,
     "metadata": {},
     "output_type": "execute_result"
    }
   ],
   "source": [
    "r = float(input(\"Enter radius:\"))\n",
    "\n",
    "P = 2*3.142*r\n",
    "P\n"
   ]
  },
  {
   "cell_type": "markdown",
   "id": "71c655cc-6869-49f8-9a0e-63ff75a52025",
   "metadata": {},
   "source": [
    "# 18. Future Value in Savings:\n",
    "    Write a Python program to calculate the future value of an investment. Use the formula:\n"
   ]
  },
  {
   "cell_type": "code",
   "execution_count": 98,
   "id": "26d61674-829b-4d11-889c-40b1dbd1a7cd",
   "metadata": {},
   "outputs": [
    {
     "name": "stdin",
     "output_type": "stream",
     "text": [
      "Enter Present Value: 5\n",
      "Enter Annual Interest Rate: 3\n",
      "Enter Time In Years: 8\n"
     ]
    },
    {
     "data": {
      "text/plain": [
       "327680.0"
      ]
     },
     "execution_count": 98,
     "metadata": {},
     "output_type": "execute_result"
    }
   ],
   "source": [
    "PV = float(input(\"Enter Present Value:\"))\n",
    "r = float(input(\"Enter Annual Interest Rate:\"))\n",
    "t = float(input(\"Enter Time In Years:\"))\n",
    "\n",
    "FV = PV*(1+r)**t\n",
    "FV\n"
   ]
  },
  {
   "cell_type": "markdown",
   "id": "65ba0e67-f204-4c05-8855-eae08c998367",
   "metadata": {},
   "source": [
    "# 19. Work Done by a Force:\n",
    "    Write a Python program to calculate the work done by a force. Use the formula:\n"
   ]
  },
  {
   "cell_type": "code",
   "execution_count": 101,
   "id": "983efc58-e2e4-482c-9034-2237544feb48",
   "metadata": {},
   "outputs": [
    {
     "name": "stdin",
     "output_type": "stream",
     "text": [
      "Enter Force: 15\n",
      "Enter Total Distance: 12\n",
      "Enter Angle: 20\n"
     ]
    },
    {
     "data": {
      "text/plain": [
       "125.99999999999999"
      ]
     },
     "execution_count": 101,
     "metadata": {},
     "output_type": "execute_result"
    }
   ],
   "source": [
    "f = float(input(\"Enter Force:\"))\n",
    "d = float(input(\"Enter Total Distance:\"))\n",
    "theta = float(input(\"Enter Angle:\"))\n",
    "\n",
    "W = f*d*(0.70)\n",
    "W\n"
   ]
  },
  {
   "cell_type": "markdown",
   "id": "80f37237-dc79-4d98-841b-76d069c202ce",
   "metadata": {},
   "source": [
    "# 20. Heat Transfer:\n",
    "    Write a Python program to calculate the amount of heat transferred. Use the formula:\n"
   ]
  },
  {
   "cell_type": "code",
   "execution_count": 110,
   "id": "048b33c3-2c08-40cf-a414-84c2d39fe3aa",
   "metadata": {},
   "outputs": [
    {
     "name": "stdin",
     "output_type": "stream",
     "text": [
      "Enter Mass: 55\n",
      "Enter Heat Capacity: 60\n",
      "Enter Temperature_1: 30\n",
      "Enter Temperature_2: 35\n"
     ]
    },
    {
     "data": {
      "text/plain": [
       "16500.0"
      ]
     },
     "execution_count": 110,
     "metadata": {},
     "output_type": "execute_result"
    }
   ],
   "source": [
    "m = float(input(\"Enter Mass:\"))\n",
    "c = float(input(\"Enter Heat Capacity:\"))\n",
    "\n",
    "T1 = float(input(\"Enter Temperature_1:\"))\n",
    "T2 = float(input(\"Enter Temperature_2:\"))\n",
    "\n",
    "Q = m*c*(T2-T1)\n",
    "Q"
   ]
  },
  {
   "cell_type": "code",
   "execution_count": null,
   "id": "c481f33f-abc4-42d9-98a5-c9478c630f80",
   "metadata": {},
   "outputs": [],
   "source": []
  }
 ],
 "metadata": {
  "kernelspec": {
   "display_name": "Python 3 (ipykernel)",
   "language": "python",
   "name": "python3"
  },
  "language_info": {
   "codemirror_mode": {
    "name": "ipython",
    "version": 3
   },
   "file_extension": ".py",
   "mimetype": "text/x-python",
   "name": "python",
   "nbconvert_exporter": "python",
   "pygments_lexer": "ipython3",
   "version": "3.12.7"
  }
 },
 "nbformat": 4,
 "nbformat_minor": 5
}
