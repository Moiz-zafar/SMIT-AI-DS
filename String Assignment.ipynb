{
 "cells": [
  {
   "cell_type": "markdown",
   "id": "ea3c38f7-a10b-47e9-a054-d0fb5fcba84c",
   "metadata": {},
   "source": [
    "### 1. Write a program that accepts a string from user. Your program should count and display number of vowels in that string.\n"
   ]
  },
  {
   "cell_type": "code",
   "execution_count": 2,
   "id": "f99e9308-eb90-42f4-9311-1da8cc8805ab",
   "metadata": {},
   "outputs": [
    {
     "name": "stdin",
     "output_type": "stream",
     "text": [
      "Enter string: moiz\n"
     ]
    },
    {
     "name": "stdout",
     "output_type": "stream",
     "text": [
      "There are 2 vowels in this string\n"
     ]
    }
   ],
   "source": [
    "string=input(\"Enter string:\").lower()\n",
    "vowels=('a','e','i','o','u')\n",
    "count=0\n",
    "for ch in string:\n",
    "    if ch in vowels:\n",
    "        count+=1\n",
    "print(f\"There are {count} vowels in this string\")\n"
   ]
  },
  {
   "cell_type": "markdown",
   "id": "be1cb1da-a0f7-4b63-8dea-c856523bc53f",
   "metadata": {},
   "source": [
    "## 2. Write a program that reads a string from keyboard and display:\n",
    "    The number of uppercase letters in the string\n",
    "    The number of lowercase letters in the string\n",
    "    The number of digits in the string\n",
    "    The number of whitespace characters in the string\n"
   ]
  },
  {
   "cell_type": "code",
   "execution_count": 5,
   "id": "242de105-697d-47f2-b92e-fc614fbbf38f",
   "metadata": {},
   "outputs": [
    {
     "name": "stdin",
     "output_type": "stream",
     "text": [
      "Enter string: Hello, World \n"
     ]
    },
    {
     "name": "stdout",
     "output_type": "stream",
     "text": [
      "The number of spaces in your string is: 2\n",
      "The number of digits in your string is: 0\n",
      "The number of lowercase letters in your string is: 8\n",
      "The number of uppercase lettters in your string is: 2\n"
     ]
    }
   ],
   "source": [
    "string=input(\"Enter string:\")\n",
    "count_space=0\n",
    "count_digit=0\n",
    "count_lower=0\n",
    "count_upper=0\n",
    "for a in string:\n",
    "    if a==' ':\n",
    "        count_space+=1\n",
    "    if a.isdigit():\n",
    "        count_digit+=1\n",
    "    if a.islower():\n",
    "        count_lower+=1\n",
    "    if a.isupper():\n",
    "        count_upper+=1\n",
    "print(f\"\"\"The number of spaces in your string is: {count_space}\n",
    "The number of digits in your string is: {count_digit}\n",
    "The number of lowercase letters in your string is: {count_lower}\n",
    "The number of uppercase lettters in your string is: {count_upper}\"\"\")\n"
   ]
  },
  {
   "cell_type": "markdown",
   "id": "db8fbe67-fd51-4229-a9e7-61d0f12b0e48",
   "metadata": {},
   "source": [
    "## 3. Write a Python program that accepts a string from user. Your program should create and display a new string where the first and last characters have been exchanged.\n"
   ]
  },
  {
   "cell_type": "code",
   "execution_count": 8,
   "id": "521fb0bc-02eb-4e1c-922a-60d162ef7ce8",
   "metadata": {},
   "outputs": [
    {
     "name": "stdin",
     "output_type": "stream",
     "text": [
      "Enter string: karachi\n"
     ]
    },
    {
     "name": "stdout",
     "output_type": "stream",
     "text": [
      "iarachk\n"
     ]
    }
   ],
   "source": [
    "string=input(\"Enter string:\")\n",
    "if len(string)==1:\n",
    "    print(string)\n",
    "else: \n",
    "    first_ch=string[:1:]\n",
    "    last_ch=string[-1::]\n",
    "    mid_str=string[1:-1:]\n",
    "    new_string=last_ch+mid_str+first_ch\n",
    "    print(new_string)\n"
   ]
  },
  {
   "cell_type": "markdown",
   "id": "c2dd29b4-19ca-4a0d-b63b-98c007687ba1",
   "metadata": {},
   "source": [
    "## 4. Write a Python program that accepts a string from user. Your program should create a new string in reverse of first string and display it.\n"
   ]
  },
  {
   "cell_type": "code",
   "execution_count": 11,
   "id": "9ec4d95a-b405-416c-8741-645fe6b78bd5",
   "metadata": {},
   "outputs": [
    {
     "name": "stdin",
     "output_type": "stream",
     "text": [
      "Enter string: hello\n"
     ]
    },
    {
     "name": "stdout",
     "output_type": "stream",
     "text": [
      "olleh\n"
     ]
    }
   ],
   "source": [
    "norm_str=input(\"Enter string:\")\n",
    "new_str=norm_str[::-1]\n",
    "print(new_str)\n"
   ]
  },
  {
   "cell_type": "markdown",
   "id": "f6c57ec2-71b8-4cc1-b889-4a5e7076f9ab",
   "metadata": {},
   "source": [
    "## 5. Write a Python program that accepts a string from user. Your program should create a new string by shifting one position to left.\n"
   ]
  },
  {
   "cell_type": "code",
   "execution_count": 14,
   "id": "de8d31e6-4cb9-4ad6-92cd-08d77938eac6",
   "metadata": {},
   "outputs": [
    {
     "name": "stdin",
     "output_type": "stream",
     "text": [
      "Enter string: pakistan\n"
     ]
    },
    {
     "name": "stdout",
     "output_type": "stream",
     "text": [
      "akistanp\n"
     ]
    }
   ],
   "source": [
    "string=input(\"Enter string:\")\n",
    "first_ch=string[:1:]\n",
    "mid_str=string[1::]\n",
    "print(mid_str+first_ch)   \n"
   ]
  },
  {
   "cell_type": "markdown",
   "id": "392ab75a-a7ed-4bda-b58b-a8b55448ae36",
   "metadata": {},
   "source": [
    "### 6. Write a program that asks the user to input his name and print its initials. Assuming that the user always types first name, middle name and last name and does not include any unnecessary spaces\n",
    "    For example, if the user enters Ajay Kumar Garg the program should display A. K. G. Note:Don't use split() method\n",
    "\n"
   ]
  },
  {
   "cell_type": "code",
   "execution_count": 18,
   "id": "87a64642-43d9-4671-ae81-d7ee22272e0e",
   "metadata": {},
   "outputs": [
    {
     "name": "stdin",
     "output_type": "stream",
     "text": [
      "Enter your full name Mahinder Singh Dohni\n"
     ]
    },
    {
     "name": "stdout",
     "output_type": "stream",
     "text": [
      "M.S.D."
     ]
    }
   ],
   "source": [
    "name=input(\"Enter your full name\").title()\n",
    "for a in name:\n",
    "    if a.isupper():\n",
    "        print(a,end='.')"
   ]
  },
  {
   "cell_type": "markdown",
   "id": "8fb39004-e0a1-460c-8931-230fd1195291",
   "metadata": {},
   "source": [
    "## 7. A palindrome is a string that reads the same backward as forward. For example, the words dad, madam and radar are all palindromes. Write a programs that determines whether the string is a palindrome.\n"
   ]
  },
  {
   "cell_type": "code",
   "execution_count": 21,
   "id": "7a98e260-07dc-43fa-ae97-aa0b4325a2f8",
   "metadata": {},
   "outputs": [
    {
     "name": "stdin",
     "output_type": "stream",
     "text": [
      "Enter string: madam\n"
     ]
    },
    {
     "name": "stdout",
     "output_type": "stream",
     "text": [
      "This string is a palindrome\n"
     ]
    }
   ],
   "source": [
    "pal=input(\"Enter string:\").replace(' ','').lower()\n",
    "new_pal=pal[::-1]\n",
    "if new_pal==pal:\n",
    "    print(\"This string is a palindrome\")\n",
    "else:\n",
    "    print(\"This string is not a palindrome\")\n"
   ]
  },
  {
   "cell_type": "markdown",
   "id": "0a6998d3-c32a-4c17-a125-9e9a11b77b4e",
   "metadata": {},
   "source": [
    "## 8. Write a program that display following output:\n",
    "    SHIFT\n",
    "    HIFTS\n",
    "    IFTSH\n",
    "    FTSHI\n",
    "    TSHIF\n",
    "    SHIFT\n"
   ]
  },
  {
   "cell_type": "code",
   "execution_count": 25,
   "id": "a919f04e-9094-4ef6-87f8-8e8c323a4dcd",
   "metadata": {},
   "outputs": [
    {
     "name": "stdin",
     "output_type": "stream",
     "text": [
      "Enter string: SHIFT\n"
     ]
    },
    {
     "name": "stdout",
     "output_type": "stream",
     "text": [
      "SHIFT\n",
      "HIFTS\n",
      "IFTSH\n",
      "FTSHI\n",
      "TSHIF\n",
      "SHIFT\n"
     ]
    }
   ],
   "source": [
    "string1=input(\"Enter string:\")\n",
    "for a in range(len(string1)+1):\n",
    "    print(string1)\n",
    "    string1 = string1[1:] + string1[0]\n"
   ]
  },
  {
   "cell_type": "markdown",
   "id": "9ad250b3-dbb9-4b23-852c-15c1f81c46df",
   "metadata": {},
   "source": [
    "## 9. Write a program in python that accepts a string to setup a passwords. Your entered password must meet the following requirements:\n",
    "    The password must be at least eight characters long.\n",
    "    It must contain at least one uppercase letter.\n",
    "    It must contain at least one lowercase letter.\n",
    "    It must contain at least one numeric digit.\n",
    "    Your program should should perform this validation.\n"
   ]
  },
  {
   "cell_type": "code",
   "execution_count": 29,
   "id": "67a882fc-74ab-49a1-afd5-2269312b7603",
   "metadata": {},
   "outputs": [
    {
     "name": "stdin",
     "output_type": "stream",
     "text": [
      "Enter Password: Moiz123\n"
     ]
    },
    {
     "name": "stdout",
     "output_type": "stream",
     "text": [
      "Your password has been updated\n"
     ]
    }
   ],
   "source": [
    "password=input(\"Enter Password:\")\n",
    "if len(password)<7:   \n",
    "    print(\"Your password must be at least 8 characters long\")\n",
    "else:\n",
    "    has_upper=False\n",
    "    has_lower=False\n",
    "    has_digit=False\n",
    "    for a in password:\n",
    "        if a.islower():\n",
    "            has_lower=True\n",
    "        if a.isupper():\n",
    "            has_upper=True\n",
    "        if a.isdigit():\n",
    "            has_digit=True\n",
    "    if not has_lower:\n",
    "        print(\"Your password must contain at least one lowercase letter.\")\n",
    "    if not has_upper:\n",
    "        print(\"Your password must contain at least one uppercase letter.\")\n",
    "    if not has_digit:\n",
    "        print(\"Your pass must contain at least one numeric digit.\")\n",
    "    if has_upper and has_lower and has_digit:\n",
    "        print(\"Your password has been updated\")\n"
   ]
  },
  {
   "cell_type": "code",
   "execution_count": null,
   "id": "db2e1425-9db2-46e1-9846-37cea21b37d2",
   "metadata": {},
   "outputs": [],
   "source": []
  }
 ],
 "metadata": {
  "kernelspec": {
   "display_name": "Python 3 (ipykernel)",
   "language": "python",
   "name": "python3"
  },
  "language_info": {
   "codemirror_mode": {
    "name": "ipython",
    "version": 3
   },
   "file_extension": ".py",
   "mimetype": "text/x-python",
   "name": "python",
   "nbconvert_exporter": "python",
   "pygments_lexer": "ipython3",
   "version": "3.12.7"
  }
 },
 "nbformat": 4,
 "nbformat_minor": 5
}
