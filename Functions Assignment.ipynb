{
 "cells": [
  {
   "cell_type": "markdown",
   "id": "3c747cfa-836d-4074-a04f-6eedd3159579",
   "metadata": {},
   "source": [
    "## 1. Write a Python function to find the maximum of three numbers.\n"
   ]
  },
  {
   "cell_type": "code",
   "execution_count": 2,
   "id": "d9b351d3-2e9b-4554-8657-8c83a6f1388c",
   "metadata": {},
   "outputs": [],
   "source": [
    "def find_max(num1,num2,num3):\n",
    "    if num1>num2 and num1>num3:\n",
    "        return num1\n",
    "    elif num2>num1 and num2>num3:\n",
    "        return num2\n",
    "    else:\n",
    "        return num3"
   ]
  },
  {
   "cell_type": "markdown",
   "id": "8a0ca3a9-eb05-4295-831e-20e36684cf22",
   "metadata": {},
   "source": [
    "find_max(15,25,32)"
   ]
  },
  {
   "cell_type": "markdown",
   "id": "60af9a22-9b70-4ba7-b1a4-19033f7ad8b3",
   "metadata": {},
   "source": [
    "## 2. Write a Python function to sum all the numbers in a list.\n",
    "    Sample List : (8, 2, 3, 0, 7)\n",
    "    Expected Output : 20 \n"
   ]
  },
  {
   "cell_type": "code",
   "execution_count": 15,
   "id": "a5edb0cc-f154-4ec7-8698-dc3eeb036b93",
   "metadata": {},
   "outputs": [],
   "source": [
    "def sum_num(num1,num2,*num):\n",
    "    nem=0\n",
    "    for a in num:\n",
    "        nem+=a\n",
    "        x = nem+num1+num2\n",
    "    return x"
   ]
  },
  {
   "cell_type": "code",
   "execution_count": 17,
   "id": "169ee10e-639c-4e98-ae6e-4209bef49d55",
   "metadata": {},
   "outputs": [
    {
     "data": {
      "text/plain": [
       "20"
      ]
     },
     "execution_count": 17,
     "metadata": {},
     "output_type": "execute_result"
    }
   ],
   "source": [
    "sum_num(8,2,3,0,7)"
   ]
  },
  {
   "cell_type": "markdown",
   "id": "3ccc727f-3d15-4539-bac1-83cf41d7a4eb",
   "metadata": {},
   "source": [
    "## 3. Write a Python function to multiply all the numbers in a list.\n",
    "    Sample List : (8, 2, 3, -1, 7)\n",
    "    Expected Output : -336 "
   ]
  },
  {
   "cell_type": "code",
   "execution_count": 5,
   "id": "639f9bee-804a-4c05-94e1-6b22f0179701",
   "metadata": {},
   "outputs": [],
   "source": [
    "def multi_num(lst):\n",
    "    x=1\n",
    "    for a in lst:\n",
    "        x*=a\n",
    "    return x"
   ]
  },
  {
   "cell_type": "code",
   "execution_count": 7,
   "id": "65cdfd00-b734-4346-af23-b173e3826e59",
   "metadata": {},
   "outputs": [
    {
     "data": {
      "text/plain": [
       "-336"
      ]
     },
     "execution_count": 7,
     "metadata": {},
     "output_type": "execute_result"
    }
   ],
   "source": [
    "multi_num([8,2,3,-1,7])"
   ]
  },
  {
   "cell_type": "markdown",
   "id": "9837a5a4-7caf-4264-91dc-31f8012551c0",
   "metadata": {},
   "source": [
    "## 4. Write a Python program to reverse a string.\n",
    "    Sample String : \"1234abcd\"\n",
    "    Expected Output : \"dcba4321\" \n"
   ]
  },
  {
   "cell_type": "code",
   "execution_count": 14,
   "id": "9df59e10-6bae-49e7-b38a-6043ea568802",
   "metadata": {},
   "outputs": [],
   "source": [
    "def rev_str(string):\n",
    "        string=string[::-1]\n",
    "        return string"
   ]
  },
  {
   "cell_type": "code",
   "execution_count": 16,
   "id": "5df84c83-a4e7-4b27-8e7b-bca2ad591ddc",
   "metadata": {},
   "outputs": [
    {
     "data": {
      "text/plain": [
       "'dcba4321'"
      ]
     },
     "execution_count": 16,
     "metadata": {},
     "output_type": "execute_result"
    }
   ],
   "source": [
    "rev_str(\"1234abcd\")"
   ]
  },
  {
   "cell_type": "markdown",
   "id": "16a4304c-f9dd-495a-8269-4232c18bcecc",
   "metadata": {},
   "source": [
    "## 5. Write a Python function to calculate the factorial of a number (a non-negative integer). The function accepts the number as an argument.\n"
   ]
  },
  {
   "cell_type": "code",
   "execution_count": 19,
   "id": "35270b84-ea5b-489c-b80c-d10bf9bf9ef9",
   "metadata": {},
   "outputs": [],
   "source": [
    "def fact(fac):\n",
    "    tot=1\n",
    "    if fac>0:\n",
    "        for i in range(1,fac+1):\n",
    "            tot=tot*i\n",
    "        return f\"The Factorial of {fac} is {tot}\"\n",
    "    elif fac==0:\n",
    "        return \"The factorial of 0 is 1\"\n",
    "    elif fac<0:\n",
    "        return \"Factorial does not exist for negative numbers\""
   ]
  },
  {
   "cell_type": "code",
   "execution_count": 21,
   "id": "89e814d5-9609-4a8c-9d82-6f1a328d76ce",
   "metadata": {},
   "outputs": [
    {
     "data": {
      "text/plain": [
       "'The Factorial of 6 is 720'"
      ]
     },
     "execution_count": 21,
     "metadata": {},
     "output_type": "execute_result"
    }
   ],
   "source": [
    "fact(6)"
   ]
  },
  {
   "cell_type": "code",
   "execution_count": 23,
   "id": "7a5bfd05-8e9d-4678-b605-491054f78489",
   "metadata": {},
   "outputs": [
    {
     "data": {
      "text/plain": [
       "'The factorial of 0 is 1'"
      ]
     },
     "execution_count": 23,
     "metadata": {},
     "output_type": "execute_result"
    }
   ],
   "source": [
    "fact(0)"
   ]
  },
  {
   "cell_type": "code",
   "execution_count": 25,
   "id": "d9de012d-8f6c-4c29-9091-37483090955b",
   "metadata": {},
   "outputs": [
    {
     "data": {
      "text/plain": [
       "'Factorial does not exist for negative numbers'"
      ]
     },
     "execution_count": 25,
     "metadata": {},
     "output_type": "execute_result"
    }
   ],
   "source": [
    "fact(-1)"
   ]
  },
  {
   "cell_type": "markdown",
   "id": "6dec18a5-ecb5-499c-b9fa-c7b2063c1d3f",
   "metadata": {},
   "source": [
    "## 6. Write a Python function to check whether a number falls within a given range.\n"
   ]
  },
  {
   "cell_type": "code",
   "execution_count": 28,
   "id": "485bbe4b-8f67-4999-8657-cd8b88842220",
   "metadata": {},
   "outputs": [],
   "source": [
    "def is_within_range(num,fro,to):\n",
    "    if num<=to and num>=fro:\n",
    "        return True\n",
    "    else:\n",
    "        return False\n"
   ]
  },
  {
   "cell_type": "code",
   "execution_count": 30,
   "id": "534caebc-cc34-464b-92e9-fa9b440e3f87",
   "metadata": {},
   "outputs": [
    {
     "data": {
      "text/plain": [
       "True"
      ]
     },
     "execution_count": 30,
     "metadata": {},
     "output_type": "execute_result"
    }
   ],
   "source": [
    "is_within_range(7,3,10)\n"
   ]
  },
  {
   "cell_type": "code",
   "execution_count": 32,
   "id": "73ea18af-3dd9-4a48-a302-1d139a5f3a3b",
   "metadata": {},
   "outputs": [
    {
     "data": {
      "text/plain": [
       "False"
      ]
     },
     "execution_count": 32,
     "metadata": {},
     "output_type": "execute_result"
    }
   ],
   "source": [
    "is_within_range(7,8,20)\n"
   ]
  },
  {
   "cell_type": "markdown",
   "id": "37779eaa-a1b9-461f-a355-4a802f283824",
   "metadata": {},
   "source": [
    "## 7. Write a Python function that accepts a string and counts the number of upper and lower case letters.\n",
    "    \n",
    "    Sample String : 'The quick Brow Fox'\n",
    "    Expected Output :\n",
    "    No. of Upper case characters : 3\n",
    "    No. of Lower case Characters : 12 \n"
   ]
  },
  {
   "cell_type": "code",
   "execution_count": 36,
   "id": "71da14b6-5e50-4cbf-aacc-038064c55f61",
   "metadata": {},
   "outputs": [],
   "source": [
    "def upperlower_count(string):\n",
    "    num_low=0\n",
    "    num_up=0\n",
    "    for a in string:\n",
    "        if a.islower():\n",
    "            num_low=num_low+1\n",
    "        elif a.isupper():\n",
    "            num_up=num_up+1\n",
    "    return f\"\"\"No. of lower case characters : {num_low}\n",
    "No. of Upper case characters :{num_up}\"\"\""
   ]
  },
  {
   "cell_type": "code",
   "execution_count": 40,
   "id": "dafe46eb-6c1c-4a16-843c-a9e4bb5ed0cc",
   "metadata": {},
   "outputs": [
    {
     "name": "stdout",
     "output_type": "stream",
     "text": [
      "No. of lower case characters : 12\n",
      "No. of Upper case characters :3\n"
     ]
    }
   ],
   "source": [
    "print(upperlower_count(\"I am Muhammad Moiz\"))"
   ]
  },
  {
   "cell_type": "markdown",
   "id": "9eefe010-4536-45b9-95b6-78f9f880ba30",
   "metadata": {},
   "source": [
    "## 8. Write a Python function that takes a list and returns a new list with distinct elements from the first list.\n",
    "    Sample List : [1,2,3,3,3,3,4,5]\n",
    "    Unique List : [1, 2, 3, 4, 5] \n"
   ]
  },
  {
   "cell_type": "code",
   "execution_count": 47,
   "id": "93753344-e63d-40b0-ad00-d05d877a2a94",
   "metadata": {},
   "outputs": [],
   "source": [
    "def filter_list(lst):\n",
    "    b=[]\n",
    "    for a in lst:\n",
    "        if a not in b:\n",
    "            b.append(a)\n",
    "    return b"
   ]
  },
  {
   "cell_type": "code",
   "execution_count": 49,
   "id": "89956e93-a2a9-4d53-bfd2-e342ab4afa0c",
   "metadata": {},
   "outputs": [
    {
     "data": {
      "text/plain": [
       "[1, 2, 3, 4, 5]"
      ]
     },
     "execution_count": 49,
     "metadata": {},
     "output_type": "execute_result"
    }
   ],
   "source": [
    "filter_list([1,2,3,3,3,3,4,5])"
   ]
  },
  {
   "cell_type": "markdown",
   "id": "b96c6d17-c0d1-43f9-b13b-0adbed0b7743",
   "metadata": {},
   "source": [
    "## 9. Write a Python function that takes a number as a parameter and checks whether the number is prime or not.\n",
    "    Note : A prime number (or a prime) is a natural number greater than 1 and that has no positive divisors other than 1 and itself. \n"
   ]
  },
  {
   "cell_type": "code",
   "execution_count": 52,
   "id": "aa4b1775-1c1e-4393-b7a0-f6b5ab144658",
   "metadata": {},
   "outputs": [],
   "source": [
    "def is_prime(number):\n",
    "    if number<=1:\n",
    "        return False\n",
    "    if number<=3:\n",
    "        return True\n",
    "    if number%2==0 or number%3==0:\n",
    "        return False\n",
    "    for i in range(5, int(math.sqrt(number))+1,6):\n",
    "        if number%i==0 or number%(i+2)==0:\n",
    "            return False\n",
    "    return True"
   ]
  },
  {
   "cell_type": "code",
   "execution_count": 54,
   "id": "1009eaa4-f21a-4b5b-ada2-6dd0b46425e9",
   "metadata": {},
   "outputs": [
    {
     "data": {
      "text/plain": [
       "False"
      ]
     },
     "execution_count": 54,
     "metadata": {},
     "output_type": "execute_result"
    }
   ],
   "source": [
    "is_prime(8)"
   ]
  },
  {
   "cell_type": "code",
   "execution_count": 60,
   "id": "d1e69191-9cf5-4a3d-923e-ebc1fab523d6",
   "metadata": {},
   "outputs": [
    {
     "data": {
      "text/plain": [
       "True"
      ]
     },
     "execution_count": 60,
     "metadata": {},
     "output_type": "execute_result"
    }
   ],
   "source": [
    "is_prime(3)"
   ]
  },
  {
   "cell_type": "markdown",
   "id": "b7c2af6d-a49b-4a86-a56a-2f181343330d",
   "metadata": {},
   "source": [
    "## 10. Write a Python program to print the even numbers from a given list.\n",
    "    Sample List : [1, 2, 3, 4, 5, 6, 7, 8, 9]\n",
    "    Expected Result : [2, 4, 6, 8] \n"
   ]
  },
  {
   "cell_type": "code",
   "execution_count": 63,
   "id": "49e2fd94-e4b7-424b-9078-b614db0c16bc",
   "metadata": {},
   "outputs": [],
   "source": [
    "def even(ev):\n",
    "    even_list=[]\n",
    "    for a in ev:\n",
    "        if a<=0:\n",
    "            return \"You must enter real positive numbers\"\n",
    "        for e in ev:\n",
    "            if e%2==0:\n",
    "                even_list.append(e)\n",
    "        return even_list"
   ]
  },
  {
   "cell_type": "code",
   "execution_count": 65,
   "id": "a639891c-1c78-432b-bb41-03fa32f39c4c",
   "metadata": {},
   "outputs": [
    {
     "data": {
      "text/plain": [
       "[2, 4, 6, 8]"
      ]
     },
     "execution_count": 65,
     "metadata": {},
     "output_type": "execute_result"
    }
   ],
   "source": [
    "even([1,2,3,4,5,6,7,8,9])\n"
   ]
  },
  {
   "cell_type": "markdown",
   "id": "25883400-9f0b-4f8d-9f15-de72b1147e6b",
   "metadata": {},
   "source": [
    "## 11. Write a Python function to check whether a number is \"Perfect\" or not.\n",
    "    Example : The first perfect number is 6, because 1, 2, and 3 are its proper positive divisors, and 1 + 2 + 3 = 6. Equivalently, the number 6 is equal to half the sum of all its positive divisors: ( 1 + 2 + 3 + 6 ) / 2 = 6. The next perfect number is 28 = 1 + 2 + 4 + 7 + 14. This is followed by the perfect numbers 496 and 8128.\n",
    "\n"
   ]
  },
  {
   "cell_type": "code",
   "execution_count": 68,
   "id": "71511d3c-e58e-4137-96b3-af595c1cc365",
   "metadata": {},
   "outputs": [],
   "source": [
    "def is_perfect(num):\n",
    "    tot=0\n",
    "    for a in range(1,num//2+1):\n",
    "        if num%a==0:\n",
    "            tot+=a\n",
    "    if tot==num:\n",
    "        return True\n",
    "    else:\n",
    "        return False"
   ]
  },
  {
   "cell_type": "code",
   "execution_count": 70,
   "id": "849c0f8a-57f4-4815-a862-a73cb6f667ab",
   "metadata": {},
   "outputs": [
    {
     "data": {
      "text/plain": [
       "True"
      ]
     },
     "execution_count": 70,
     "metadata": {},
     "output_type": "execute_result"
    }
   ],
   "source": [
    "is_perfect(6)"
   ]
  },
  {
   "cell_type": "code",
   "execution_count": 72,
   "id": "6071c34c-edbb-4283-a588-f35301a0fb82",
   "metadata": {},
   "outputs": [
    {
     "data": {
      "text/plain": [
       "True"
      ]
     },
     "execution_count": 72,
     "metadata": {},
     "output_type": "execute_result"
    }
   ],
   "source": [
    "is_perfect(28)"
   ]
  },
  {
   "cell_type": "code",
   "execution_count": 74,
   "id": "acb62fb3-ffab-4ea7-a4d3-069b4972bc5b",
   "metadata": {},
   "outputs": [
    {
     "data": {
      "text/plain": [
       "False"
      ]
     },
     "execution_count": 74,
     "metadata": {},
     "output_type": "execute_result"
    }
   ],
   "source": [
    "is_perfect(10)"
   ]
  },
  {
   "cell_type": "markdown",
   "id": "0f953b65-8173-4c36-b4a0-e5ab76942260",
   "metadata": {},
   "source": [
    "## 12. Write a Python function that checks whether a passed string is a palindrome or not.\n",
    "    Note: A palindrome is a word, phrase, or sequence that reads the same backward as forward, e.g., madam or nurses run.\n",
    "\n"
   ]
  },
  {
   "cell_type": "code",
   "execution_count": 77,
   "id": "6a5a6a58-843b-4c27-9a43-010365fb368f",
   "metadata": {},
   "outputs": [],
   "source": [
    "def is_palin(pal):\n",
    "    pal=pal.replace(' ','').lower()\n",
    "    new_pal=pal[::-1]\n",
    "    if pal==new_pal:\n",
    "        return True\n",
    "    else:\n",
    "        return False\n"
   ]
  },
  {
   "cell_type": "code",
   "execution_count": 79,
   "id": "151ca594-643c-47d5-a154-85103aaca8f0",
   "metadata": {},
   "outputs": [
    {
     "data": {
      "text/plain": [
       "True"
      ]
     },
     "execution_count": 79,
     "metadata": {},
     "output_type": "execute_result"
    }
   ],
   "source": [
    "is_palin(\"Nurses run\")"
   ]
  },
  {
   "cell_type": "code",
   "execution_count": 81,
   "id": "cb788225-9acf-4803-92e4-290751fbc3b0",
   "metadata": {},
   "outputs": [
    {
     "data": {
      "text/plain": [
       "False"
      ]
     },
     "execution_count": 81,
     "metadata": {},
     "output_type": "execute_result"
    }
   ],
   "source": [
    "is_palin('This cant be a palindrome')\n"
   ]
  },
  {
   "cell_type": "code",
   "execution_count": null,
   "id": "4b075a3e-af56-487d-adec-df337ca96d01",
   "metadata": {},
   "outputs": [],
   "source": []
  }
 ],
 "metadata": {
  "kernelspec": {
   "display_name": "Python 3 (ipykernel)",
   "language": "python",
   "name": "python3"
  },
  "language_info": {
   "codemirror_mode": {
    "name": "ipython",
    "version": 3
   },
   "file_extension": ".py",
   "mimetype": "text/x-python",
   "name": "python",
   "nbconvert_exporter": "python",
   "pygments_lexer": "ipython3",
   "version": "3.12.7"
  }
 },
 "nbformat": 4,
 "nbformat_minor": 5
}
