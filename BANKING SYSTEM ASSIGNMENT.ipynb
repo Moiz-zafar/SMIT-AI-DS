{
 "cells": [
  {
   "cell_type": "code",
   "execution_count": 16,
   "id": "69847b5c-487e-451a-aca3-68e2082a3022",
   "metadata": {},
   "outputs": [
    {
     "name": "stdout",
     "output_type": "stream",
     "text": [
      "\n",
      "--- Bank Management System ---\n",
      "1. Create Account\n",
      "2. Deposit Money\n",
      "3. Withdraw Money\n",
      "4. Account Statement\n",
      "5. Exit\n"
     ]
    },
    {
     "name": "stdin",
     "output_type": "stream",
     "text": [
      "Enter your choice:  1\n",
      "Enter account holder name:  MOIZ\n",
      "Enter account number:  123\n"
     ]
    },
    {
     "name": "stdout",
     "output_type": "stream",
     "text": [
      "Account created successfully for MOIZ.\n",
      "\n",
      "--- Bank Management System ---\n",
      "1. Create Account\n",
      "2. Deposit Money\n",
      "3. Withdraw Money\n",
      "4. Account Statement\n",
      "5. Exit\n"
     ]
    },
    {
     "name": "stdin",
     "output_type": "stream",
     "text": [
      "Enter your choice:  2\n",
      "Enter account number:  1233\n"
     ]
    },
    {
     "name": "stdout",
     "output_type": "stream",
     "text": [
      "Account with number 1233 not found.\n",
      "\n",
      "--- Bank Management System ---\n",
      "1. Create Account\n",
      "2. Deposit Money\n",
      "3. Withdraw Money\n",
      "4. Account Statement\n",
      "5. Exit\n"
     ]
    },
    {
     "name": "stdin",
     "output_type": "stream",
     "text": [
      "Enter your choice:  2\n",
      "Enter account number:  123\n",
      "Enter deposit amount:  2564\n"
     ]
    },
    {
     "name": "stdout",
     "output_type": "stream",
     "text": [
      "Deposited 2564.0. New balance: 2564.00\n",
      "\n",
      "--- Bank Management System ---\n",
      "1. Create Account\n",
      "2. Deposit Money\n",
      "3. Withdraw Money\n",
      "4. Account Statement\n",
      "5. Exit\n"
     ]
    },
    {
     "name": "stdin",
     "output_type": "stream",
     "text": [
      "Enter your choice:  3\n",
      "Enter account number:  123\n",
      "Enter withdrawal amount:  3654\n"
     ]
    },
    {
     "name": "stdout",
     "output_type": "stream",
     "text": [
      "Insufficient funds or invalid withdrawal amount.\n",
      "\n",
      "--- Bank Management System ---\n",
      "1. Create Account\n",
      "2. Deposit Money\n",
      "3. Withdraw Money\n",
      "4. Account Statement\n",
      "5. Exit\n"
     ]
    },
    {
     "name": "stdin",
     "output_type": "stream",
     "text": [
      "Enter your choice:  3\n",
      "Enter account number:  123\n",
      "Enter withdrawal amount:  2314\n"
     ]
    },
    {
     "name": "stdout",
     "output_type": "stream",
     "text": [
      "Withdrawn 2314.0. New balance: 250.00\n",
      "\n",
      "--- Bank Management System ---\n",
      "1. Create Account\n",
      "2. Deposit Money\n",
      "3. Withdraw Money\n",
      "4. Account Statement\n",
      "5. Exit\n"
     ]
    },
    {
     "name": "stdin",
     "output_type": "stream",
     "text": [
      "Enter your choice:  4\n",
      "Enter account number:  123\n"
     ]
    },
    {
     "name": "stdout",
     "output_type": "stream",
     "text": [
      "\n",
      "Account Statement for MOIZ\n",
      "Account Number: 123\n",
      "Transaction History:\n",
      "Deposited: 2564.0\n",
      "Withdrawn: 2314.0\n",
      "Current Balance: 250.00\n",
      "\n",
      "\n",
      "--- Bank Management System ---\n",
      "1. Create Account\n",
      "2. Deposit Money\n",
      "3. Withdraw Money\n",
      "4. Account Statement\n",
      "5. Exit\n"
     ]
    },
    {
     "name": "stdin",
     "output_type": "stream",
     "text": [
      "Enter your choice:  5\n"
     ]
    },
    {
     "name": "stdout",
     "output_type": "stream",
     "text": [
      "Exiting the system. Goodbye!\n"
     ]
    }
   ],
   "source": [
    "\n",
    "class BankAccount:\n",
    "    \n",
    "    # FUNCTION TO CREATE AN ACCOUNT\n",
    "    def __init__(self, account_number, account_holder_name, initial_balance=0.0):\n",
    "        self.account_number = account_number\n",
    "        self.account_holder_name = account_holder_name\n",
    "        self.balance = initial_balance\n",
    "        self.transaction_history = []\n",
    "        \n",
    "    # FUCNTION TO DEPOSIT MONEY\n",
    "    def deposit(self, amount):\n",
    "        if amount > 0:\n",
    "            self.balance += amount\n",
    "            self.transaction_history.append(f\"Deposited: {amount}\")\n",
    "            print(f\"Deposited {amount}. New balance: {self.balance:.2f}\")\n",
    "        else:\n",
    "            print(\"Invalid deposit amount.\")\n",
    "\n",
    "    # FUNCTION TO WITHDRAW MONEY\n",
    "    def withdraw(self, amount):\n",
    "        if 0 < amount <= self.balance:\n",
    "            self.balance -= amount\n",
    "            self.transaction_history.append(f\"Withdrawn: {amount}\")\n",
    "            print(f\"Withdrawn {amount}. New balance: {self.balance:.2f}\")\n",
    "        else:\n",
    "            print(\"Insufficient funds or invalid withdrawal amount.\")\n",
    "\n",
    "    # FUNCTION FOR ACCOUNT STATEMENT\n",
    "\n",
    "    def check_balance(self):\n",
    "        print(f\"Current balance for {self.account_holder_name}: {self.balance:.2f}\")\n",
    "\n",
    "    def account_statement(self):\n",
    "        print(f\"\\nAccount Statement for {self.account_holder_name}\")\n",
    "        print(f\"Account Number: {self.account_number}\")\n",
    "        print(\"Transaction History:\")\n",
    "        for transaction in self.transaction_history:\n",
    "            print(transaction)\n",
    "        print(f\"Current Balance: {self.balance:.2f}\\n\")\n",
    "\n",
    "\n",
    "class Bank:\n",
    "    def __init__(self):\n",
    "        self.accounts = {}\n",
    "\n",
    "    def create_account(self, account_holder, account_number):\n",
    "        if account_number not in self.accounts:\n",
    "            self.accounts[account_number] = BankAccount(account_number, account_holder)\n",
    "            print(f\"Account created successfully for {account_holder}.\")\n",
    "        else:\n",
    "            print(f\"Account with number {account_number} already exists.\")\n",
    "\n",
    "    def get_account(self, account_number):\n",
    "        return self.accounts.get(account_number)\n",
    "\n",
    "\n",
    "def get_positive_float(prompt):\n",
    "    while True:\n",
    "        try:\n",
    "            value = float(input(prompt))\n",
    "            if value > 0:\n",
    "                return value\n",
    "            else:\n",
    "                print(\"Please enter a positive number.\")\n",
    "        except ValueError:\n",
    "            print(\"Invalid input. Please enter a valid number.\")\n",
    "\n",
    "\n",
    "def main():\n",
    "    bank = Bank()\n",
    "\n",
    "    while True:\n",
    "        print(\"\\n--- Bank Management System ---\")\n",
    "        print(\"1. Create Account\")\n",
    "        print(\"2. Deposit Money\")\n",
    "        print(\"3. Withdraw Money\")\n",
    "        print(\"4. Account Statement\")\n",
    "        print(\"5. Exit\")\n",
    "\n",
    "        choice = input(\"Enter your choice: \")\n",
    "\n",
    "        if choice == '1':\n",
    "            account_holder = input(\"Enter account holder name: \").strip()\n",
    "            account_number = input(\"Enter account number: \").strip()\n",
    "            if account_holder and account_number:\n",
    "                bank.create_account(account_holder, account_number)\n",
    "            else:\n",
    "                print(\"Account holder name and account number cannot be empty.\")\n",
    "\n",
    "        elif choice == '2':\n",
    "            account_number = input(\"Enter account number: \").strip()\n",
    "            account = bank.get_account(account_number)\n",
    "            if account:\n",
    "                amount = get_positive_float(\"Enter deposit amount: \")\n",
    "                account.deposit(amount)\n",
    "            else:\n",
    "                print(f\"Account with number {account_number} not found.\")\n",
    "\n",
    "        elif choice == '3':\n",
    "            account_number = input(\"Enter account number: \").strip()\n",
    "            account = bank.get_account(account_number)\n",
    "            if account:\n",
    "                amount = get_positive_float(\"Enter withdrawal amount: \")\n",
    "                account.withdraw(amount)\n",
    "            else:\n",
    "                print(f\"Account with number {account_number} not found.\")\n",
    "\n",
    "        elif choice == '4':\n",
    "            account_number = input(\"Enter account number: \").strip()\n",
    "            account = bank.get_account(account_number)\n",
    "            if account:\n",
    "                account.account_statement()\n",
    "            else:\n",
    "                print(f\"Account with number {account_number} not found.\")\n",
    "\n",
    "        elif choice == '5':\n",
    "            print(\"Exiting the system. Goodbye!\")\n",
    "            break\n",
    "\n",
    "        else:\n",
    "            print(\"Invalid choice. Please try again.\")\n",
    "\n",
    "\n",
    "if __name__ == \"__main__\":\n",
    "    main()"
   ]
  }
 ],
 "metadata": {
  "kernelspec": {
   "display_name": "Python 3 (ipykernel)",
   "language": "python",
   "name": "python3"
  },
  "language_info": {
   "codemirror_mode": {
    "name": "ipython",
    "version": 3
   },
   "file_extension": ".py",
   "mimetype": "text/x-python",
   "name": "python",
   "nbconvert_exporter": "python",
   "pygments_lexer": "ipython3",
   "version": "3.12.7"
  }
 },
 "nbformat": 4,
 "nbformat_minor": 5
}
