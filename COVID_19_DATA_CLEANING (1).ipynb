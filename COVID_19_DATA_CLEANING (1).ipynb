{
  "metadata": {
    "kernelspec": {
      "name": "python",
      "display_name": "Python (Pyodide)",
      "language": "python"
    },
    "language_info": {
      "codemirror_mode": {
        "name": "python",
        "version": 3
      },
      "file_extension": ".py",
      "mimetype": "text/x-python",
      "name": "python",
      "nbconvert_exporter": "python",
      "pygments_lexer": "ipython3",
      "version": "3.8"
    }
  },
  "nbformat_minor": 5,
  "nbformat": 4,
  "cells": [
    {
      "id": "c069fa6c-ed04-49e0-80d9-de7ec139a7fa",
      "cell_type": "code",
      "source": "import pandas as pd",
      "metadata": {
        "trusted": true
      },
      "outputs": [],
      "execution_count": 108
    },
    {
      "id": "897a8cae-2c50-46aa-81e0-8be9b0a068e4",
      "cell_type": "markdown",
      "source": "### 1: Load and Display Data → Read the dataset and print the first 5 rows",
      "metadata": {}
    },
    {
      "id": "c8c4388a-27f9-44e3-b312-635cbec47eae",
      "cell_type": "code",
      "source": "df = pd.read_csv(\"covid_19_country_wise_latest.csv\")",
      "metadata": {
        "trusted": true
      },
      "outputs": [],
      "execution_count": 109
    },
    {
      "id": "d085aecb-e88b-4a2c-8c87-f8184e98c007",
      "cell_type": "code",
      "source": "df.head()\n",
      "metadata": {
        "trusted": true
      },
      "outputs": [
        {
          "execution_count": 110,
          "output_type": "execute_result",
          "data": {
            "text/plain": "   Unnamed: 0 Country/Region  Confirmed Deaths  Recovered  Active  New cases  \\\n0           0    Afghanistan      36263   1269      25198    9796      106.0   \n1           1        Albania       4880    144       2745    1991      117.0   \n2           2        Algeria      27973   1163      18837    7973      616.0   \n3           3        Andorra        907     52        803      52       10.0   \n4           4         Angola        950     41        242     667       18.0   \n\n   New deaths  New recovered  Deaths / 100 Cases  Recovered / 100 Cases  \\\n0        10.0             18                3.50                  69.49   \n1         6.0             63                2.95                  56.25   \n2         8.0            749                4.16                  67.34   \n3         0.0              0                5.73                  88.53   \n4         1.0              0                4.32                  25.47   \n\n   Deaths / 100 Recovered  Confirmed last week  1 week change  \\\n0                    5.04                35526            737   \n1                    5.25                 4171            709   \n2                    6.17                23691           4282   \n3                    6.48                  884             23   \n4                   16.94                  749            201   \n\n   1 week % increase             WHO Region  \n0               2.07  Eastern Mediterranean  \n1              17.00                 Europe  \n2              18.07                 Africa  \n3               2.60                 Europe  \n4              26.84                 Africa  ",
            "text/html": "<div>\n<style scoped>\n    .dataframe tbody tr th:only-of-type {\n        vertical-align: middle;\n    }\n\n    .dataframe tbody tr th {\n        vertical-align: top;\n    }\n\n    .dataframe thead th {\n        text-align: right;\n    }\n</style>\n<table border=\"1\" class=\"dataframe\">\n  <thead>\n    <tr style=\"text-align: right;\">\n      <th></th>\n      <th>Unnamed: 0</th>\n      <th>Country/Region</th>\n      <th>Confirmed</th>\n      <th>Deaths</th>\n      <th>Recovered</th>\n      <th>Active</th>\n      <th>New cases</th>\n      <th>New deaths</th>\n      <th>New recovered</th>\n      <th>Deaths / 100 Cases</th>\n      <th>Recovered / 100 Cases</th>\n      <th>Deaths / 100 Recovered</th>\n      <th>Confirmed last week</th>\n      <th>1 week change</th>\n      <th>1 week % increase</th>\n      <th>WHO Region</th>\n    </tr>\n  </thead>\n  <tbody>\n    <tr>\n      <th>0</th>\n      <td>0</td>\n      <td>Afghanistan</td>\n      <td>36263</td>\n      <td>1269</td>\n      <td>25198</td>\n      <td>9796</td>\n      <td>106.0</td>\n      <td>10.0</td>\n      <td>18</td>\n      <td>3.50</td>\n      <td>69.49</td>\n      <td>5.04</td>\n      <td>35526</td>\n      <td>737</td>\n      <td>2.07</td>\n      <td>Eastern Mediterranean</td>\n    </tr>\n    <tr>\n      <th>1</th>\n      <td>1</td>\n      <td>Albania</td>\n      <td>4880</td>\n      <td>144</td>\n      <td>2745</td>\n      <td>1991</td>\n      <td>117.0</td>\n      <td>6.0</td>\n      <td>63</td>\n      <td>2.95</td>\n      <td>56.25</td>\n      <td>5.25</td>\n      <td>4171</td>\n      <td>709</td>\n      <td>17.00</td>\n      <td>Europe</td>\n    </tr>\n    <tr>\n      <th>2</th>\n      <td>2</td>\n      <td>Algeria</td>\n      <td>27973</td>\n      <td>1163</td>\n      <td>18837</td>\n      <td>7973</td>\n      <td>616.0</td>\n      <td>8.0</td>\n      <td>749</td>\n      <td>4.16</td>\n      <td>67.34</td>\n      <td>6.17</td>\n      <td>23691</td>\n      <td>4282</td>\n      <td>18.07</td>\n      <td>Africa</td>\n    </tr>\n    <tr>\n      <th>3</th>\n      <td>3</td>\n      <td>Andorra</td>\n      <td>907</td>\n      <td>52</td>\n      <td>803</td>\n      <td>52</td>\n      <td>10.0</td>\n      <td>0.0</td>\n      <td>0</td>\n      <td>5.73</td>\n      <td>88.53</td>\n      <td>6.48</td>\n      <td>884</td>\n      <td>23</td>\n      <td>2.60</td>\n      <td>Europe</td>\n    </tr>\n    <tr>\n      <th>4</th>\n      <td>4</td>\n      <td>Angola</td>\n      <td>950</td>\n      <td>41</td>\n      <td>242</td>\n      <td>667</td>\n      <td>18.0</td>\n      <td>1.0</td>\n      <td>0</td>\n      <td>4.32</td>\n      <td>25.47</td>\n      <td>16.94</td>\n      <td>749</td>\n      <td>201</td>\n      <td>26.84</td>\n      <td>Africa</td>\n    </tr>\n  </tbody>\n</table>\n</div>"
          },
          "metadata": {}
        }
      ],
      "execution_count": 110
    },
    {
      "id": "d9ac6484-3312-4da7-86eb-097274f2a3b3",
      "cell_type": "markdown",
      "source": "### \n\n2: Set the Dataset index is Unnamed: 0",
      "metadata": {}
    },
    {
      "id": "70e04301-ee2b-4150-9f80-d23f3cae1dc8",
      "cell_type": "code",
      "source": "df.set_index(\"Unnamed: 0\", inplace=True)",
      "metadata": {
        "trusted": true
      },
      "outputs": [],
      "execution_count": 111
    },
    {
      "id": "860758ae-d4dc-4f0c-843a-a9fddce4e0e6",
      "cell_type": "code",
      "source": "df.head()",
      "metadata": {
        "trusted": true
      },
      "outputs": [
        {
          "execution_count": 112,
          "output_type": "execute_result",
          "data": {
            "text/plain": "           Country/Region  Confirmed Deaths  Recovered  Active  New cases  \\\nUnnamed: 0                                                                  \n0             Afghanistan      36263   1269      25198    9796      106.0   \n1                 Albania       4880    144       2745    1991      117.0   \n2                 Algeria      27973   1163      18837    7973      616.0   \n3                 Andorra        907     52        803      52       10.0   \n4                  Angola        950     41        242     667       18.0   \n\n            New deaths  New recovered  Deaths / 100 Cases  \\\nUnnamed: 0                                                  \n0                 10.0             18                3.50   \n1                  6.0             63                2.95   \n2                  8.0            749                4.16   \n3                  0.0              0                5.73   \n4                  1.0              0                4.32   \n\n            Recovered / 100 Cases  Deaths / 100 Recovered  \\\nUnnamed: 0                                                  \n0                           69.49                    5.04   \n1                           56.25                    5.25   \n2                           67.34                    6.17   \n3                           88.53                    6.48   \n4                           25.47                   16.94   \n\n            Confirmed last week  1 week change  1 week % increase  \\\nUnnamed: 0                                                          \n0                         35526            737               2.07   \n1                          4171            709              17.00   \n2                         23691           4282              18.07   \n3                           884             23               2.60   \n4                           749            201              26.84   \n\n                       WHO Region  \nUnnamed: 0                         \n0           Eastern Mediterranean  \n1                          Europe  \n2                          Africa  \n3                          Europe  \n4                          Africa  ",
            "text/html": "<div>\n<style scoped>\n    .dataframe tbody tr th:only-of-type {\n        vertical-align: middle;\n    }\n\n    .dataframe tbody tr th {\n        vertical-align: top;\n    }\n\n    .dataframe thead th {\n        text-align: right;\n    }\n</style>\n<table border=\"1\" class=\"dataframe\">\n  <thead>\n    <tr style=\"text-align: right;\">\n      <th></th>\n      <th>Country/Region</th>\n      <th>Confirmed</th>\n      <th>Deaths</th>\n      <th>Recovered</th>\n      <th>Active</th>\n      <th>New cases</th>\n      <th>New deaths</th>\n      <th>New recovered</th>\n      <th>Deaths / 100 Cases</th>\n      <th>Recovered / 100 Cases</th>\n      <th>Deaths / 100 Recovered</th>\n      <th>Confirmed last week</th>\n      <th>1 week change</th>\n      <th>1 week % increase</th>\n      <th>WHO Region</th>\n    </tr>\n    <tr>\n      <th>Unnamed: 0</th>\n      <th></th>\n      <th></th>\n      <th></th>\n      <th></th>\n      <th></th>\n      <th></th>\n      <th></th>\n      <th></th>\n      <th></th>\n      <th></th>\n      <th></th>\n      <th></th>\n      <th></th>\n      <th></th>\n      <th></th>\n    </tr>\n  </thead>\n  <tbody>\n    <tr>\n      <th>0</th>\n      <td>Afghanistan</td>\n      <td>36263</td>\n      <td>1269</td>\n      <td>25198</td>\n      <td>9796</td>\n      <td>106.0</td>\n      <td>10.0</td>\n      <td>18</td>\n      <td>3.50</td>\n      <td>69.49</td>\n      <td>5.04</td>\n      <td>35526</td>\n      <td>737</td>\n      <td>2.07</td>\n      <td>Eastern Mediterranean</td>\n    </tr>\n    <tr>\n      <th>1</th>\n      <td>Albania</td>\n      <td>4880</td>\n      <td>144</td>\n      <td>2745</td>\n      <td>1991</td>\n      <td>117.0</td>\n      <td>6.0</td>\n      <td>63</td>\n      <td>2.95</td>\n      <td>56.25</td>\n      <td>5.25</td>\n      <td>4171</td>\n      <td>709</td>\n      <td>17.00</td>\n      <td>Europe</td>\n    </tr>\n    <tr>\n      <th>2</th>\n      <td>Algeria</td>\n      <td>27973</td>\n      <td>1163</td>\n      <td>18837</td>\n      <td>7973</td>\n      <td>616.0</td>\n      <td>8.0</td>\n      <td>749</td>\n      <td>4.16</td>\n      <td>67.34</td>\n      <td>6.17</td>\n      <td>23691</td>\n      <td>4282</td>\n      <td>18.07</td>\n      <td>Africa</td>\n    </tr>\n    <tr>\n      <th>3</th>\n      <td>Andorra</td>\n      <td>907</td>\n      <td>52</td>\n      <td>803</td>\n      <td>52</td>\n      <td>10.0</td>\n      <td>0.0</td>\n      <td>0</td>\n      <td>5.73</td>\n      <td>88.53</td>\n      <td>6.48</td>\n      <td>884</td>\n      <td>23</td>\n      <td>2.60</td>\n      <td>Europe</td>\n    </tr>\n    <tr>\n      <th>4</th>\n      <td>Angola</td>\n      <td>950</td>\n      <td>41</td>\n      <td>242</td>\n      <td>667</td>\n      <td>18.0</td>\n      <td>1.0</td>\n      <td>0</td>\n      <td>4.32</td>\n      <td>25.47</td>\n      <td>16.94</td>\n      <td>749</td>\n      <td>201</td>\n      <td>26.84</td>\n      <td>Africa</td>\n    </tr>\n  </tbody>\n</table>\n</div>"
          },
          "metadata": {}
        }
      ],
      "execution_count": 112
    },
    {
      "id": "97914899-83b2-4976-a146-34d871f4b300",
      "cell_type": "markdown",
      "source": "### 3: Now replace the index column Unnamed: 0 name with index",
      "metadata": {}
    },
    {
      "id": "067d5bc4-1086-4cb4-83c2-dfa2348f9694",
      "cell_type": "code",
      "source": "df.rename_axis(\"index\", inplace=True)",
      "metadata": {
        "trusted": true
      },
      "outputs": [],
      "execution_count": 113
    },
    {
      "id": "60898d6c-f29d-4e5b-929c-0e39ae39abb7",
      "cell_type": "code",
      "source": "df.head()",
      "metadata": {
        "trusted": true
      },
      "outputs": [
        {
          "execution_count": 114,
          "output_type": "execute_result",
          "data": {
            "text/plain": "      Country/Region  Confirmed Deaths  Recovered  Active  New cases  \\\nindex                                                                  \n0        Afghanistan      36263   1269      25198    9796      106.0   \n1            Albania       4880    144       2745    1991      117.0   \n2            Algeria      27973   1163      18837    7973      616.0   \n3            Andorra        907     52        803      52       10.0   \n4             Angola        950     41        242     667       18.0   \n\n       New deaths  New recovered  Deaths / 100 Cases  Recovered / 100 Cases  \\\nindex                                                                         \n0            10.0             18                3.50                  69.49   \n1             6.0             63                2.95                  56.25   \n2             8.0            749                4.16                  67.34   \n3             0.0              0                5.73                  88.53   \n4             1.0              0                4.32                  25.47   \n\n       Deaths / 100 Recovered  Confirmed last week  1 week change  \\\nindex                                                               \n0                        5.04                35526            737   \n1                        5.25                 4171            709   \n2                        6.17                23691           4282   \n3                        6.48                  884             23   \n4                       16.94                  749            201   \n\n       1 week % increase             WHO Region  \nindex                                            \n0                   2.07  Eastern Mediterranean  \n1                  17.00                 Europe  \n2                  18.07                 Africa  \n3                   2.60                 Europe  \n4                  26.84                 Africa  ",
            "text/html": "<div>\n<style scoped>\n    .dataframe tbody tr th:only-of-type {\n        vertical-align: middle;\n    }\n\n    .dataframe tbody tr th {\n        vertical-align: top;\n    }\n\n    .dataframe thead th {\n        text-align: right;\n    }\n</style>\n<table border=\"1\" class=\"dataframe\">\n  <thead>\n    <tr style=\"text-align: right;\">\n      <th></th>\n      <th>Country/Region</th>\n      <th>Confirmed</th>\n      <th>Deaths</th>\n      <th>Recovered</th>\n      <th>Active</th>\n      <th>New cases</th>\n      <th>New deaths</th>\n      <th>New recovered</th>\n      <th>Deaths / 100 Cases</th>\n      <th>Recovered / 100 Cases</th>\n      <th>Deaths / 100 Recovered</th>\n      <th>Confirmed last week</th>\n      <th>1 week change</th>\n      <th>1 week % increase</th>\n      <th>WHO Region</th>\n    </tr>\n    <tr>\n      <th>index</th>\n      <th></th>\n      <th></th>\n      <th></th>\n      <th></th>\n      <th></th>\n      <th></th>\n      <th></th>\n      <th></th>\n      <th></th>\n      <th></th>\n      <th></th>\n      <th></th>\n      <th></th>\n      <th></th>\n      <th></th>\n    </tr>\n  </thead>\n  <tbody>\n    <tr>\n      <th>0</th>\n      <td>Afghanistan</td>\n      <td>36263</td>\n      <td>1269</td>\n      <td>25198</td>\n      <td>9796</td>\n      <td>106.0</td>\n      <td>10.0</td>\n      <td>18</td>\n      <td>3.50</td>\n      <td>69.49</td>\n      <td>5.04</td>\n      <td>35526</td>\n      <td>737</td>\n      <td>2.07</td>\n      <td>Eastern Mediterranean</td>\n    </tr>\n    <tr>\n      <th>1</th>\n      <td>Albania</td>\n      <td>4880</td>\n      <td>144</td>\n      <td>2745</td>\n      <td>1991</td>\n      <td>117.0</td>\n      <td>6.0</td>\n      <td>63</td>\n      <td>2.95</td>\n      <td>56.25</td>\n      <td>5.25</td>\n      <td>4171</td>\n      <td>709</td>\n      <td>17.00</td>\n      <td>Europe</td>\n    </tr>\n    <tr>\n      <th>2</th>\n      <td>Algeria</td>\n      <td>27973</td>\n      <td>1163</td>\n      <td>18837</td>\n      <td>7973</td>\n      <td>616.0</td>\n      <td>8.0</td>\n      <td>749</td>\n      <td>4.16</td>\n      <td>67.34</td>\n      <td>6.17</td>\n      <td>23691</td>\n      <td>4282</td>\n      <td>18.07</td>\n      <td>Africa</td>\n    </tr>\n    <tr>\n      <th>3</th>\n      <td>Andorra</td>\n      <td>907</td>\n      <td>52</td>\n      <td>803</td>\n      <td>52</td>\n      <td>10.0</td>\n      <td>0.0</td>\n      <td>0</td>\n      <td>5.73</td>\n      <td>88.53</td>\n      <td>6.48</td>\n      <td>884</td>\n      <td>23</td>\n      <td>2.60</td>\n      <td>Europe</td>\n    </tr>\n    <tr>\n      <th>4</th>\n      <td>Angola</td>\n      <td>950</td>\n      <td>41</td>\n      <td>242</td>\n      <td>667</td>\n      <td>18.0</td>\n      <td>1.0</td>\n      <td>0</td>\n      <td>4.32</td>\n      <td>25.47</td>\n      <td>16.94</td>\n      <td>749</td>\n      <td>201</td>\n      <td>26.84</td>\n      <td>Africa</td>\n    </tr>\n  </tbody>\n</table>\n</div>"
          },
          "metadata": {}
        }
      ],
      "execution_count": 114
    },
    {
      "id": "87a580ac-c109-4de4-847e-6b342f376277",
      "cell_type": "markdown",
      "source": "### 4: Create Function that take dataset columns and replace whitespace with Underscore and update dataset automatically and the pass the dataset.",
      "metadata": {}
    },
    {
      "id": "5c334f41-77ce-4251-b84a-5b4d91ddfd6c",
      "cell_type": "code",
      "source": "def replace_spaces_with_underscore(dataframe):\n    new_columns = []\n    for col in dataframe.columns:\n        # Replace whitespace with underscore    \n        new_col = col.replace(' ', '_')\n        new_columns.append(new_col)\n    \n    dataframe.columns = new_columns\n    return dataframe\n\ndf = replace_spaces_with_underscore(df)",
      "metadata": {
        "trusted": true
      },
      "outputs": [],
      "execution_count": 115
    },
    {
      "id": "8222dd57-a64b-428f-8a87-00b83e597763",
      "cell_type": "code",
      "source": "df.head()",
      "metadata": {
        "trusted": true
      },
      "outputs": [
        {
          "execution_count": 116,
          "output_type": "execute_result",
          "data": {
            "text/plain": "      Country/Region  Confirmed Deaths  Recovered  Active  New_cases  \\\nindex                                                                  \n0        Afghanistan      36263   1269      25198    9796      106.0   \n1            Albania       4880    144       2745    1991      117.0   \n2            Algeria      27973   1163      18837    7973      616.0   \n3            Andorra        907     52        803      52       10.0   \n4             Angola        950     41        242     667       18.0   \n\n       New_deaths  New_recovered  Deaths_/_100_Cases  Recovered_/_100_Cases  \\\nindex                                                                         \n0            10.0             18                3.50                  69.49   \n1             6.0             63                2.95                  56.25   \n2             8.0            749                4.16                  67.34   \n3             0.0              0                5.73                  88.53   \n4             1.0              0                4.32                  25.47   \n\n       Deaths_/_100_Recovered  Confirmed_last_week  1_week_change  \\\nindex                                                               \n0                        5.04                35526            737   \n1                        5.25                 4171            709   \n2                        6.17                23691           4282   \n3                        6.48                  884             23   \n4                       16.94                  749            201   \n\n       1_week_%_increase             WHO_Region  \nindex                                            \n0                   2.07  Eastern Mediterranean  \n1                  17.00                 Europe  \n2                  18.07                 Africa  \n3                   2.60                 Europe  \n4                  26.84                 Africa  ",
            "text/html": "<div>\n<style scoped>\n    .dataframe tbody tr th:only-of-type {\n        vertical-align: middle;\n    }\n\n    .dataframe tbody tr th {\n        vertical-align: top;\n    }\n\n    .dataframe thead th {\n        text-align: right;\n    }\n</style>\n<table border=\"1\" class=\"dataframe\">\n  <thead>\n    <tr style=\"text-align: right;\">\n      <th></th>\n      <th>Country/Region</th>\n      <th>Confirmed</th>\n      <th>Deaths</th>\n      <th>Recovered</th>\n      <th>Active</th>\n      <th>New_cases</th>\n      <th>New_deaths</th>\n      <th>New_recovered</th>\n      <th>Deaths_/_100_Cases</th>\n      <th>Recovered_/_100_Cases</th>\n      <th>Deaths_/_100_Recovered</th>\n      <th>Confirmed_last_week</th>\n      <th>1_week_change</th>\n      <th>1_week_%_increase</th>\n      <th>WHO_Region</th>\n    </tr>\n    <tr>\n      <th>index</th>\n      <th></th>\n      <th></th>\n      <th></th>\n      <th></th>\n      <th></th>\n      <th></th>\n      <th></th>\n      <th></th>\n      <th></th>\n      <th></th>\n      <th></th>\n      <th></th>\n      <th></th>\n      <th></th>\n      <th></th>\n    </tr>\n  </thead>\n  <tbody>\n    <tr>\n      <th>0</th>\n      <td>Afghanistan</td>\n      <td>36263</td>\n      <td>1269</td>\n      <td>25198</td>\n      <td>9796</td>\n      <td>106.0</td>\n      <td>10.0</td>\n      <td>18</td>\n      <td>3.50</td>\n      <td>69.49</td>\n      <td>5.04</td>\n      <td>35526</td>\n      <td>737</td>\n      <td>2.07</td>\n      <td>Eastern Mediterranean</td>\n    </tr>\n    <tr>\n      <th>1</th>\n      <td>Albania</td>\n      <td>4880</td>\n      <td>144</td>\n      <td>2745</td>\n      <td>1991</td>\n      <td>117.0</td>\n      <td>6.0</td>\n      <td>63</td>\n      <td>2.95</td>\n      <td>56.25</td>\n      <td>5.25</td>\n      <td>4171</td>\n      <td>709</td>\n      <td>17.00</td>\n      <td>Europe</td>\n    </tr>\n    <tr>\n      <th>2</th>\n      <td>Algeria</td>\n      <td>27973</td>\n      <td>1163</td>\n      <td>18837</td>\n      <td>7973</td>\n      <td>616.0</td>\n      <td>8.0</td>\n      <td>749</td>\n      <td>4.16</td>\n      <td>67.34</td>\n      <td>6.17</td>\n      <td>23691</td>\n      <td>4282</td>\n      <td>18.07</td>\n      <td>Africa</td>\n    </tr>\n    <tr>\n      <th>3</th>\n      <td>Andorra</td>\n      <td>907</td>\n      <td>52</td>\n      <td>803</td>\n      <td>52</td>\n      <td>10.0</td>\n      <td>0.0</td>\n      <td>0</td>\n      <td>5.73</td>\n      <td>88.53</td>\n      <td>6.48</td>\n      <td>884</td>\n      <td>23</td>\n      <td>2.60</td>\n      <td>Europe</td>\n    </tr>\n    <tr>\n      <th>4</th>\n      <td>Angola</td>\n      <td>950</td>\n      <td>41</td>\n      <td>242</td>\n      <td>667</td>\n      <td>18.0</td>\n      <td>1.0</td>\n      <td>0</td>\n      <td>4.32</td>\n      <td>25.47</td>\n      <td>16.94</td>\n      <td>749</td>\n      <td>201</td>\n      <td>26.84</td>\n      <td>Africa</td>\n    </tr>\n  </tbody>\n</table>\n</div>"
          },
          "metadata": {}
        }
      ],
      "execution_count": 116
    },
    {
      "id": "eb19926f-cf73-4007-9b63-4324a8d016d7",
      "cell_type": "markdown",
      "source": "### 5: Check Basic Information → Find column names, data types, and missing values.",
      "metadata": {}
    },
    {
      "id": "e0c8baa6-d0f7-456e-8a94-167721287d8b",
      "cell_type": "code",
      "source": "print(\"Column names:\")\ndf.columns.to_list()\n",
      "metadata": {
        "trusted": true
      },
      "outputs": [
        {
          "name": "stdout",
          "output_type": "stream",
          "text": "Column names:\n"
        },
        {
          "execution_count": 117,
          "output_type": "execute_result",
          "data": {
            "text/plain": "['Country/Region',\n 'Confirmed',\n 'Deaths',\n 'Recovered',\n 'Active',\n 'New_cases',\n 'New_deaths',\n 'New_recovered',\n 'Deaths_/_100_Cases',\n 'Recovered_/_100_Cases',\n 'Deaths_/_100_Recovered',\n 'Confirmed_last_week',\n '1_week_change',\n '1_week_%_increase',\n 'WHO_Region']"
          },
          "metadata": {}
        }
      ],
      "execution_count": 117
    },
    {
      "id": "fc68f118-1c13-4217-bad2-8ab03c8d718f",
      "cell_type": "code",
      "source": "print(\"Data types:\")\ndf.dtypes",
      "metadata": {
        "trusted": true
      },
      "outputs": [
        {
          "name": "stdout",
          "output_type": "stream",
          "text": "Data types:\n"
        },
        {
          "execution_count": 118,
          "output_type": "execute_result",
          "data": {
            "text/plain": "Country/Region             object\nConfirmed                   int64\nDeaths                     object\nRecovered                   int64\nActive                      int64\nNew_cases                 float64\nNew_deaths                float64\nNew_recovered               int64\nDeaths_/_100_Cases        float64\nRecovered_/_100_Cases     float64\nDeaths_/_100_Recovered    float64\nConfirmed_last_week         int64\n1_week_change               int64\n1_week_%_increase         float64\nWHO_Region                 object\ndtype: object"
          },
          "metadata": {}
        }
      ],
      "execution_count": 118
    },
    {
      "id": "799d8611-7b2f-4d94-9ab6-201822ff4db7",
      "cell_type": "code",
      "source": "print(\"Missing Values:\")\ndf.isnull().sum()",
      "metadata": {
        "trusted": true
      },
      "outputs": [
        {
          "name": "stdout",
          "output_type": "stream",
          "text": "Missing Values:\n"
        },
        {
          "execution_count": 119,
          "output_type": "execute_result",
          "data": {
            "text/plain": "Country/Region             0\nConfirmed                  0\nDeaths                     0\nRecovered                  0\nActive                     0\nNew_cases                 10\nNew_deaths                10\nNew_recovered              0\nDeaths_/_100_Cases         0\nRecovered_/_100_Cases      0\nDeaths_/_100_Recovered     0\nConfirmed_last_week        0\n1_week_change              0\n1_week_%_increase          0\nWHO_Region                 0\ndtype: int64"
          },
          "metadata": {}
        }
      ],
      "execution_count": 119
    },
    {
      "id": "185f27a7-52d9-4a60-914b-c2b117bd5bb7",
      "cell_type": "code",
      "source": "df.info()",
      "metadata": {
        "trusted": true
      },
      "outputs": [
        {
          "name": "stdout",
          "output_type": "stream",
          "text": "<class 'pandas.core.frame.DataFrame'>\nIndex: 187 entries, 0 to 186\nData columns (total 15 columns):\n #   Column                  Non-Null Count  Dtype  \n---  ------                  --------------  -----  \n 0   Country/Region          187 non-null    object \n 1   Confirmed               187 non-null    int64  \n 2   Deaths                  187 non-null    object \n 3   Recovered               187 non-null    int64  \n 4   Active                  187 non-null    int64  \n 5   New_cases               177 non-null    float64\n 6   New_deaths              177 non-null    float64\n 7   New_recovered           187 non-null    int64  \n 8   Deaths_/_100_Cases      187 non-null    float64\n 9   Recovered_/_100_Cases   187 non-null    float64\n 10  Deaths_/_100_Recovered  187 non-null    float64\n 11  Confirmed_last_week     187 non-null    int64  \n 12  1_week_change           187 non-null    int64  \n 13  1_week_%_increase       187 non-null    float64\n 14  WHO_Region              187 non-null    object \ndtypes: float64(6), int64(6), object(3)\nmemory usage: 21.2+ KB\n"
        }
      ],
      "execution_count": 120
    },
    {
      "id": "46033e0a-2f26-4bbe-b4dd-5c166cf4ca05",
      "cell_type": "markdown",
      "source": "### 6: fill the nan values with the mean of the column",
      "metadata": {}
    },
    {
      "id": "cec67de5-7edd-49d8-a1d3-7ad561b3bb7e",
      "cell_type": "code",
      "source": "df.New_cases.isnull().sum()",
      "metadata": {
        "trusted": true
      },
      "outputs": [
        {
          "execution_count": 121,
          "output_type": "execute_result",
          "data": {
            "text/plain": "np.int64(10)"
          },
          "metadata": {}
        }
      ],
      "execution_count": 121
    },
    {
      "id": "cdca4784-2183-4c0d-8020-42950675c8e7",
      "cell_type": "code",
      "source": "df.New_cases.fillna(0, inplace=True)",
      "metadata": {
        "trusted": true
      },
      "outputs": [
        {
          "name": "stderr",
          "output_type": "stream",
          "text": "<ipython-input-122-c268776c7e63>:1: FutureWarning: A value is trying to be set on a copy of a DataFrame or Series through chained assignment using an inplace method.\nThe behavior will change in pandas 3.0. This inplace method will never work because the intermediate object on which we are setting values always behaves as a copy.\n\nFor example, when doing 'df[col].method(value, inplace=True)', try using 'df.method({col: value}, inplace=True)' or df[col] = df[col].method(value) instead, to perform the operation inplace on the original object.\n\n\n  df.New_cases.fillna(0, inplace=True)\n"
        }
      ],
      "execution_count": 122
    },
    {
      "id": "5054b0a2-4d15-414b-9eaf-46d7480e472c",
      "cell_type": "code",
      "source": "df.New_cases.fillna(df.New_cases.mean(), inplace=True)\n",
      "metadata": {
        "trusted": true
      },
      "outputs": [
        {
          "name": "stderr",
          "output_type": "stream",
          "text": "<ipython-input-123-00c11bc8470a>:1: FutureWarning: A value is trying to be set on a copy of a DataFrame or Series through chained assignment using an inplace method.\nThe behavior will change in pandas 3.0. This inplace method will never work because the intermediate object on which we are setting values always behaves as a copy.\n\nFor example, when doing 'df[col].method(value, inplace=True)', try using 'df.method({col: value}, inplace=True)' or df[col] = df[col].method(value) instead, to perform the operation inplace on the original object.\n\n\n  df.New_cases.fillna(df.New_cases.mean(), inplace=True)\n"
        }
      ],
      "execution_count": 123
    },
    {
      "id": "fb2e3125-205a-4694-bb61-dc78454aeb85",
      "cell_type": "code",
      "source": "df.New_cases.isnull().sum()",
      "metadata": {
        "trusted": true
      },
      "outputs": [
        {
          "execution_count": 124,
          "output_type": "execute_result",
          "data": {
            "text/plain": "np.int64(0)"
          },
          "metadata": {}
        }
      ],
      "execution_count": 124
    },
    {
      "id": "41699895-8947-4797-9881-4fef4faa408f",
      "cell_type": "code",
      "source": "df.New_deaths.fillna(0, inplace=True)",
      "metadata": {
        "trusted": true
      },
      "outputs": [
        {
          "name": "stderr",
          "output_type": "stream",
          "text": "<ipython-input-125-4307e1b3ead6>:1: FutureWarning: A value is trying to be set on a copy of a DataFrame or Series through chained assignment using an inplace method.\nThe behavior will change in pandas 3.0. This inplace method will never work because the intermediate object on which we are setting values always behaves as a copy.\n\nFor example, when doing 'df[col].method(value, inplace=True)', try using 'df.method({col: value}, inplace=True)' or df[col] = df[col].method(value) instead, to perform the operation inplace on the original object.\n\n\n  df.New_deaths.fillna(0, inplace=True)\n"
        }
      ],
      "execution_count": 125
    },
    {
      "id": "d6b3d696-4400-4411-a5b5-6ef3b29efc25",
      "cell_type": "code",
      "source": "df.New_deaths.fillna(df.New_deaths.mean(), inplace=True)",
      "metadata": {
        "trusted": true
      },
      "outputs": [
        {
          "name": "stderr",
          "output_type": "stream",
          "text": "<ipython-input-126-550cdfeed655>:1: FutureWarning: A value is trying to be set on a copy of a DataFrame or Series through chained assignment using an inplace method.\nThe behavior will change in pandas 3.0. This inplace method will never work because the intermediate object on which we are setting values always behaves as a copy.\n\nFor example, when doing 'df[col].method(value, inplace=True)', try using 'df.method({col: value}, inplace=True)' or df[col] = df[col].method(value) instead, to perform the operation inplace on the original object.\n\n\n  df.New_deaths.fillna(df.New_deaths.mean(), inplace=True)\n"
        }
      ],
      "execution_count": 126
    },
    {
      "id": "3d8ddcec-48f7-4e87-a715-8c40915ea8e2",
      "cell_type": "code",
      "source": "df.New_deaths.isnull().sum()",
      "metadata": {
        "trusted": true
      },
      "outputs": [
        {
          "execution_count": 127,
          "output_type": "execute_result",
          "data": {
            "text/plain": "np.int64(0)"
          },
          "metadata": {}
        }
      ],
      "execution_count": 127
    },
    {
      "id": "2b9031e6-3126-473a-9e6d-c2bc079c53f0",
      "cell_type": "code",
      "source": " df.isnull().sum()",
      "metadata": {
        "trusted": true
      },
      "outputs": [
        {
          "execution_count": 128,
          "output_type": "execute_result",
          "data": {
            "text/plain": "Country/Region            0\nConfirmed                 0\nDeaths                    0\nRecovered                 0\nActive                    0\nNew_cases                 0\nNew_deaths                0\nNew_recovered             0\nDeaths_/_100_Cases        0\nRecovered_/_100_Cases     0\nDeaths_/_100_Recovered    0\nConfirmed_last_week       0\n1_week_change             0\n1_week_%_increase         0\nWHO_Region                0\ndtype: int64"
          },
          "metadata": {}
        }
      ],
      "execution_count": 128
    },
    {
      "id": "30ba528e-9750-43d0-960c-68773391705d",
      "cell_type": "markdown",
      "source": "### 7: Count the number of unique countries in the dataset.",
      "metadata": {}
    },
    {
      "id": "8586f380-493e-4aca-8499-ed68351d4527",
      "cell_type": "code",
      "source": "df['Country/Region'].nunique()",
      "metadata": {
        "trusted": true
      },
      "outputs": [
        {
          "execution_count": 129,
          "output_type": "execute_result",
          "data": {
            "text/plain": "187"
          },
          "metadata": {}
        }
      ],
      "execution_count": 129
    },
    {
      "id": "9d93a49e-6429-4943-99be-e686b9594472",
      "cell_type": "markdown",
      "source": "### 8: Check if there are any duplicate country entries and remove them if needed.",
      "metadata": {}
    },
    {
      "id": "75f7bb4d-d2a7-4d90-944b-1c37b0f54f52",
      "cell_type": "code",
      "source": "df[\"Country/Region\"].duplicated().sum()",
      "metadata": {
        "trusted": true
      },
      "outputs": [
        {
          "execution_count": 130,
          "output_type": "execute_result",
          "data": {
            "text/plain": "np.int64(0)"
          },
          "metadata": {}
        }
      ],
      "execution_count": 130
    },
    {
      "id": "22a8cff6-d141-449d-9b44-1627fcdaf787",
      "cell_type": "markdown",
      "source": "### 9: Find the mean, median, and standard deviation of total cases.",
      "metadata": {}
    },
    {
      "id": "5c2db2f8-8c32-410b-a1d7-ced1d22bc12e",
      "cell_type": "code",
      "source": "df.Confirmed.describe()",
      "metadata": {
        "trusted": true
      },
      "outputs": [
        {
          "execution_count": 131,
          "output_type": "execute_result",
          "data": {
            "text/plain": "count    1.870000e+02\nmean     8.813094e+04\nstd      3.833187e+05\nmin      1.000000e+01\n25%      1.114000e+03\n50%      5.059000e+03\n75%      4.046050e+04\nmax      4.290259e+06\nName: Confirmed, dtype: float64"
          },
          "metadata": {}
        }
      ],
      "execution_count": 131
    },
    {
      "id": "edec6513-bbef-41aa-b483-6646e36ecab5",
      "cell_type": "markdown",
      "source": "### 10: Find out the string in Deaths Column and replace it with the mean of Deaths column.",
      "metadata": {}
    },
    {
      "id": "1be79109-234d-4e5c-be3c-3de96679d409",
      "cell_type": "code",
      "source": "df.Deaths.unique()",
      "metadata": {
        "trusted": true
      },
      "outputs": [
        {
          "execution_count": 132,
          "output_type": "execute_result",
          "data": {
            "text/plain": "array(['1269', '144', '1163', '52', '41', '3', '3059', '711', '167',\n       '713', '423', '11', '141', '2965', '7', '538', '9822', '2', '35',\n       '0', '2647', '294', '87618', '347', '53', '6', '1', '22', '391',\n       '8944', '59', '75', '9187', '4656', '8777', '54', '208', '115',\n       '96', '139', '87', '19', '373', '613', '58', '1083', '5532',\n       '4652', '408', '51', '69', '34', '228', '329', '30212', '49', '8',\n       '16', '9125', '168', '202', '1761', '45', '26', '20', '158',\n       '1166', '596', '10', '33408', '4838', '15912', '4458', '1764',\n       '474', '35112', '998', '585', '285', '185', '438', '1301', '31',\n       '12', '72', '64', '80', '112', '91', '99', '124', '15', '9', '156',\n       '44022', '748', '4', '316', '48', '6160', '108', '860', '466',\n       '255', '393', '5842', '1322', '43', '18418', '1945', '1676',\n       '1719', '165', '2206', '13334', '5', '42', '14', '2760', '194',\n       '543', '66', '27', '28', '116', '93', '7067', '300', '46', '28432',\n       '720', '24', '5700', '1978', '40', '60', '21', '18', '50', '5630',\n       '148011', '1636', '345', '45844', '121', '146', '78', '483', '140',\n       'non'], dtype=object)"
          },
          "metadata": {}
        }
      ],
      "execution_count": 132
    },
    {
      "id": "7768d267-ec49-4a77-a490-fafdc1fe5775",
      "cell_type": "code",
      "source": "df.Deaths = df.Deaths.replace(\"non\",0)",
      "metadata": {
        "trusted": true
      },
      "outputs": [],
      "execution_count": 133
    },
    {
      "id": "7d76be5f-bf4e-40da-b901-8950538cf4b5",
      "cell_type": "code",
      "source": "df.Deaths = df.Deaths.astype(int)",
      "metadata": {
        "trusted": true
      },
      "outputs": [],
      "execution_count": 134
    },
    {
      "id": "477e589a-3a37-451d-8e1d-0712b5943d72",
      "cell_type": "code",
      "source": "df.Deaths = df.Deaths.replace(0, df.Deaths.mean())",
      "metadata": {
        "trusted": true
      },
      "outputs": [],
      "execution_count": 135
    },
    {
      "id": "e7996979-21f4-412d-9921-35826c7bd541",
      "cell_type": "code",
      "source": "df.Deaths",
      "metadata": {
        "trusted": true
      },
      "outputs": [
        {
          "execution_count": 136,
          "output_type": "execute_result",
          "data": {
            "text/plain": "index\n0      1269.000000\n1       144.000000\n2      1163.000000\n3        52.000000\n4        41.000000\n          ...     \n182      78.000000\n183       1.000000\n184     483.000000\n185     140.000000\n186    3497.326203\nName: Deaths, Length: 187, dtype: float64"
          },
          "metadata": {}
        }
      ],
      "execution_count": 136
    },
    {
      "id": "e306155e-0532-4bad-9c15-2c77b2a8f591",
      "cell_type": "code",
      "source": "df.Deaths.unique()",
      "metadata": {
        "trusted": true
      },
      "outputs": [
        {
          "execution_count": 137,
          "output_type": "execute_result",
          "data": {
            "text/plain": "array([1.2690000e+03, 1.4400000e+02, 1.1630000e+03, 5.2000000e+01,\n       4.1000000e+01, 3.0000000e+00, 3.0590000e+03, 7.1100000e+02,\n       1.6700000e+02, 7.1300000e+02, 4.2300000e+02, 1.1000000e+01,\n       1.4100000e+02, 2.9650000e+03, 7.0000000e+00, 5.3800000e+02,\n       9.8220000e+03, 2.0000000e+00, 3.5000000e+01, 3.4973262e+03,\n       2.6470000e+03, 2.9400000e+02, 8.7618000e+04, 3.4700000e+02,\n       5.3000000e+01, 6.0000000e+00, 1.0000000e+00, 2.2000000e+01,\n       3.9100000e+02, 8.9440000e+03, 5.9000000e+01, 7.5000000e+01,\n       9.1870000e+03, 4.6560000e+03, 8.7770000e+03, 5.4000000e+01,\n       2.0800000e+02, 1.1500000e+02, 9.6000000e+01, 1.3900000e+02,\n       8.7000000e+01, 1.9000000e+01, 3.7300000e+02, 6.1300000e+02,\n       5.8000000e+01, 1.0830000e+03, 5.5320000e+03, 4.6520000e+03,\n       4.0800000e+02, 5.1000000e+01, 6.9000000e+01, 3.4000000e+01,\n       2.2800000e+02, 3.2900000e+02, 3.0212000e+04, 4.9000000e+01,\n       8.0000000e+00, 1.6000000e+01, 9.1250000e+03, 1.6800000e+02,\n       2.0200000e+02, 1.7610000e+03, 4.5000000e+01, 2.6000000e+01,\n       2.0000000e+01, 1.5800000e+02, 1.1660000e+03, 5.9600000e+02,\n       1.0000000e+01, 3.3408000e+04, 4.8380000e+03, 1.5912000e+04,\n       4.4580000e+03, 1.7640000e+03, 4.7400000e+02, 3.5112000e+04,\n       9.9800000e+02, 5.8500000e+02, 2.8500000e+02, 1.8500000e+02,\n       4.3800000e+02, 1.3010000e+03, 3.1000000e+01, 1.2000000e+01,\n       7.2000000e+01, 6.4000000e+01, 8.0000000e+01, 1.1200000e+02,\n       9.1000000e+01, 9.9000000e+01, 1.2400000e+02, 1.5000000e+01,\n       9.0000000e+00, 1.5600000e+02, 4.4022000e+04, 7.4800000e+02,\n       4.0000000e+00, 3.1600000e+02, 4.8000000e+01, 6.1600000e+03,\n       1.0800000e+02, 8.6000000e+02, 4.6600000e+02, 2.5500000e+02,\n       3.9300000e+02, 5.8420000e+03, 1.3220000e+03, 4.3000000e+01,\n       1.8418000e+04, 1.9450000e+03, 1.6760000e+03, 1.7190000e+03,\n       1.6500000e+02, 2.2060000e+03, 1.3334000e+04, 5.0000000e+00,\n       4.2000000e+01, 1.4000000e+01, 2.7600000e+03, 1.9400000e+02,\n       5.4300000e+02, 6.6000000e+01, 2.7000000e+01, 2.8000000e+01,\n       1.1600000e+02, 9.3000000e+01, 7.0670000e+03, 3.0000000e+02,\n       4.6000000e+01, 2.8432000e+04, 7.2000000e+02, 2.4000000e+01,\n       5.7000000e+03, 1.9780000e+03, 4.0000000e+01, 6.0000000e+01,\n       2.1000000e+01, 1.8000000e+01, 5.0000000e+01, 5.6300000e+03,\n       1.4801100e+05, 1.6360000e+03, 3.4500000e+02, 4.5844000e+04,\n       1.2100000e+02, 1.4600000e+02, 7.8000000e+01, 4.8300000e+02,\n       1.4000000e+02])"
          },
          "metadata": {}
        }
      ],
      "execution_count": 137
    },
    {
      "id": "34ed7bc3-86d3-4a40-9bea-37bec88370ba",
      "cell_type": "code",
      "source": "df.info()",
      "metadata": {
        "trusted": true
      },
      "outputs": [
        {
          "name": "stdout",
          "output_type": "stream",
          "text": "<class 'pandas.core.frame.DataFrame'>\nIndex: 187 entries, 0 to 186\nData columns (total 15 columns):\n #   Column                  Non-Null Count  Dtype  \n---  ------                  --------------  -----  \n 0   Country/Region          187 non-null    object \n 1   Confirmed               187 non-null    int64  \n 2   Deaths                  187 non-null    float64\n 3   Recovered               187 non-null    int64  \n 4   Active                  187 non-null    int64  \n 5   New_cases               187 non-null    float64\n 6   New_deaths              187 non-null    float64\n 7   New_recovered           187 non-null    int64  \n 8   Deaths_/_100_Cases      187 non-null    float64\n 9   Recovered_/_100_Cases   187 non-null    float64\n 10  Deaths_/_100_Recovered  187 non-null    float64\n 11  Confirmed_last_week     187 non-null    int64  \n 12  1_week_change           187 non-null    int64  \n 13  1_week_%_increase       187 non-null    float64\n 14  WHO_Region              187 non-null    object \ndtypes: float64(7), int64(6), object(2)\nmemory usage: 21.9+ KB\n"
        }
      ],
      "execution_count": 138
    },
    {
      "id": "89c7fcfd-4ff3-48b4-a4e3-81f613d21502",
      "cell_type": "markdown",
      "source": "### 11: Change the datatype of Deaths column",
      "metadata": {}
    },
    {
      "id": "1bc316d3-bcd5-4c05-8f87-efd63247513c",
      "cell_type": "code",
      "source": "df['Deaths'] = pd.to_numeric(df['Deaths'], errors='coerce')\nprint(\"Deaths column datatype after conversion:\")\nprint(df['Deaths'].dtype)",
      "metadata": {
        "trusted": true
      },
      "outputs": [
        {
          "name": "stdout",
          "output_type": "stream",
          "text": "Deaths column datatype after conversion:\nfloat64\n"
        }
      ],
      "execution_count": 144
    },
    {
      "id": "13eca8bf-3620-4889-a7be-33b9e6144edb",
      "cell_type": "markdown",
      "source": "### 12: Calculate total number of Death and Recovery all over the world",
      "metadata": {}
    },
    {
      "id": "0ef1bd07-52a4-4b19-b52c-e1444ebd962c",
      "cell_type": "code",
      "source": "Total_Deaths = df.Deaths.sum()\nprint(f\"Total Deaths worldwide: {Total_Deaths:,.0f}\")",
      "metadata": {
        "trusted": true
      },
      "outputs": [
        {
          "name": "stdout",
          "output_type": "stream",
          "text": "Total Deaths worldwide: 716,952\n"
        }
      ],
      "execution_count": 145
    },
    {
      "id": "7f0f35ae-d077-4278-b079-0eaaccbdcfe0",
      "cell_type": "code",
      "source": "Total_Recoveries = df.Recovered.sum()\nprint(f\"Total Recoveries worldwide: {Total_Recoveries:,.0f}\")",
      "metadata": {
        "trusted": true
      },
      "outputs": [
        {
          "name": "stdout",
          "output_type": "stream",
          "text": "Total Recoveries worldwide: 9,468,087\n"
        }
      ],
      "execution_count": 146
    },
    {
      "id": "1ddfb740-ccb9-4faa-825c-31e5a8cbda79",
      "cell_type": "markdown",
      "source": "### 13: How many countries have more than 1 million total cases",
      "metadata": {}
    },
    {
      "id": "4dac3983-9b0f-4ef1-b475-789d28ab8f6a",
      "cell_type": "code",
      "source": "df[df.Confirmed >= 1000000][\"Country/Region\"]",
      "metadata": {
        "trusted": true
      },
      "outputs": [
        {
          "execution_count": 148,
          "output_type": "execute_result",
          "data": {
            "text/plain": "index\n23     Brazil\n79      India\n173        US\nName: Country/Region, dtype: object"
          },
          "metadata": {}
        }
      ],
      "execution_count": 148
    },
    {
      "id": "df8b27a2-c00f-45cf-b7e3-f3c70cd717ee",
      "cell_type": "markdown",
      "source": "### 14: Which countries have a recovery rate (Recovered / Total Cases above 95%",
      "metadata": {}
    },
    {
      "id": "efec3c02-6e5d-4b33-9ab0-503803ce3bfc",
      "cell_type": "code",
      "source": "df[df['Recovered_/_100_Cases'] >= 95]",
      "metadata": {
        "trusted": true
      },
      "outputs": [
        {
          "execution_count": 149,
          "output_type": "execute_result",
          "data": {
            "text/plain": "      Country/Region  Confirmed       Deaths  Recovered  Active  New_cases  \\\nindex                                                                        \n24            Brunei        141     3.000000        138       0        0.0   \n48          Djibouti       5059    58.000000       4977      24        0.0   \n49          Dominica         18  3497.326203         18       0        0.0   \n69           Grenada         23  3497.326203         23       0        0.0   \n75          Holy See         12  3497.326203         12       0        0.0   \n78           Iceland       1854    10.000000       1823      21        7.0   \n94              Laos         20  3497.326203         19       1        0.0   \n105         Malaysia       8904   124.000000       8601     179        7.0   \n110        Mauritius        344    10.000000        332       2        0.0   \n121      New Zealand       1557    22.000000       1514      21        0.0   \n126           Norway       9132   255.000000       8752     125       15.0   \n136            Qatar     109597   165.000000     106328    3104      292.0   \n164          Taiwan*        462     7.000000        440      15        4.0   \n\n       New_deaths  New_recovered  Deaths_/_100_Cases  Recovered_/_100_Cases  \\\nindex                                                                         \n24            0.0              0                2.13                  97.87   \n48            0.0             11                1.15                  98.38   \n49            0.0              0                0.00                 100.00   \n69            0.0              0                0.00                 100.00   \n75            0.0              0                0.00                 100.00   \n78            0.0              0                0.54                  98.33   \n94            0.0              0                0.00                  95.00   \n105           0.0              1                1.39                  96.60   \n110           0.0              0                2.91                  96.51   \n121           0.0              1                1.41                  97.24   \n126           0.0              0                2.79                  95.84   \n136           0.0            304                0.15                  97.02   \n164           0.0              0                1.52                  95.24   \n\n       Deaths_/_100_Recovered  Confirmed_last_week  1_week_change  \\\nindex                                                               \n24                       2.17                  141              0   \n48                       1.17                 5020             39   \n49                       0.00                   18              0   \n69                       0.00                   23              0   \n75                       0.00                   12              0   \n78                       0.55                 1839             15   \n94                       0.00                   19              1   \n105                      1.44                 8800            104   \n110                      3.01                  343              1   \n121                      1.45                 1555              2   \n126                      2.91                 9034             98   \n136                      0.16               107037           2560   \n164                      1.59                  451             11   \n\n       1_week_%_increase             WHO_Region  \nindex                                            \n24                  0.00        Western Pacific  \n48                  0.78  Eastern Mediterranean  \n49                  0.00               Americas  \n69                  0.00               Americas  \n75                  0.00                 Europe  \n78                  0.82                 Europe  \n94                  5.26        Western Pacific  \n105                 1.18        Western Pacific  \n110                 0.29                 Africa  \n121                 0.13        Western Pacific  \n126                 1.08                 Europe  \n136                 2.39  Eastern Mediterranean  \n164                 2.44        Western Pacific  ",
            "text/html": "<div>\n<style scoped>\n    .dataframe tbody tr th:only-of-type {\n        vertical-align: middle;\n    }\n\n    .dataframe tbody tr th {\n        vertical-align: top;\n    }\n\n    .dataframe thead th {\n        text-align: right;\n    }\n</style>\n<table border=\"1\" class=\"dataframe\">\n  <thead>\n    <tr style=\"text-align: right;\">\n      <th></th>\n      <th>Country/Region</th>\n      <th>Confirmed</th>\n      <th>Deaths</th>\n      <th>Recovered</th>\n      <th>Active</th>\n      <th>New_cases</th>\n      <th>New_deaths</th>\n      <th>New_recovered</th>\n      <th>Deaths_/_100_Cases</th>\n      <th>Recovered_/_100_Cases</th>\n      <th>Deaths_/_100_Recovered</th>\n      <th>Confirmed_last_week</th>\n      <th>1_week_change</th>\n      <th>1_week_%_increase</th>\n      <th>WHO_Region</th>\n    </tr>\n    <tr>\n      <th>index</th>\n      <th></th>\n      <th></th>\n      <th></th>\n      <th></th>\n      <th></th>\n      <th></th>\n      <th></th>\n      <th></th>\n      <th></th>\n      <th></th>\n      <th></th>\n      <th></th>\n      <th></th>\n      <th></th>\n      <th></th>\n    </tr>\n  </thead>\n  <tbody>\n    <tr>\n      <th>24</th>\n      <td>Brunei</td>\n      <td>141</td>\n      <td>3.000000</td>\n      <td>138</td>\n      <td>0</td>\n      <td>0.0</td>\n      <td>0.0</td>\n      <td>0</td>\n      <td>2.13</td>\n      <td>97.87</td>\n      <td>2.17</td>\n      <td>141</td>\n      <td>0</td>\n      <td>0.00</td>\n      <td>Western Pacific</td>\n    </tr>\n    <tr>\n      <th>48</th>\n      <td>Djibouti</td>\n      <td>5059</td>\n      <td>58.000000</td>\n      <td>4977</td>\n      <td>24</td>\n      <td>0.0</td>\n      <td>0.0</td>\n      <td>11</td>\n      <td>1.15</td>\n      <td>98.38</td>\n      <td>1.17</td>\n      <td>5020</td>\n      <td>39</td>\n      <td>0.78</td>\n      <td>Eastern Mediterranean</td>\n    </tr>\n    <tr>\n      <th>49</th>\n      <td>Dominica</td>\n      <td>18</td>\n      <td>3497.326203</td>\n      <td>18</td>\n      <td>0</td>\n      <td>0.0</td>\n      <td>0.0</td>\n      <td>0</td>\n      <td>0.00</td>\n      <td>100.00</td>\n      <td>0.00</td>\n      <td>18</td>\n      <td>0</td>\n      <td>0.00</td>\n      <td>Americas</td>\n    </tr>\n    <tr>\n      <th>69</th>\n      <td>Grenada</td>\n      <td>23</td>\n      <td>3497.326203</td>\n      <td>23</td>\n      <td>0</td>\n      <td>0.0</td>\n      <td>0.0</td>\n      <td>0</td>\n      <td>0.00</td>\n      <td>100.00</td>\n      <td>0.00</td>\n      <td>23</td>\n      <td>0</td>\n      <td>0.00</td>\n      <td>Americas</td>\n    </tr>\n    <tr>\n      <th>75</th>\n      <td>Holy See</td>\n      <td>12</td>\n      <td>3497.326203</td>\n      <td>12</td>\n      <td>0</td>\n      <td>0.0</td>\n      <td>0.0</td>\n      <td>0</td>\n      <td>0.00</td>\n      <td>100.00</td>\n      <td>0.00</td>\n      <td>12</td>\n      <td>0</td>\n      <td>0.00</td>\n      <td>Europe</td>\n    </tr>\n    <tr>\n      <th>78</th>\n      <td>Iceland</td>\n      <td>1854</td>\n      <td>10.000000</td>\n      <td>1823</td>\n      <td>21</td>\n      <td>7.0</td>\n      <td>0.0</td>\n      <td>0</td>\n      <td>0.54</td>\n      <td>98.33</td>\n      <td>0.55</td>\n      <td>1839</td>\n      <td>15</td>\n      <td>0.82</td>\n      <td>Europe</td>\n    </tr>\n    <tr>\n      <th>94</th>\n      <td>Laos</td>\n      <td>20</td>\n      <td>3497.326203</td>\n      <td>19</td>\n      <td>1</td>\n      <td>0.0</td>\n      <td>0.0</td>\n      <td>0</td>\n      <td>0.00</td>\n      <td>95.00</td>\n      <td>0.00</td>\n      <td>19</td>\n      <td>1</td>\n      <td>5.26</td>\n      <td>Western Pacific</td>\n    </tr>\n    <tr>\n      <th>105</th>\n      <td>Malaysia</td>\n      <td>8904</td>\n      <td>124.000000</td>\n      <td>8601</td>\n      <td>179</td>\n      <td>7.0</td>\n      <td>0.0</td>\n      <td>1</td>\n      <td>1.39</td>\n      <td>96.60</td>\n      <td>1.44</td>\n      <td>8800</td>\n      <td>104</td>\n      <td>1.18</td>\n      <td>Western Pacific</td>\n    </tr>\n    <tr>\n      <th>110</th>\n      <td>Mauritius</td>\n      <td>344</td>\n      <td>10.000000</td>\n      <td>332</td>\n      <td>2</td>\n      <td>0.0</td>\n      <td>0.0</td>\n      <td>0</td>\n      <td>2.91</td>\n      <td>96.51</td>\n      <td>3.01</td>\n      <td>343</td>\n      <td>1</td>\n      <td>0.29</td>\n      <td>Africa</td>\n    </tr>\n    <tr>\n      <th>121</th>\n      <td>New Zealand</td>\n      <td>1557</td>\n      <td>22.000000</td>\n      <td>1514</td>\n      <td>21</td>\n      <td>0.0</td>\n      <td>0.0</td>\n      <td>1</td>\n      <td>1.41</td>\n      <td>97.24</td>\n      <td>1.45</td>\n      <td>1555</td>\n      <td>2</td>\n      <td>0.13</td>\n      <td>Western Pacific</td>\n    </tr>\n    <tr>\n      <th>126</th>\n      <td>Norway</td>\n      <td>9132</td>\n      <td>255.000000</td>\n      <td>8752</td>\n      <td>125</td>\n      <td>15.0</td>\n      <td>0.0</td>\n      <td>0</td>\n      <td>2.79</td>\n      <td>95.84</td>\n      <td>2.91</td>\n      <td>9034</td>\n      <td>98</td>\n      <td>1.08</td>\n      <td>Europe</td>\n    </tr>\n    <tr>\n      <th>136</th>\n      <td>Qatar</td>\n      <td>109597</td>\n      <td>165.000000</td>\n      <td>106328</td>\n      <td>3104</td>\n      <td>292.0</td>\n      <td>0.0</td>\n      <td>304</td>\n      <td>0.15</td>\n      <td>97.02</td>\n      <td>0.16</td>\n      <td>107037</td>\n      <td>2560</td>\n      <td>2.39</td>\n      <td>Eastern Mediterranean</td>\n    </tr>\n    <tr>\n      <th>164</th>\n      <td>Taiwan*</td>\n      <td>462</td>\n      <td>7.000000</td>\n      <td>440</td>\n      <td>15</td>\n      <td>4.0</td>\n      <td>0.0</td>\n      <td>0</td>\n      <td>1.52</td>\n      <td>95.24</td>\n      <td>1.59</td>\n      <td>451</td>\n      <td>11</td>\n      <td>2.44</td>\n      <td>Western Pacific</td>\n    </tr>\n  </tbody>\n</table>\n</div>"
          },
          "metadata": {}
        }
      ],
      "execution_count": 149
    },
    {
      "id": "9a2f85b3-04a8-455a-aeb6-211f08225916",
      "cell_type": "markdown",
      "source": "### 15: Drop columns name WHO Region and Confirmed",
      "metadata": {}
    },
    {
      "id": "5880ddba-2365-4803-b048-c2ac3f30bf94",
      "cell_type": "code",
      "source": "df.drop(columns=[\"WHO_Region\", \"Confirmed\"])",
      "metadata": {
        "trusted": true
      },
      "outputs": [
        {
          "execution_count": 150,
          "output_type": "execute_result",
          "data": {
            "text/plain": "           Country/Region       Deaths  Recovered  Active  New_cases  \\\nindex                                                                  \n0             Afghanistan  1269.000000      25198    9796      106.0   \n1                 Albania   144.000000       2745    1991      117.0   \n2                 Algeria  1163.000000      18837    7973      616.0   \n3                 Andorra    52.000000        803      52       10.0   \n4                  Angola    41.000000        242     667       18.0   \n...                   ...          ...        ...     ...        ...   \n182    West Bank and Gaza    78.000000       3752    6791      152.0   \n183        Western Sahara     1.000000          8       1        0.0   \n184                 Yemen   483.000000        833     375       10.0   \n185                Zambia   140.000000       2815    1597       71.0   \n186              Zimbabwe  3497.326203        542    2126      192.0   \n\n       New_deaths  New_recovered  Deaths_/_100_Cases  Recovered_/_100_Cases  \\\nindex                                                                         \n0            10.0             18                3.50                  69.49   \n1             6.0             63                2.95                  56.25   \n2             8.0            749                4.16                  67.34   \n3             0.0              0                5.73                  88.53   \n4             1.0              0                4.32                  25.47   \n...           ...            ...                 ...                    ...   \n182           2.0              0                0.73                  35.33   \n183           0.0              0               10.00                  80.00   \n184           4.0             36               28.56                  49.26   \n185           1.0            465                3.08                  61.84   \n186           2.0             24                1.33                  20.04   \n\n       Deaths_/_100_Recovered  Confirmed_last_week  1_week_change  \\\nindex                                                               \n0                        5.04                35526            737   \n1                        5.25                 4171            709   \n2                        6.17                23691           4282   \n3                        6.48                  884             23   \n4                       16.94                  749            201   \n...                       ...                  ...            ...   \n182                      2.08                 8916           1705   \n183                     12.50                   10              0   \n184                     57.98                 1619             72   \n185                      4.97                 3326           1226   \n186                      6.64                 1713            991   \n\n       1_week_%_increase  \nindex                     \n0                   2.07  \n1                  17.00  \n2                  18.07  \n3                   2.60  \n4                  26.84  \n...                  ...  \n182                19.12  \n183                 0.00  \n184                 4.45  \n185                36.86  \n186                57.85  \n\n[187 rows x 13 columns]",
            "text/html": "<div>\n<style scoped>\n    .dataframe tbody tr th:only-of-type {\n        vertical-align: middle;\n    }\n\n    .dataframe tbody tr th {\n        vertical-align: top;\n    }\n\n    .dataframe thead th {\n        text-align: right;\n    }\n</style>\n<table border=\"1\" class=\"dataframe\">\n  <thead>\n    <tr style=\"text-align: right;\">\n      <th></th>\n      <th>Country/Region</th>\n      <th>Deaths</th>\n      <th>Recovered</th>\n      <th>Active</th>\n      <th>New_cases</th>\n      <th>New_deaths</th>\n      <th>New_recovered</th>\n      <th>Deaths_/_100_Cases</th>\n      <th>Recovered_/_100_Cases</th>\n      <th>Deaths_/_100_Recovered</th>\n      <th>Confirmed_last_week</th>\n      <th>1_week_change</th>\n      <th>1_week_%_increase</th>\n    </tr>\n    <tr>\n      <th>index</th>\n      <th></th>\n      <th></th>\n      <th></th>\n      <th></th>\n      <th></th>\n      <th></th>\n      <th></th>\n      <th></th>\n      <th></th>\n      <th></th>\n      <th></th>\n      <th></th>\n      <th></th>\n    </tr>\n  </thead>\n  <tbody>\n    <tr>\n      <th>0</th>\n      <td>Afghanistan</td>\n      <td>1269.000000</td>\n      <td>25198</td>\n      <td>9796</td>\n      <td>106.0</td>\n      <td>10.0</td>\n      <td>18</td>\n      <td>3.50</td>\n      <td>69.49</td>\n      <td>5.04</td>\n      <td>35526</td>\n      <td>737</td>\n      <td>2.07</td>\n    </tr>\n    <tr>\n      <th>1</th>\n      <td>Albania</td>\n      <td>144.000000</td>\n      <td>2745</td>\n      <td>1991</td>\n      <td>117.0</td>\n      <td>6.0</td>\n      <td>63</td>\n      <td>2.95</td>\n      <td>56.25</td>\n      <td>5.25</td>\n      <td>4171</td>\n      <td>709</td>\n      <td>17.00</td>\n    </tr>\n    <tr>\n      <th>2</th>\n      <td>Algeria</td>\n      <td>1163.000000</td>\n      <td>18837</td>\n      <td>7973</td>\n      <td>616.0</td>\n      <td>8.0</td>\n      <td>749</td>\n      <td>4.16</td>\n      <td>67.34</td>\n      <td>6.17</td>\n      <td>23691</td>\n      <td>4282</td>\n      <td>18.07</td>\n    </tr>\n    <tr>\n      <th>3</th>\n      <td>Andorra</td>\n      <td>52.000000</td>\n      <td>803</td>\n      <td>52</td>\n      <td>10.0</td>\n      <td>0.0</td>\n      <td>0</td>\n      <td>5.73</td>\n      <td>88.53</td>\n      <td>6.48</td>\n      <td>884</td>\n      <td>23</td>\n      <td>2.60</td>\n    </tr>\n    <tr>\n      <th>4</th>\n      <td>Angola</td>\n      <td>41.000000</td>\n      <td>242</td>\n      <td>667</td>\n      <td>18.0</td>\n      <td>1.0</td>\n      <td>0</td>\n      <td>4.32</td>\n      <td>25.47</td>\n      <td>16.94</td>\n      <td>749</td>\n      <td>201</td>\n      <td>26.84</td>\n    </tr>\n    <tr>\n      <th>...</th>\n      <td>...</td>\n      <td>...</td>\n      <td>...</td>\n      <td>...</td>\n      <td>...</td>\n      <td>...</td>\n      <td>...</td>\n      <td>...</td>\n      <td>...</td>\n      <td>...</td>\n      <td>...</td>\n      <td>...</td>\n      <td>...</td>\n    </tr>\n    <tr>\n      <th>182</th>\n      <td>West Bank and Gaza</td>\n      <td>78.000000</td>\n      <td>3752</td>\n      <td>6791</td>\n      <td>152.0</td>\n      <td>2.0</td>\n      <td>0</td>\n      <td>0.73</td>\n      <td>35.33</td>\n      <td>2.08</td>\n      <td>8916</td>\n      <td>1705</td>\n      <td>19.12</td>\n    </tr>\n    <tr>\n      <th>183</th>\n      <td>Western Sahara</td>\n      <td>1.000000</td>\n      <td>8</td>\n      <td>1</td>\n      <td>0.0</td>\n      <td>0.0</td>\n      <td>0</td>\n      <td>10.00</td>\n      <td>80.00</td>\n      <td>12.50</td>\n      <td>10</td>\n      <td>0</td>\n      <td>0.00</td>\n    </tr>\n    <tr>\n      <th>184</th>\n      <td>Yemen</td>\n      <td>483.000000</td>\n      <td>833</td>\n      <td>375</td>\n      <td>10.0</td>\n      <td>4.0</td>\n      <td>36</td>\n      <td>28.56</td>\n      <td>49.26</td>\n      <td>57.98</td>\n      <td>1619</td>\n      <td>72</td>\n      <td>4.45</td>\n    </tr>\n    <tr>\n      <th>185</th>\n      <td>Zambia</td>\n      <td>140.000000</td>\n      <td>2815</td>\n      <td>1597</td>\n      <td>71.0</td>\n      <td>1.0</td>\n      <td>465</td>\n      <td>3.08</td>\n      <td>61.84</td>\n      <td>4.97</td>\n      <td>3326</td>\n      <td>1226</td>\n      <td>36.86</td>\n    </tr>\n    <tr>\n      <th>186</th>\n      <td>Zimbabwe</td>\n      <td>3497.326203</td>\n      <td>542</td>\n      <td>2126</td>\n      <td>192.0</td>\n      <td>2.0</td>\n      <td>24</td>\n      <td>1.33</td>\n      <td>20.04</td>\n      <td>6.64</td>\n      <td>1713</td>\n      <td>991</td>\n      <td>57.85</td>\n    </tr>\n  </tbody>\n</table>\n<p>187 rows × 13 columns</p>\n</div>"
          },
          "metadata": {}
        }
      ],
      "execution_count": 150
    },
    {
      "id": "bb8aaf3c-5afa-4f21-9a76-07b71e075350",
      "cell_type": "markdown",
      "source": "### 16: Find the Country with the Max Deaths",
      "metadata": {}
    },
    {
      "id": "898d4b65-6e1a-49f7-960a-e786935ed587",
      "cell_type": "code",
      "source": "df[df.Deaths == df.Deaths.max()]",
      "metadata": {
        "trusted": true
      },
      "outputs": [
        {
          "execution_count": 151,
          "output_type": "execute_result",
          "data": {
            "text/plain": "      Country/Region  Confirmed    Deaths  Recovered   Active  New_cases  \\\nindex                                                                      \n173               US    4290259  148011.0    1325804  2816444    56336.0   \n\n       New_deaths  New_recovered  Deaths_/_100_Cases  Recovered_/_100_Cases  \\\nindex                                                                         \n173        1076.0          27941                3.45                   30.9   \n\n       Deaths_/_100_Recovered  Confirmed_last_week  1_week_change  \\\nindex                                                               \n173                     11.16              3834677         455582   \n\n       1_week_%_increase WHO_Region  \nindex                                \n173                11.88   Americas  ",
            "text/html": "<div>\n<style scoped>\n    .dataframe tbody tr th:only-of-type {\n        vertical-align: middle;\n    }\n\n    .dataframe tbody tr th {\n        vertical-align: top;\n    }\n\n    .dataframe thead th {\n        text-align: right;\n    }\n</style>\n<table border=\"1\" class=\"dataframe\">\n  <thead>\n    <tr style=\"text-align: right;\">\n      <th></th>\n      <th>Country/Region</th>\n      <th>Confirmed</th>\n      <th>Deaths</th>\n      <th>Recovered</th>\n      <th>Active</th>\n      <th>New_cases</th>\n      <th>New_deaths</th>\n      <th>New_recovered</th>\n      <th>Deaths_/_100_Cases</th>\n      <th>Recovered_/_100_Cases</th>\n      <th>Deaths_/_100_Recovered</th>\n      <th>Confirmed_last_week</th>\n      <th>1_week_change</th>\n      <th>1_week_%_increase</th>\n      <th>WHO_Region</th>\n    </tr>\n    <tr>\n      <th>index</th>\n      <th></th>\n      <th></th>\n      <th></th>\n      <th></th>\n      <th></th>\n      <th></th>\n      <th></th>\n      <th></th>\n      <th></th>\n      <th></th>\n      <th></th>\n      <th></th>\n      <th></th>\n      <th></th>\n      <th></th>\n    </tr>\n  </thead>\n  <tbody>\n    <tr>\n      <th>173</th>\n      <td>US</td>\n      <td>4290259</td>\n      <td>148011.0</td>\n      <td>1325804</td>\n      <td>2816444</td>\n      <td>56336.0</td>\n      <td>1076.0</td>\n      <td>27941</td>\n      <td>3.45</td>\n      <td>30.9</td>\n      <td>11.16</td>\n      <td>3834677</td>\n      <td>455582</td>\n      <td>11.88</td>\n      <td>Americas</td>\n    </tr>\n  </tbody>\n</table>\n</div>"
          },
          "metadata": {}
        }
      ],
      "execution_count": 151
    },
    {
      "id": "e41c926b-644d-4a18-9073-fded79969b22",
      "cell_type": "markdown",
      "source": "### 17: Sort Countries by Deaths (Descending Order)",
      "metadata": {}
    },
    {
      "id": "a0f0836f-7df1-4698-ba26-387f30252c28",
      "cell_type": "code",
      "source": "df[[\"Country/Region\", \"Deaths\"]].sort_values(\"Deaths\", ascending=False)",
      "metadata": {
        "trusted": true
      },
      "outputs": [
        {
          "execution_count": 152,
          "output_type": "execute_result",
          "data": {
            "text/plain": "       Country/Region    Deaths\nindex                          \n173                US  148011.0\n23             Brazil   87618.0\n177    United Kingdom   45844.0\n111            Mexico   44022.0\n85              Italy   35112.0\n...               ...       ...\n174            Uganda       2.0\n17             Belize       2.0\n100     Liechtenstein       1.0\n28            Burundi       1.0\n183    Western Sahara       1.0\n\n[187 rows x 2 columns]",
            "text/html": "<div>\n<style scoped>\n    .dataframe tbody tr th:only-of-type {\n        vertical-align: middle;\n    }\n\n    .dataframe tbody tr th {\n        vertical-align: top;\n    }\n\n    .dataframe thead th {\n        text-align: right;\n    }\n</style>\n<table border=\"1\" class=\"dataframe\">\n  <thead>\n    <tr style=\"text-align: right;\">\n      <th></th>\n      <th>Country/Region</th>\n      <th>Deaths</th>\n    </tr>\n    <tr>\n      <th>index</th>\n      <th></th>\n      <th></th>\n    </tr>\n  </thead>\n  <tbody>\n    <tr>\n      <th>173</th>\n      <td>US</td>\n      <td>148011.0</td>\n    </tr>\n    <tr>\n      <th>23</th>\n      <td>Brazil</td>\n      <td>87618.0</td>\n    </tr>\n    <tr>\n      <th>177</th>\n      <td>United Kingdom</td>\n      <td>45844.0</td>\n    </tr>\n    <tr>\n      <th>111</th>\n      <td>Mexico</td>\n      <td>44022.0</td>\n    </tr>\n    <tr>\n      <th>85</th>\n      <td>Italy</td>\n      <td>35112.0</td>\n    </tr>\n    <tr>\n      <th>...</th>\n      <td>...</td>\n      <td>...</td>\n    </tr>\n    <tr>\n      <th>174</th>\n      <td>Uganda</td>\n      <td>2.0</td>\n    </tr>\n    <tr>\n      <th>17</th>\n      <td>Belize</td>\n      <td>2.0</td>\n    </tr>\n    <tr>\n      <th>100</th>\n      <td>Liechtenstein</td>\n      <td>1.0</td>\n    </tr>\n    <tr>\n      <th>28</th>\n      <td>Burundi</td>\n      <td>1.0</td>\n    </tr>\n    <tr>\n      <th>183</th>\n      <td>Western Sahara</td>\n      <td>1.0</td>\n    </tr>\n  </tbody>\n</table>\n<p>187 rows × 2 columns</p>\n</div>"
          },
          "metadata": {}
        }
      ],
      "execution_count": 152
    },
    {
      "id": "25c10942-982a-4cef-a6da-97f45c8e97eb",
      "cell_type": "markdown",
      "source": "### 18: Make new column name Total_cases that have a sum of Deaths Recovered , Active",
      "metadata": {}
    },
    {
      "id": "30a008ef-be1a-481d-b372-f33ad644de6e",
      "cell_type": "code",
      "source": "df[\"Total_cases\"] = df[\"Deaths\"] + df[\"Recovered\"] + df[\"Active\"]",
      "metadata": {
        "trusted": true
      },
      "outputs": [],
      "execution_count": 153
    },
    {
      "id": "3731c6dd-e4e1-4a25-b0d0-f69fd2309b0e",
      "cell_type": "code",
      "source": "df.head()",
      "metadata": {
        "trusted": true
      },
      "outputs": [
        {
          "execution_count": 154,
          "output_type": "execute_result",
          "data": {
            "text/plain": "      Country/Region  Confirmed  Deaths  Recovered  Active  New_cases  \\\nindex                                                                   \n0        Afghanistan      36263  1269.0      25198    9796      106.0   \n1            Albania       4880   144.0       2745    1991      117.0   \n2            Algeria      27973  1163.0      18837    7973      616.0   \n3            Andorra        907    52.0        803      52       10.0   \n4             Angola        950    41.0        242     667       18.0   \n\n       New_deaths  New_recovered  Deaths_/_100_Cases  Recovered_/_100_Cases  \\\nindex                                                                         \n0            10.0             18                3.50                  69.49   \n1             6.0             63                2.95                  56.25   \n2             8.0            749                4.16                  67.34   \n3             0.0              0                5.73                  88.53   \n4             1.0              0                4.32                  25.47   \n\n       Deaths_/_100_Recovered  Confirmed_last_week  1_week_change  \\\nindex                                                               \n0                        5.04                35526            737   \n1                        5.25                 4171            709   \n2                        6.17                23691           4282   \n3                        6.48                  884             23   \n4                       16.94                  749            201   \n\n       1_week_%_increase             WHO_Region  Total_cases  \nindex                                                         \n0                   2.07  Eastern Mediterranean      36263.0  \n1                  17.00                 Europe       4880.0  \n2                  18.07                 Africa      27973.0  \n3                   2.60                 Europe        907.0  \n4                  26.84                 Africa        950.0  ",
            "text/html": "<div>\n<style scoped>\n    .dataframe tbody tr th:only-of-type {\n        vertical-align: middle;\n    }\n\n    .dataframe tbody tr th {\n        vertical-align: top;\n    }\n\n    .dataframe thead th {\n        text-align: right;\n    }\n</style>\n<table border=\"1\" class=\"dataframe\">\n  <thead>\n    <tr style=\"text-align: right;\">\n      <th></th>\n      <th>Country/Region</th>\n      <th>Confirmed</th>\n      <th>Deaths</th>\n      <th>Recovered</th>\n      <th>Active</th>\n      <th>New_cases</th>\n      <th>New_deaths</th>\n      <th>New_recovered</th>\n      <th>Deaths_/_100_Cases</th>\n      <th>Recovered_/_100_Cases</th>\n      <th>Deaths_/_100_Recovered</th>\n      <th>Confirmed_last_week</th>\n      <th>1_week_change</th>\n      <th>1_week_%_increase</th>\n      <th>WHO_Region</th>\n      <th>Total_cases</th>\n    </tr>\n    <tr>\n      <th>index</th>\n      <th></th>\n      <th></th>\n      <th></th>\n      <th></th>\n      <th></th>\n      <th></th>\n      <th></th>\n      <th></th>\n      <th></th>\n      <th></th>\n      <th></th>\n      <th></th>\n      <th></th>\n      <th></th>\n      <th></th>\n      <th></th>\n    </tr>\n  </thead>\n  <tbody>\n    <tr>\n      <th>0</th>\n      <td>Afghanistan</td>\n      <td>36263</td>\n      <td>1269.0</td>\n      <td>25198</td>\n      <td>9796</td>\n      <td>106.0</td>\n      <td>10.0</td>\n      <td>18</td>\n      <td>3.50</td>\n      <td>69.49</td>\n      <td>5.04</td>\n      <td>35526</td>\n      <td>737</td>\n      <td>2.07</td>\n      <td>Eastern Mediterranean</td>\n      <td>36263.0</td>\n    </tr>\n    <tr>\n      <th>1</th>\n      <td>Albania</td>\n      <td>4880</td>\n      <td>144.0</td>\n      <td>2745</td>\n      <td>1991</td>\n      <td>117.0</td>\n      <td>6.0</td>\n      <td>63</td>\n      <td>2.95</td>\n      <td>56.25</td>\n      <td>5.25</td>\n      <td>4171</td>\n      <td>709</td>\n      <td>17.00</td>\n      <td>Europe</td>\n      <td>4880.0</td>\n    </tr>\n    <tr>\n      <th>2</th>\n      <td>Algeria</td>\n      <td>27973</td>\n      <td>1163.0</td>\n      <td>18837</td>\n      <td>7973</td>\n      <td>616.0</td>\n      <td>8.0</td>\n      <td>749</td>\n      <td>4.16</td>\n      <td>67.34</td>\n      <td>6.17</td>\n      <td>23691</td>\n      <td>4282</td>\n      <td>18.07</td>\n      <td>Africa</td>\n      <td>27973.0</td>\n    </tr>\n    <tr>\n      <th>3</th>\n      <td>Andorra</td>\n      <td>907</td>\n      <td>52.0</td>\n      <td>803</td>\n      <td>52</td>\n      <td>10.0</td>\n      <td>0.0</td>\n      <td>0</td>\n      <td>5.73</td>\n      <td>88.53</td>\n      <td>6.48</td>\n      <td>884</td>\n      <td>23</td>\n      <td>2.60</td>\n      <td>Europe</td>\n      <td>907.0</td>\n    </tr>\n    <tr>\n      <th>4</th>\n      <td>Angola</td>\n      <td>950</td>\n      <td>41.0</td>\n      <td>242</td>\n      <td>667</td>\n      <td>18.0</td>\n      <td>1.0</td>\n      <td>0</td>\n      <td>4.32</td>\n      <td>25.47</td>\n      <td>16.94</td>\n      <td>749</td>\n      <td>201</td>\n      <td>26.84</td>\n      <td>Africa</td>\n      <td>950.0</td>\n    </tr>\n  </tbody>\n</table>\n</div>"
          },
          "metadata": {}
        }
      ],
      "execution_count": 154
    },
    {
      "id": "48f1ec39-4013-4bbe-8be5-4a9d4899dcaa",
      "cell_type": "markdown",
      "source": "### 19: Calculate Death_Rate for Each Country (Deaths per TotalCases) by suing formula (Desths/Total_cases)*100 and save it in Dath_Rate column",
      "metadata": {}
    },
    {
      "id": "fad4e60c-1a37-4241-bde7-88e383c98e33",
      "cell_type": "code",
      "source": "df[\"Death_Rate\"] = (df[\"Deaths\"] / df[\"Confirmed\"]) * 100",
      "metadata": {
        "trusted": true
      },
      "outputs": [],
      "execution_count": 155
    },
    {
      "id": "39d7e2c7-5c6e-4147-826b-1888f9ad3e3e",
      "cell_type": "code",
      "source": "df",
      "metadata": {
        "trusted": true
      },
      "outputs": [
        {
          "execution_count": 156,
          "output_type": "execute_result",
          "data": {
            "text/plain": "           Country/Region  Confirmed       Deaths  Recovered  Active  \\\nindex                                                                  \n0             Afghanistan      36263  1269.000000      25198    9796   \n1                 Albania       4880   144.000000       2745    1991   \n2                 Algeria      27973  1163.000000      18837    7973   \n3                 Andorra        907    52.000000        803      52   \n4                  Angola        950    41.000000        242     667   \n...                   ...        ...          ...        ...     ...   \n182    West Bank and Gaza      10621    78.000000       3752    6791   \n183        Western Sahara         10     1.000000          8       1   \n184                 Yemen       1691   483.000000        833     375   \n185                Zambia       4552   140.000000       2815    1597   \n186              Zimbabwe       2704  3497.326203        542    2126   \n\n       New_cases  New_deaths  New_recovered  Deaths_/_100_Cases  \\\nindex                                                             \n0          106.0        10.0             18                3.50   \n1          117.0         6.0             63                2.95   \n2          616.0         8.0            749                4.16   \n3           10.0         0.0              0                5.73   \n4           18.0         1.0              0                4.32   \n...          ...         ...            ...                 ...   \n182        152.0         2.0              0                0.73   \n183          0.0         0.0              0               10.00   \n184         10.0         4.0             36               28.56   \n185         71.0         1.0            465                3.08   \n186        192.0         2.0             24                1.33   \n\n       Recovered_/_100_Cases  Deaths_/_100_Recovered  Confirmed_last_week  \\\nindex                                                                       \n0                      69.49                    5.04                35526   \n1                      56.25                    5.25                 4171   \n2                      67.34                    6.17                23691   \n3                      88.53                    6.48                  884   \n4                      25.47                   16.94                  749   \n...                      ...                     ...                  ...   \n182                    35.33                    2.08                 8916   \n183                    80.00                   12.50                   10   \n184                    49.26                   57.98                 1619   \n185                    61.84                    4.97                 3326   \n186                    20.04                    6.64                 1713   \n\n       1_week_change  1_week_%_increase             WHO_Region   Total_cases  \\\nindex                                                                          \n0                737               2.07  Eastern Mediterranean  36263.000000   \n1                709              17.00                 Europe   4880.000000   \n2               4282              18.07                 Africa  27973.000000   \n3                 23               2.60                 Europe    907.000000   \n4                201              26.84                 Africa    950.000000   \n...              ...                ...                    ...           ...   \n182             1705              19.12  Eastern Mediterranean  10621.000000   \n183                0               0.00                 Africa     10.000000   \n184               72               4.45  Eastern Mediterranean   1691.000000   \n185             1226              36.86                 Africa   4552.000000   \n186              991              57.85                 Africa   6165.326203   \n\n       Death_Rate  \nindex              \n0        3.499435  \n1        2.950820  \n2        4.157581  \n3        5.733186  \n4        4.315789  \n...           ...  \n182      0.734394  \n183     10.000000  \n184     28.562980  \n185      3.075571  \n186    129.338987  \n\n[187 rows x 17 columns]",
            "text/html": "<div>\n<style scoped>\n    .dataframe tbody tr th:only-of-type {\n        vertical-align: middle;\n    }\n\n    .dataframe tbody tr th {\n        vertical-align: top;\n    }\n\n    .dataframe thead th {\n        text-align: right;\n    }\n</style>\n<table border=\"1\" class=\"dataframe\">\n  <thead>\n    <tr style=\"text-align: right;\">\n      <th></th>\n      <th>Country/Region</th>\n      <th>Confirmed</th>\n      <th>Deaths</th>\n      <th>Recovered</th>\n      <th>Active</th>\n      <th>New_cases</th>\n      <th>New_deaths</th>\n      <th>New_recovered</th>\n      <th>Deaths_/_100_Cases</th>\n      <th>Recovered_/_100_Cases</th>\n      <th>Deaths_/_100_Recovered</th>\n      <th>Confirmed_last_week</th>\n      <th>1_week_change</th>\n      <th>1_week_%_increase</th>\n      <th>WHO_Region</th>\n      <th>Total_cases</th>\n      <th>Death_Rate</th>\n    </tr>\n    <tr>\n      <th>index</th>\n      <th></th>\n      <th></th>\n      <th></th>\n      <th></th>\n      <th></th>\n      <th></th>\n      <th></th>\n      <th></th>\n      <th></th>\n      <th></th>\n      <th></th>\n      <th></th>\n      <th></th>\n      <th></th>\n      <th></th>\n      <th></th>\n      <th></th>\n    </tr>\n  </thead>\n  <tbody>\n    <tr>\n      <th>0</th>\n      <td>Afghanistan</td>\n      <td>36263</td>\n      <td>1269.000000</td>\n      <td>25198</td>\n      <td>9796</td>\n      <td>106.0</td>\n      <td>10.0</td>\n      <td>18</td>\n      <td>3.50</td>\n      <td>69.49</td>\n      <td>5.04</td>\n      <td>35526</td>\n      <td>737</td>\n      <td>2.07</td>\n      <td>Eastern Mediterranean</td>\n      <td>36263.000000</td>\n      <td>3.499435</td>\n    </tr>\n    <tr>\n      <th>1</th>\n      <td>Albania</td>\n      <td>4880</td>\n      <td>144.000000</td>\n      <td>2745</td>\n      <td>1991</td>\n      <td>117.0</td>\n      <td>6.0</td>\n      <td>63</td>\n      <td>2.95</td>\n      <td>56.25</td>\n      <td>5.25</td>\n      <td>4171</td>\n      <td>709</td>\n      <td>17.00</td>\n      <td>Europe</td>\n      <td>4880.000000</td>\n      <td>2.950820</td>\n    </tr>\n    <tr>\n      <th>2</th>\n      <td>Algeria</td>\n      <td>27973</td>\n      <td>1163.000000</td>\n      <td>18837</td>\n      <td>7973</td>\n      <td>616.0</td>\n      <td>8.0</td>\n      <td>749</td>\n      <td>4.16</td>\n      <td>67.34</td>\n      <td>6.17</td>\n      <td>23691</td>\n      <td>4282</td>\n      <td>18.07</td>\n      <td>Africa</td>\n      <td>27973.000000</td>\n      <td>4.157581</td>\n    </tr>\n    <tr>\n      <th>3</th>\n      <td>Andorra</td>\n      <td>907</td>\n      <td>52.000000</td>\n      <td>803</td>\n      <td>52</td>\n      <td>10.0</td>\n      <td>0.0</td>\n      <td>0</td>\n      <td>5.73</td>\n      <td>88.53</td>\n      <td>6.48</td>\n      <td>884</td>\n      <td>23</td>\n      <td>2.60</td>\n      <td>Europe</td>\n      <td>907.000000</td>\n      <td>5.733186</td>\n    </tr>\n    <tr>\n      <th>4</th>\n      <td>Angola</td>\n      <td>950</td>\n      <td>41.000000</td>\n      <td>242</td>\n      <td>667</td>\n      <td>18.0</td>\n      <td>1.0</td>\n      <td>0</td>\n      <td>4.32</td>\n      <td>25.47</td>\n      <td>16.94</td>\n      <td>749</td>\n      <td>201</td>\n      <td>26.84</td>\n      <td>Africa</td>\n      <td>950.000000</td>\n      <td>4.315789</td>\n    </tr>\n    <tr>\n      <th>...</th>\n      <td>...</td>\n      <td>...</td>\n      <td>...</td>\n      <td>...</td>\n      <td>...</td>\n      <td>...</td>\n      <td>...</td>\n      <td>...</td>\n      <td>...</td>\n      <td>...</td>\n      <td>...</td>\n      <td>...</td>\n      <td>...</td>\n      <td>...</td>\n      <td>...</td>\n      <td>...</td>\n      <td>...</td>\n    </tr>\n    <tr>\n      <th>182</th>\n      <td>West Bank and Gaza</td>\n      <td>10621</td>\n      <td>78.000000</td>\n      <td>3752</td>\n      <td>6791</td>\n      <td>152.0</td>\n      <td>2.0</td>\n      <td>0</td>\n      <td>0.73</td>\n      <td>35.33</td>\n      <td>2.08</td>\n      <td>8916</td>\n      <td>1705</td>\n      <td>19.12</td>\n      <td>Eastern Mediterranean</td>\n      <td>10621.000000</td>\n      <td>0.734394</td>\n    </tr>\n    <tr>\n      <th>183</th>\n      <td>Western Sahara</td>\n      <td>10</td>\n      <td>1.000000</td>\n      <td>8</td>\n      <td>1</td>\n      <td>0.0</td>\n      <td>0.0</td>\n      <td>0</td>\n      <td>10.00</td>\n      <td>80.00</td>\n      <td>12.50</td>\n      <td>10</td>\n      <td>0</td>\n      <td>0.00</td>\n      <td>Africa</td>\n      <td>10.000000</td>\n      <td>10.000000</td>\n    </tr>\n    <tr>\n      <th>184</th>\n      <td>Yemen</td>\n      <td>1691</td>\n      <td>483.000000</td>\n      <td>833</td>\n      <td>375</td>\n      <td>10.0</td>\n      <td>4.0</td>\n      <td>36</td>\n      <td>28.56</td>\n      <td>49.26</td>\n      <td>57.98</td>\n      <td>1619</td>\n      <td>72</td>\n      <td>4.45</td>\n      <td>Eastern Mediterranean</td>\n      <td>1691.000000</td>\n      <td>28.562980</td>\n    </tr>\n    <tr>\n      <th>185</th>\n      <td>Zambia</td>\n      <td>4552</td>\n      <td>140.000000</td>\n      <td>2815</td>\n      <td>1597</td>\n      <td>71.0</td>\n      <td>1.0</td>\n      <td>465</td>\n      <td>3.08</td>\n      <td>61.84</td>\n      <td>4.97</td>\n      <td>3326</td>\n      <td>1226</td>\n      <td>36.86</td>\n      <td>Africa</td>\n      <td>4552.000000</td>\n      <td>3.075571</td>\n    </tr>\n    <tr>\n      <th>186</th>\n      <td>Zimbabwe</td>\n      <td>2704</td>\n      <td>3497.326203</td>\n      <td>542</td>\n      <td>2126</td>\n      <td>192.0</td>\n      <td>2.0</td>\n      <td>24</td>\n      <td>1.33</td>\n      <td>20.04</td>\n      <td>6.64</td>\n      <td>1713</td>\n      <td>991</td>\n      <td>57.85</td>\n      <td>Africa</td>\n      <td>6165.326203</td>\n      <td>129.338987</td>\n    </tr>\n  </tbody>\n</table>\n<p>187 rows × 17 columns</p>\n</div>"
          },
          "metadata": {}
        }
      ],
      "execution_count": 156
    },
    {
      "id": "847defee-cc00-4f7c-835c-9ff3ce11f892",
      "cell_type": "markdown",
      "source": "### 20: Identify countries where total cases are increasing but death rates remain low",
      "metadata": {}
    },
    {
      "id": "b182121a-9dcd-43f1-9b5a-ac4331558165",
      "cell_type": "code",
      "source": "df[df['Confirmed'] ==  df[\"Confirmed\"].max()]\ndf[df['Death_Rate'] == df['Death_Rate'].min()]",
      "metadata": {
        "trusted": true
      },
      "outputs": [
        {
          "execution_count": 164,
          "output_type": "execute_result",
          "data": {
            "text/plain": "      Country/Region  Confirmed  Deaths  Recovered  Active  New_cases  \\\nindex                                                                   \n150        Singapore      50838    27.0      45692    5119      469.0   \n\n       New_deaths  New_recovered  Deaths_/_100_Cases  Recovered_/_100_Cases  \\\nindex                                                                         \n150           0.0            171                0.05                  89.88   \n\n       Deaths_/_100_Recovered  Confirmed_last_week  1_week_change  \\\nindex                                                               \n150                      0.06                48035           2803   \n\n       1_week_%_increase       WHO_Region  Total_cases  Death_Rate  \nindex                                                               \n150                 5.84  Western Pacific      50838.0     0.05311  ",
            "text/html": "<div>\n<style scoped>\n    .dataframe tbody tr th:only-of-type {\n        vertical-align: middle;\n    }\n\n    .dataframe tbody tr th {\n        vertical-align: top;\n    }\n\n    .dataframe thead th {\n        text-align: right;\n    }\n</style>\n<table border=\"1\" class=\"dataframe\">\n  <thead>\n    <tr style=\"text-align: right;\">\n      <th></th>\n      <th>Country/Region</th>\n      <th>Confirmed</th>\n      <th>Deaths</th>\n      <th>Recovered</th>\n      <th>Active</th>\n      <th>New_cases</th>\n      <th>New_deaths</th>\n      <th>New_recovered</th>\n      <th>Deaths_/_100_Cases</th>\n      <th>Recovered_/_100_Cases</th>\n      <th>Deaths_/_100_Recovered</th>\n      <th>Confirmed_last_week</th>\n      <th>1_week_change</th>\n      <th>1_week_%_increase</th>\n      <th>WHO_Region</th>\n      <th>Total_cases</th>\n      <th>Death_Rate</th>\n    </tr>\n    <tr>\n      <th>index</th>\n      <th></th>\n      <th></th>\n      <th></th>\n      <th></th>\n      <th></th>\n      <th></th>\n      <th></th>\n      <th></th>\n      <th></th>\n      <th></th>\n      <th></th>\n      <th></th>\n      <th></th>\n      <th></th>\n      <th></th>\n      <th></th>\n      <th></th>\n    </tr>\n  </thead>\n  <tbody>\n    <tr>\n      <th>150</th>\n      <td>Singapore</td>\n      <td>50838</td>\n      <td>27.0</td>\n      <td>45692</td>\n      <td>5119</td>\n      <td>469.0</td>\n      <td>0.0</td>\n      <td>171</td>\n      <td>0.05</td>\n      <td>89.88</td>\n      <td>0.06</td>\n      <td>48035</td>\n      <td>2803</td>\n      <td>5.84</td>\n      <td>Western Pacific</td>\n      <td>50838.0</td>\n      <td>0.05311</td>\n    </tr>\n  </tbody>\n</table>\n</div>"
          },
          "metadata": {}
        }
      ],
      "execution_count": 164
    },
    {
      "id": "6ce3ba37-1423-40e7-81a4-7eebad993867",
      "cell_type": "markdown",
      "source": "### 21: print head of only 2 columns Country/Region and Death_Rat",
      "metadata": {}
    },
    {
      "id": "21dbebfe-864f-4e2e-abfe-b0b27942c1ff",
      "cell_type": "code",
      "source": "df[['Country/Region', \"Death_Rate\"]].head()",
      "metadata": {
        "trusted": true
      },
      "outputs": [
        {
          "execution_count": 165,
          "output_type": "execute_result",
          "data": {
            "text/plain": "      Country/Region  Death_Rate\nindex                           \n0        Afghanistan    3.499435\n1            Albania    2.950820\n2            Algeria    4.157581\n3            Andorra    5.733186\n4             Angola    4.315789",
            "text/html": "<div>\n<style scoped>\n    .dataframe tbody tr th:only-of-type {\n        vertical-align: middle;\n    }\n\n    .dataframe tbody tr th {\n        vertical-align: top;\n    }\n\n    .dataframe thead th {\n        text-align: right;\n    }\n</style>\n<table border=\"1\" class=\"dataframe\">\n  <thead>\n    <tr style=\"text-align: right;\">\n      <th></th>\n      <th>Country/Region</th>\n      <th>Death_Rate</th>\n    </tr>\n    <tr>\n      <th>index</th>\n      <th></th>\n      <th></th>\n    </tr>\n  </thead>\n  <tbody>\n    <tr>\n      <th>0</th>\n      <td>Afghanistan</td>\n      <td>3.499435</td>\n    </tr>\n    <tr>\n      <th>1</th>\n      <td>Albania</td>\n      <td>2.950820</td>\n    </tr>\n    <tr>\n      <th>2</th>\n      <td>Algeria</td>\n      <td>4.157581</td>\n    </tr>\n    <tr>\n      <th>3</th>\n      <td>Andorra</td>\n      <td>5.733186</td>\n    </tr>\n    <tr>\n      <th>4</th>\n      <td>Angola</td>\n      <td>4.315789</td>\n    </tr>\n  </tbody>\n</table>\n</div>"
          },
          "metadata": {}
        }
      ],
      "execution_count": 165
    },
    {
      "id": "6f9457af-3ec1-4fbd-b03f-2c623859fb4d",
      "cell_type": "markdown",
      "source": "### 22: Create a scatter plot comparing total cases and total deaths.",
      "metadata": {}
    },
    {
      "id": "aa076713-c728-4798-9a39-d030f7911c31",
      "cell_type": "code",
      "source": "%pip install seaborn\nimport matplotlib.pyplot as plt\nimport seaborn as sns\n\nplt.figure(figsize=(10,6))\nsns.scatterplot(data=df, x=\"Confirmed\", y=\"Deaths\", alpha=0.6)\n\nplt.xlabel(\"Total Cases\")\nplt.ylabel(\"Total Deaths\")\nplt.title(\"Scatter Plot: Total Cases vs Total Deaths\")\nplt.grid(True)\nplt.show()",
      "metadata": {
        "trusted": true
      },
      "outputs": [
        {
          "output_type": "display_data",
          "data": {
            "text/plain": "<Figure size 1000x600 with 1 Axes>",
            "image/png": "[encoded data removed]"
          },
          "metadata": {}
        }
      ],
      "execution_count": 175
    },
    {
      "id": "7514730c-a2cd-421c-9c84-c5e42584d740",
      "cell_type": "markdown",
      "source": "### Save dataset in CSV form",
      "metadata": {}
    },
    {
      "id": "67315139-e0ab-4ac3-a665-6cf0d8b85386",
      "cell_type": "code",
      "source": "df.to_csv(\"Covid_Cleaned_Data.csv\")",
      "metadata": {
        "trusted": true
      },
      "outputs": [],
      "execution_count": 176
    },
    {
      "id": "49318217-0726-4e3a-a047-9189e7dcf933",
      "cell_type": "code",
      "source": "",
      "metadata": {
        "trusted": true
      },
      "outputs": [],
      "execution_count": null
    }
  ]
}