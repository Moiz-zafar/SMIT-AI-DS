{
 "cells": [
  {
   "cell_type": "markdown",
   "id": "fecc6c17-e063-4a11-8e47-7fd81107bf54",
   "metadata": {},
   "source": [
    "## 1) Write a program to check if a customer is eligible for a discount. If the total purchase is more than $100, apply a 10% discount and display the final price. Otherwise, display the total price as it is.\n"
   ]
  },
  {
   "cell_type": "code",
   "execution_count": 2,
   "id": "3b0e1092-3a5a-47c1-b936-67d94b425a9f",
   "metadata": {},
   "outputs": [
    {
     "name": "stdin",
     "output_type": "stream",
     "text": [
      "Enter the total purchase amount: $ 105\n"
     ]
    },
    {
     "name": "stdout",
     "output_type": "stream",
     "text": [
      "You are eligible for a discount of $ 10.50.\n",
      "The final price after discount is: $ 94.50\n"
     ]
    }
   ],
   "source": [
    "# Check Discount Eligibility Program\n",
    "\n",
    "# Input: total purchase amount\n",
    "total_purchase = float(input(\"Enter the total purchase amount: $\"))\n",
    "\n",
    "# Check eligibility for discount\n",
    "if total_purchase > 100:\n",
    "    discount = total_purchase * 0.10  # 10% discount\n",
    "    final_price = total_purchase - discount\n",
    "    print(f\"You are eligible for a discount of $ {discount:.2f}.\")\n",
    "    print(f\"The final price after discount is: $ {final_price:.2f}\")\n",
    "else:\n",
    "    print(f\"You are not eligible for a discount.\")\n",
    "    print(f\"The total price is: $ {total_purchase:.2f}\")"
   ]
  },
  {
   "cell_type": "markdown",
   "id": "03269ac0-9d3e-4d7f-a7f3-3c6e9d57d88a",
   "metadata": {},
   "source": [
    "## 2) Calculate Bulk Discount If a customer buys more than 5 items, apply a 15% discount on the total price. Otherwise, no discount is applied. Display the total price.\n"
   ]
  },
  {
   "cell_type": "code",
   "execution_count": 17,
   "id": "48057d21-5ab4-4523-b830-b6ef378eee95",
   "metadata": {},
   "outputs": [
    {
     "name": "stdin",
     "output_type": "stream",
     "text": [
      "How many Items did you buy:  6\n",
      "Enter your total amount: $ 102\n"
     ]
    },
    {
     "name": "stdout",
     "output_type": "stream",
     "text": [
      "You are eligible for a discount of $ 15.30.\n",
      "The final price after discount is: $ 86.70\n"
     ]
    }
   ],
   "source": [
    "total_items = float(input(\"How many Items did you buy: \"))\n",
    "\n",
    "if total_items > 5:\n",
    "    total_amount = float(input(\"Enter your total amount: $\"))\n",
    "\n",
    "    discount = total_amount * 0.15 \n",
    "    final_price = total_amount - discount\n",
    "    print(f\"You are eligible for a discount of $ {discount:.2f}.\")\n",
    "    print(f\"The final price after discount is: $ {final_price:.2f}\")\n",
    "else:\n",
    "    print(f\"You are not eligible for a discount.\")\n"
   ]
  },
  {
   "cell_type": "markdown",
   "id": "43899277-2ca4-4105-b813-958781da7e1c",
   "metadata": {},
   "source": [
    "## 3) Check if the customer is a member (is_member = True). Members get a 20% discount; non-members get a 5% discount. Calculate and print the discounted price.\n"
   ]
  },
  {
   "cell_type": "code",
   "execution_count": 25,
   "id": "f402af3c-bfe7-4f99-8389-fb99a3e4c001",
   "metadata": {},
   "outputs": [
    {
     "name": "stdin",
     "output_type": "stream",
     "text": [
      "Are you a member? (yes or no):  yes\n",
      "Enter the total purchase amount: $ 205\n"
     ]
    },
    {
     "name": "stdout",
     "output_type": "stream",
     "text": [
      "You are a member and eligible for a 20% discount.\n",
      "Discount applied: $ 41.00\n",
      "The final price after discount is: $ 164.00\n"
     ]
    }
   ],
   "source": [
    "# Input: Check membership status and purchase amount\n",
    "is_member = input(\"Are you a member? (yes or no): \").strip().lower() == \"yes\"\n",
    "total_price = float(input(\"Enter the total purchase amount: $\"))\n",
    "\n",
    "# Calculate discount based on membership status\n",
    "if is_member:\n",
    "    discount = total_price * 0.20  # 20% discount for members\n",
    "    print(\"You are a member and eligible for a 20% discount.\")\n",
    "else:\n",
    "    discount = total_price * 0.05  # 5% discount for non-members\n",
    "    print(\"You are not a member. You are eligible for a 5% discount.\")\n",
    "\n",
    "# Calculate final price\n",
    "final_price = total_price - discount\n",
    "\n",
    "# Display the discounted price\n",
    "print(f\"Discount applied: $ {discount:.2f}\")\n",
    "print(f\"The final price after discount is: $ {final_price:.2f}\")"
   ]
  },
  {
   "cell_type": "markdown",
   "id": "5f7af7af-4fcc-4e8a-bbe2-58a71bb8bfac",
   "metadata": {},
   "source": [
    "## 4) Seasonal Sale If today is a holiday (is_holiday = True), apply a 25% discount; otherwise, apply a 10% discount. Calculate the price after discount.\n"
   ]
  },
  {
   "cell_type": "code",
   "execution_count": 30,
   "id": "dd310d14-6bea-49d1-8267-aa1e0798f52e",
   "metadata": {},
   "outputs": [
    {
     "name": "stdin",
     "output_type": "stream",
     "text": [
      "Is today a holiday? (yes or no):  yes\n",
      "Enter the total purchase amount: $ 653\n"
     ]
    },
    {
     "name": "stdout",
     "output_type": "stream",
     "text": [
      "It's a holiday! You are eligible for a 25% discount.\n",
      "Discount applied: $ 163.25\n",
      "The final price after discount is: $ 489.75\n"
     ]
    }
   ],
   "source": [
    "is_holiday = input(\"Is today a holiday? (yes or no): \").strip().lower() == \"yes\"\n",
    "total_price = float(input(\"Enter the total purchase amount: $\"))\n",
    "\n",
    "# Calculate discount based on holiday status\n",
    "if is_holiday:\n",
    "    discount = total_price * 0.25  # 25% discount on holidays\n",
    "    print(\"It's a holiday! You are eligible for a 25% discount.\")\n",
    "else:\n",
    "    discount = total_price * 0.10  # 10% discount otherwise\n",
    "    print(\"It's not a holiday. You are eligible for a 10% discount.\")\n",
    "\n",
    "# Calculate final price\n",
    "final_price = total_price - discount\n",
    "\n",
    "# Display the discounted price\n",
    "print(f\"Discount applied: $ {discount:.2f}\")\n",
    "print(f\"The final price after discount is: $ {final_price:.2f}\")"
   ]
  },
  {
   "cell_type": "markdown",
   "id": "65a4ba77-5d32-40e3-b6c7-cb5f078c4f2f",
   "metadata": {},
   "source": [
    "## 5) Buy-One-Get-One-Free If a customer buys an even number of items, they get half of them for free. Otherwise, they pay for all. Calculate the number of items the customer has to pay for.\n"
   ]
  },
  {
   "cell_type": "code",
   "execution_count": 35,
   "id": "1451d581-8f39-43a9-83d0-60b395e30054",
   "metadata": {},
   "outputs": [
    {
     "name": "stdin",
     "output_type": "stream",
     "text": [
      "Enter the number of items purchased:  6\n"
     ]
    },
    {
     "name": "stdout",
     "output_type": "stream",
     "text": [
      "You bought an even number of items. You only have to pay for 3 items.\n",
      "Number of items you need to pay for: 3\n"
     ]
    }
   ],
   "source": [
    "num_items = int(input(\"Enter the number of items purchased: \"))\n",
    "\n",
    "# Calculate the number of items to pay for\n",
    "if num_items % 2 == 0:  # Even number of items\n",
    "    items_to_pay = num_items // 2\n",
    "    print(f\"You bought an even number of items. You only have to pay for {items_to_pay} items.\")\n",
    "else:  # Odd number of items\n",
    "    items_to_pay = num_items\n",
    "    print(f\"You bought an odd number of items. You have to pay for all {items_to_pay} items.\")\n",
    "\n",
    "# Display the result\n",
    "print(f\"Number of items you need to pay for: {items_to_pay}\")"
   ]
  },
  {
   "cell_type": "markdown",
   "id": "9afb9a45-7663-40cb-996c-22c6dd30b586",
   "metadata": {},
   "source": [
    "## 6) Sales Tax If the price of an item is greater than $500, apply a luxury tax of 15%. Otherwise, apply a standard tax of 8%. Display the total price after tax.\n"
   ]
  },
  {
   "cell_type": "code",
   "execution_count": 38,
   "id": "35d257a4-a800-4a60-8773-addd93d09e32",
   "metadata": {},
   "outputs": [
    {
     "name": "stdin",
     "output_type": "stream",
     "text": [
      "Enter the price of the item: $ 163\n"
     ]
    },
    {
     "name": "stdout",
     "output_type": "stream",
     "text": [
      "This item qualifies for a standard tax of 8%.\n",
      "Tax applied: $ 13.04\n",
      "The total price after tax is: $ 176.04\n"
     ]
    }
   ],
   "source": [
    "item_price = float(input(\"Enter the price of the item: $\"))\n",
    "\n",
    "# Determine and calculate the tax based on the item's price\n",
    "if item_price > 500:\n",
    "    tax = item_price * 0.15  # 15% luxury tax\n",
    "    print(\"This item qualifies for a luxury tax of 15%.\")\n",
    "else:\n",
    "    tax = item_price * 0.08  # 8% standard tax\n",
    "    print(\"This item qualifies for a standard tax of 8%.\")\n",
    "\n",
    "# Calculate total price after tax\n",
    "total_price = item_price + tax\n",
    "\n",
    "# Display the tax amount and the total price\n",
    "print(f\"Tax applied: $ {tax:.2f}\")\n",
    "print(f\"The total price after tax is: $ {total_price:.2f}\")\n"
   ]
  },
  {
   "cell_type": "markdown",
   "id": "16a492b6-d9a8-4c54-a31e-b797aacc77c0",
   "metadata": {},
   "source": [
    "## 7) If a person's annual income is above $50,000, they pay 20% tax. Otherwise, they pay 10%. Calculate and display the tax amount.\n"
   ]
  },
  {
   "cell_type": "code",
   "execution_count": 51,
   "id": "016f95a3-26e4-4dae-88ba-8b2713c7ef3f",
   "metadata": {},
   "outputs": [
    {
     "name": "stdin",
     "output_type": "stream",
     "text": [
      "Enter your annual income amount: $ 63124\n"
     ]
    },
    {
     "name": "stdout",
     "output_type": "stream",
     "text": [
      "You are required to pay a 20% tax on your income.\n",
      "Tax amount is: $ 12624.80\n"
     ]
    }
   ],
   "source": [
    "annual_income = float(input(\"Enter your annual income amount: $\"))\n",
    "\n",
    "if annual_income > 50000:\n",
    "    tax = annual_income * 0.20\n",
    "    print(\"You are required to pay a 20% tax on your income.\")\n",
    "else:\n",
    "    tax = annual_income * 0.10\n",
    "    print(\"You are required to pay a 10% tax on your income.\")\n",
    "\n",
    "print(f\"Tax amount is: $ {tax:.2f}\")   "
   ]
  },
  {
   "cell_type": "markdown",
   "id": "270185e3-6a66-4aea-b9c6-8713ea9af72a",
   "metadata": {},
   "source": [
    "## 8) Tax Bracket Write a program to categorize a person into tax brackets: Income < 30000:\"LowTax\", 30000<= income < 100000:\"mediumTax\", income>100000:\"HighTax\""
   ]
  },
  {
   "cell_type": "code",
   "execution_count": 54,
   "id": "4f7792eb-625f-4edb-972c-5431967fb2d0",
   "metadata": {},
   "outputs": [
    {
     "name": "stdin",
     "output_type": "stream",
     "text": [
      "Enter your annual income: $ 62543\n"
     ]
    },
    {
     "name": "stdout",
     "output_type": "stream",
     "text": [
      "Your tax bracket is: Medium Tax\n"
     ]
    }
   ],
   "source": [
    "annual_income = float(input(\"Enter your annual income: $\"))\n",
    "\n",
    "# Determine the tax bracket\n",
    "if annual_income < 30000:\n",
    "    tax_bracket = \"Low Tax\"\n",
    "elif 30000 <= annual_income < 100000:\n",
    "    tax_bracket = \"Medium Tax\"\n",
    "else:\n",
    "    tax_bracket = \"High Tax\"\n",
    "\n",
    "# Display the tax bracket\n",
    "print(f\"Your tax bracket is: {tax_bracket}\")\n"
   ]
  },
  {
   "cell_type": "markdown",
   "id": "3628d06e-e5f7-4df4-b873-ab82027126b0",
   "metadata": {},
   "source": [
    "## 9) VAT Calculation If the item is marked as essential (is_essential = True), apply a VAT of 5%. Otherwise, apply a VAT of 12%. Display the final price.\n"
   ]
  },
  {
   "cell_type": "code",
   "execution_count": 58,
   "id": "2ea03450-08de-46a6-90bd-9f17430481b0",
   "metadata": {},
   "outputs": [
    {
     "name": "stdin",
     "output_type": "stream",
     "text": [
      "Is the item essential? (yes or no):  yes\n",
      "Enter the price of the item: $ 5326\n"
     ]
    },
    {
     "name": "stdout",
     "output_type": "stream",
     "text": [
      "This is an essential item. A VAT of 5% is applied.\n",
      "VAT applied: $ 266.30\n",
      "The final price after VAT is: $ 5592.30\n"
     ]
    }
   ],
   "source": [
    "is_essential = input(\"Is the item essential? (yes or no): \").strip().lower() == \"yes\"\n",
    "item_price = float(input(\"Enter the price of the item: $\"))\n",
    "\n",
    "# Calculate VAT based on the item's type\n",
    "if is_essential:\n",
    "    vat = item_price * 0.05  # 5% VAT for essential items\n",
    "    print(\"This is an essential item. A VAT of 5% is applied.\")\n",
    "else:\n",
    "    vat = item_price * 0.12  # 12% VAT for non-essential items\n",
    "    print(\"This is a non-essential item. A VAT of 12% is applied.\")\n",
    "\n",
    "# Calculate the final price after VAT\n",
    "final_price = item_price + vat\n",
    "\n",
    "# Display the VAT and the final price\n",
    "print(f\"VAT applied: $ {vat:.2f}\")\n",
    "print(f\"The final price after VAT is: $ {final_price:.2f}\")\n"
   ]
  },
  {
   "cell_type": "markdown",
   "id": "fdfd1a16-d870-43b9-b869-65554971a2e5",
   "metadata": {},
   "source": [
    "## 10) Tax-Free Day If today is a tax-free day (tax_free price. Otherwise, add a 7% tax.\n"
   ]
  },
  {
   "cell_type": "code",
   "execution_count": 62,
   "id": "ab061f5a-e912-4219-8df1-fed94464d3bd",
   "metadata": {},
   "outputs": [
    {
     "name": "stdin",
     "output_type": "stream",
     "text": [
      "Is today a tax-free day? (yes or no):  yes\n",
      "Enter the price of the item: $ 8653\n"
     ]
    },
    {
     "name": "stdout",
     "output_type": "stream",
     "text": [
      "Today is a tax-free day! No tax will be applied.\n",
      "The final price is: $ 8653.00\n"
     ]
    }
   ],
   "source": [
    "is_tax_free_day = input(\"Is today a tax-free day? (yes or no): \").strip().lower() == \"yes\"\n",
    "item_price = float(input(\"Enter the price of the item: $\"))\n",
    "\n",
    "# Calculate the price based on tax-free day status\n",
    "if is_tax_free_day:\n",
    "    print(\"Today is a tax-free day! No tax will be applied.\")\n",
    "    final_price = item_price  # No tax applied\n",
    "else:\n",
    "    tax = item_price * 0.07  # 7% tax\n",
    "    final_price = item_price + tax\n",
    "    print(\"Today is not a tax-free day. A 7% tax is applied.\")\n",
    "\n",
    "# Display the final price\n",
    "print(f\"The final price is: $ {final_price:.2f}\")\n"
   ]
  },
  {
   "cell_type": "markdown",
   "id": "ebfc006e-e7b9-4331-8c77-ed07365abf06",
   "metadata": {},
   "source": [
    "## 11) Free Shipping If the total purchase amount is more than 50 dollars, offer free shipping; otherwise, charge 5 dollars for shipping. Display the total amount including shipping.\n"
   ]
  },
  {
   "cell_type": "code",
   "execution_count": 69,
   "id": "ff510e3f-8894-4603-a19d-771c7d0e8034",
   "metadata": {},
   "outputs": [
    {
     "name": "stdin",
     "output_type": "stream",
     "text": [
      "Enter the amount of the items you purchased: $ 62\n"
     ]
    },
    {
     "name": "stdout",
     "output_type": "stream",
     "text": [
      "You have eligible for Free shipping! No shipping charges will be applied.\n",
      "The Total amount with shipping is: $ 62.00\n"
     ]
    }
   ],
   "source": [
    "total_purchase = float(input(\"Enter the amount of the items you purchased: $\"))\n",
    "\n",
    "if total_purchase > 50:\n",
    "    print(\"You have eligible for Free shipping! No shipping charges will be applied.\")\n",
    "    charges = total_purchase\n",
    "else:\n",
    "    charges = total_purchase + 5\n",
    "    print(\"The shipping charge is $5.\")\n",
    "\n",
    "# Display the final price\n",
    "print(f\"The Total amount with shipping is: $ {charges:.2f}\")\n"
   ]
  },
  {
   "cell_type": "markdown",
   "id": "a26d1ebd-a75d-4f70-b90d-4a7a89cdc905",
   "metadata": {},
   "source": [
    "## 12) If a customer enters the correct discount code (DISCOUNT10), apply a 10% discount. Otherwise, charge the full amount.\n"
   ]
  },
  {
   "cell_type": "code",
   "execution_count": 74,
   "id": "9b655415-b45f-42cc-8222-480589931e78",
   "metadata": {},
   "outputs": [
    {
     "name": "stdin",
     "output_type": "stream",
     "text": [
      "Enter the total purchase amount: $ 564\n",
      "Enter the discount code:  DISCOUNT10\n"
     ]
    },
    {
     "name": "stdout",
     "output_type": "stream",
     "text": [
      "The discount code is valid. A 10% discount has been applied.\n",
      "The final price is: $ 507.60\n"
     ]
    }
   ],
   "source": [
    "total_price = float(input(\"Enter the total purchase amount: $\"))\n",
    "discount_code = input(\"Enter the discount code: \").strip()\n",
    "\n",
    "# Check if the discount code is correct\n",
    "if discount_code == \"DISCOUNT10\":\n",
    "    discount = total_price * 0.10  # 10% discount\n",
    "    final_price = total_price - discount\n",
    "    print(\"The discount code is valid. A 10% discount has been applied.\")\n",
    "else:\n",
    "    final_price = total_price\n",
    "    print(\"Invalid discount code. No discount applied.\")\n",
    "\n",
    "# Display the final price\n",
    "print(f\"The final price is: $ {final_price:.2f}\")\n"
   ]
  },
  {
   "cell_type": "markdown",
   "id": "f349c0d3-79a9-470b-b93f-c8c27f4b5dd8",
   "metadata": {},
   "source": [
    "## 13) Tiered Discounts Apply discounts based on the total price: 50: No discount. 50-100: 10% discount. Over $100: 20% discount."
   ]
  },
  {
   "cell_type": "code",
   "execution_count": 77,
   "id": "883d4a94-39ea-432d-85c1-e8210e9bff9c",
   "metadata": {},
   "outputs": [
    {
     "name": "stdin",
     "output_type": "stream",
     "text": [
      "Enter the total purchase amount: $ 5632\n"
     ]
    },
    {
     "name": "stdout",
     "output_type": "stream",
     "text": [
      "You qualify for a 20% discount.\n",
      "Discount applied: $ 1126.40\n",
      "The final price after discount is: $ 4505.60\n"
     ]
    }
   ],
   "source": [
    "total_price = float(input(\"Enter the total purchase amount: $\"))\n",
    "\n",
    "# Determine the discount based on the specified tiers\n",
    "if total_price > 100:\n",
    "    discount = total_price * 0.20  # 20% discount for over $100\n",
    "    print(\"You qualify for a 20% discount.\")\n",
    "elif 50 <= total_price <= 100:\n",
    "    discount = total_price * 0.10  # 10% discount for $50 to $100\n",
    "    print(\"You qualify for a 10% discount.\")\n",
    "else:\n",
    "    discount = 0  # No discount for $0 to $50\n",
    "    print(\"No discount applied for purchases under $50.\")\n",
    "\n",
    "# Calculate the final price\n",
    "final_price = total_price - discount\n",
    "\n",
    "# Display the discount and final price\n",
    "print(f\"Discount applied: $ {discount:.2f}\")\n",
    "print(f\"The final price after discount is: $ {final_price:.2f}\")\n"
   ]
  },
  {
   "cell_type": "markdown",
   "id": "3af15a95-332a-4d44-9904-ec3f8c44a75c",
   "metadata": {},
   "source": [
    "## 14) Minimum Purchase Requirement If the total amount is less than 20 dollars, display a message: \"Minimum purchase of 20 dollars is required.\" Otherwise, display the total amount.\n"
   ]
  },
  {
   "cell_type": "code",
   "execution_count": 80,
   "id": "07f31df8-327a-4dbc-9eb4-f3dc6e35867e",
   "metadata": {},
   "outputs": [
    {
     "name": "stdin",
     "output_type": "stream",
     "text": [
      "Enter the total purchase amount: $ 19\n"
     ]
    },
    {
     "name": "stdout",
     "output_type": "stream",
     "text": [
      "Minimum purchase of 20 dollars is required.\n"
     ]
    }
   ],
   "source": [
    "total_price = float(input(\"Enter the total purchase amount: $\"))\n",
    "\n",
    "# Check if the total amount meets the minimum purchase requirement\n",
    "if total_price < 20:\n",
    "    print(\"Minimum purchase of 20 dollars is required.\")\n",
    "else:\n",
    "    print(f\"The total purchase amount is: $ {total_price:.2f}\")\n"
   ]
  },
  {
   "cell_type": "markdown",
   "id": "75fd4eba-1cd5-4106-8515-14c406ef7367",
   "metadata": {},
   "source": [
    "## 15) Loyalty Points If a customer is a loyal member (is_loyal True), they earn double loyalty points for their purchase. Otherwise, they earn standard points.\n"
   ]
  },
  {
   "cell_type": "code",
   "execution_count": 83,
   "id": "c789127e-649f-4ab4-b159-b9e079928db7",
   "metadata": {},
   "outputs": [
    {
     "name": "stdin",
     "output_type": "stream",
     "text": [
      "Enter the total purchase amount: $ 1536\n",
      "Is the customer a loyal member? (yes or no):  yes\n"
     ]
    },
    {
     "name": "stdout",
     "output_type": "stream",
     "text": [
      "You are a loyal member and earn double loyalty points!\n",
      "Loyalty points earned: 3072\n"
     ]
    }
   ],
   "source": [
    "total_price = float(input(\"Enter the total purchase amount: $\"))\n",
    "is_loyal = input(\"Is the customer a loyal member? (yes or no): \").strip().lower() == \"yes\"\n",
    "\n",
    "# Determine loyalty points\n",
    "if is_loyal:\n",
    "    loyalty_points = total_price * 2  # Double points for loyal members\n",
    "    print(\"You are a loyal member and earn double loyalty points!\")\n",
    "else:\n",
    "    loyalty_points = total_price  # Standard points for non-loyal members\n",
    "    print(\"You earn standard loyalty points.\")\n",
    "\n",
    "# Display loyalty points earned\n",
    "print(f\"Loyalty points earned: {loyalty_points:.0f}\")\n"
   ]
  },
  {
   "cell_type": "markdown",
   "id": "11f96415-0985-482d-8100-a82f7dd59178",
   "metadata": {},
   "source": [
    "## 16) Travel Discount If a person is traveling more than 500 miles, offer a 20% discount on ticket price. Otherwise, charge the full amount.\n"
   ]
  },
  {
   "cell_type": "code",
   "execution_count": 92,
   "id": "29c19406-a259-489c-8b7a-54951f7cd4e5",
   "metadata": {},
   "outputs": [
    {
     "name": "stdin",
     "output_type": "stream",
     "text": [
      "Enter the distance traveled (in miles):  621\n",
      "Enter the ticket price: $ 25631\n"
     ]
    },
    {
     "name": "stdout",
     "output_type": "stream",
     "text": [
      "You are traveling more than 500 miles and qualify for a 20% discount.\n",
      "Discount applied: $ 5126.20\n",
      "The final ticket price is: $ 20504.80\n"
     ]
    }
   ],
   "source": [
    "distance = float(input(\"Enter the distance traveled (in miles): \"))\n",
    "ticket_price = float(input(\"Enter the ticket price: $\"))\n",
    "\n",
    "# Check if the distance qualifies for a discount\n",
    "if distance > 500:\n",
    "    discount = ticket_price * 0.20  # 20% discount\n",
    "    final_price = ticket_price - discount\n",
    "    print(f\"You are traveling more than 500 miles and qualify for a 20% discount.\")\n",
    "    print(f\"Discount applied: $ {discount:.2f}\")\n",
    "else:\n",
    "    final_price = ticket_price\n",
    "    print(\"You are traveling 500 miles or less and do not qualify for a discount.\")\n",
    "\n",
    "# Display the final ticket price\n",
    "print(f\"The final ticket price is: $ {final_price:.2f}\")\n"
   ]
  },
  {
   "cell_type": "markdown",
   "id": "7f381678-1f43-4ef3-b850-183d6eaa48f2",
   "metadata": {},
   "source": [
    "## 17) Child or Senior Discount If a passenger is under 12 or over 60 years old, apply a 15% discount on the ticket price. Otherwise, charge the full price.\n"
   ]
  },
  {
   "cell_type": "code",
   "execution_count": 101,
   "id": "c3ce11bc-8e2d-4767-ab44-6fbe60fca76d",
   "metadata": {},
   "outputs": [
    {
     "name": "stdin",
     "output_type": "stream",
     "text": [
      "Enter the passenger's age:  60\n",
      "Enter the ticket price: $ 632\n"
     ]
    },
    {
     "name": "stdout",
     "output_type": "stream",
     "text": [
      "You do not qualify for a discount.\n",
      "The final ticket price is: $ 632.00\n"
     ]
    }
   ],
   "source": [
    "age = int(input(\"Enter the passenger's age: \"))\n",
    "ticket_price = float(input(\"Enter the ticket price: $\"))\n",
    "\n",
    "# Check if the passenger qualifies for a discount\n",
    "if age < 12 or age > 60:\n",
    "    discount = ticket_price * 0.15  # 15% discount\n",
    "    final_price = ticket_price - discount\n",
    "    print(\"You qualify for a 15% discount!\")\n",
    "    print(f\"Discount applied: $ {discount:.2f}\")\n",
    "else:\n",
    "    final_price = ticket_price\n",
    "    print(\"You do not qualify for a discount.\")\n",
    "\n",
    "# Display the final ticket price\n",
    "print(f\"The final ticket price is: $ {final_price:.2f}\")\n"
   ]
  },
  {
   "cell_type": "markdown",
   "id": "229e13cf-f8ef-4982-8e6f-c7e157789aeb",
   "metadata": {},
   "source": [
    "## 18) Ticket Type Pricing If the ticket is for a weekend (is_weekend = True), add a 10% surcharge. Otherwise, charge the standard price.\n"
   ]
  },
  {
   "cell_type": "code",
   "execution_count": 103,
   "id": "ff8c18e2-c48c-42e0-8bfa-a3f05c315ab7",
   "metadata": {},
   "outputs": [
    {
     "name": "stdin",
     "output_type": "stream",
     "text": [
      "Is the ticket for a weekend? (yes or no):  yes\n",
      "Enter the ticket price: $ 650\n"
     ]
    },
    {
     "name": "stdout",
     "output_type": "stream",
     "text": [
      "The ticket is for a weekend. A 10% surcharge has been applied.\n",
      "Surcharge added: $ 65.00\n",
      "The final ticket price is: $ 715.00\n"
     ]
    }
   ],
   "source": [
    "# Input: Check if the ticket is for a weekend and ticket price\n",
    "is_weekend = input(\"Is the ticket for a weekend? (yes or no): \").strip().lower() == \"yes\"\n",
    "ticket_price = float(input(\"Enter the ticket price: $\"))\n",
    "\n",
    "# Calculate the final price based on the weekend status\n",
    "if is_weekend:\n",
    "    surcharge = ticket_price * 0.10  # 10% surcharge\n",
    "    final_price = ticket_price + surcharge\n",
    "    print(\"The ticket is for a weekend. A 10% surcharge has been applied.\")\n",
    "    print(f\"Surcharge added: $ {surcharge:.2f}\")\n",
    "else:\n",
    "    final_price = ticket_price\n",
    "    print(\"The ticket is not for a weekend. No surcharge applied.\")\n",
    "\n",
    "# Display the final ticket price\n",
    "print(f\"The final ticket price is: $ {final_price:.2f}\")"
   ]
  },
  {
   "cell_type": "markdown",
   "id": "4e11a156-2085-4f7e-b121-aa3248b7e76c",
   "metadata": {},
   "source": [
    "## 19) Baggage Fee If the total baggage weight is over 20kg, charge $10 per extra kilogram. Otherwise, no extra fee.\n"
   ]
  },
  {
   "cell_type": "code",
   "execution_count": 106,
   "id": "beb84d4c-d9e9-40b4-8253-e86ede00331e",
   "metadata": {},
   "outputs": [
    {
     "name": "stdin",
     "output_type": "stream",
     "text": [
      "Enter the total baggage weight (in kg):  562\n"
     ]
    },
    {
     "name": "stdout",
     "output_type": "stream",
     "text": [
      "Baggage exceeds the limit by 542.00 kg.\n",
      "Extra fee for overweight baggage: $ 5420.00\n",
      "The total baggage fee is: $ 5420.00\n"
     ]
    }
   ],
   "source": [
    "baggage_weight = float(input(\"Enter the total baggage weight (in kg): \"))\n",
    "\n",
    "# Check if the baggage weight exceeds the limit\n",
    "if baggage_weight > 20:\n",
    "    extra_weight = baggage_weight - 20  # Calculate extra weight\n",
    "    extra_fee = extra_weight * 10  # $10 per extra kg\n",
    "    print(f\"Baggage exceeds the limit by {extra_weight:.2f} kg.\")\n",
    "    print(f\"Extra fee for overweight baggage: $ {extra_fee:.2f}\")\n",
    "else:\n",
    "    extra_fee = 0  # No extra fee for 20kg or less\n",
    "    print(\"Baggage is within the allowed weight limit. No extra fee.\")\n",
    "\n",
    "# Display the total fee\n",
    "print(f\"The total baggage fee is: $ {extra_fee:.2f}\")\n"
   ]
  },
  {
   "cell_type": "markdown",
   "id": "b2055dc0-9d83-4bb3-8d68-0b50d662d028",
   "metadata": {},
   "source": [
    "## 20) Early Bird Discount If a ticket is booked more than 30 days in advance, apply a 10% discount. Otherwise, charge the full price.\n"
   ]
  },
  {
   "cell_type": "code",
   "execution_count": 109,
   "id": "0d19fa16-7c3f-41db-94ae-0215eb29ac5f",
   "metadata": {},
   "outputs": [
    {
     "name": "stdin",
     "output_type": "stream",
     "text": [
      "Enter the number of days in advance the ticket is booked:  5\n",
      "Enter the ticket price: $ 200\n"
     ]
    },
    {
     "name": "stdout",
     "output_type": "stream",
     "text": [
      "The ticket does not qualify for an Early Bird Discount.\n",
      "The final ticket price is: $ 200.00\n"
     ]
    }
   ],
   "source": [
    "days_in_advance = int(input(\"Enter the number of days in advance the ticket is booked: \"))\n",
    "ticket_price = float(input(\"Enter the ticket price: $\"))\n",
    "\n",
    "# Check if the ticket qualifies for the Early Bird Discount\n",
    "if days_in_advance > 30:\n",
    "    discount = ticket_price * 0.10  # 10% discount\n",
    "    final_price = ticket_price - discount\n",
    "    print(\"The ticket qualifies for an Early Bird Discount of 10%.\")\n",
    "    print(f\"Discount applied: $ {discount:.2f}\")\n",
    "else:\n",
    "    final_price = ticket_price\n",
    "    print(\"The ticket does not qualify for an Early Bird Discount.\")\n",
    "\n",
    "# Display the final ticket price\n",
    "print(f\"The final ticket price is: $ {final_price:.2f}\")\n"
   ]
  },
  {
   "cell_type": "markdown",
   "id": "d46546dd-8802-4097-b5e6-add7e03fc4cf",
   "metadata": {},
   "source": [
    "## 21) Pass or Fail If a student scores 40 or more, print \"Pass\". Otherwise, print \"Fail\".\n"
   ]
  },
  {
   "cell_type": "code",
   "execution_count": 112,
   "id": "4381c7e1-f8da-4a3b-a909-6aa259de240e",
   "metadata": {},
   "outputs": [
    {
     "name": "stdin",
     "output_type": "stream",
     "text": [
      "Enter the student's score:  52\n"
     ]
    },
    {
     "name": "stdout",
     "output_type": "stream",
     "text": [
      "Pass\n"
     ]
    }
   ],
   "source": [
    "score = int(input(\"Enter the student's score: \"))\n",
    "\n",
    "# Check if the student passes or fails\n",
    "if score >= 40:\n",
    "    print(\"Pass\")\n",
    "else:\n",
    "    print(\"Fail\")\n"
   ]
  },
  {
   "cell_type": "markdown",
   "id": "6f040955-5392-4a8e-b653-a84715652e55",
   "metadata": {},
   "source": [
    "## 22) Grade Assignment Based on a student's score, assign grades: 90 and above: \"A\" □ 75–89: \"B\" ☐ 50–74: \"C\" □ Below 50: \"F\"\n"
   ]
  },
  {
   "cell_type": "code",
   "execution_count": 115,
   "id": "ad9c349e-f21b-4eca-a2b2-5797145bf9c4",
   "metadata": {},
   "outputs": [
    {
     "name": "stdin",
     "output_type": "stream",
     "text": [
      "Enter the student's score:  65\n"
     ]
    },
    {
     "name": "stdout",
     "output_type": "stream",
     "text": [
      "The student's grade is: C\n"
     ]
    }
   ],
   "source": [
    "score = int(input(\"Enter the student's score: \"))\n",
    "\n",
    "# Determine the grade based on the score\n",
    "if score >= 90:\n",
    "    grade = \"A\"\n",
    "elif 75 <= score <= 89:\n",
    "    grade = \"B\"\n",
    "elif 50 <= score <= 74:\n",
    "    grade = \"C\"\n",
    "else:\n",
    "    grade = \"F\"\n",
    "\n",
    "# Output: Display the grade\n",
    "print(f\"The student's grade is: {grade}\")\n"
   ]
  },
  {
   "cell_type": "markdown",
   "id": "6d1f141f-d28c-4718-a303-d15caa0893bc",
   "metadata": {},
   "source": [
    "## 23) If a student completes all assignments, add 5 bonus marks to their score. Otherwise, no bonus marks.\n"
   ]
  },
  {
   "cell_type": "code",
   "execution_count": 118,
   "id": "9214e675-617a-4e5f-9f3d-3032b84b226c",
   "metadata": {},
   "outputs": [
    {
     "name": "stdin",
     "output_type": "stream",
     "text": [
      "Enter the student's score:  78\n",
      "Has the student completed all assignments? (yes or no):  yes\n"
     ]
    },
    {
     "name": "stdout",
     "output_type": "stream",
     "text": [
      "All assignments completed. 5 bonus marks added!\n",
      "The final score is: 83\n"
     ]
    }
   ],
   "source": [
    "score = int(input(\"Enter the student's score: \"))\n",
    "completed_assignments = input(\"Has the student completed all assignments? (yes or no): \").strip().lower()\n",
    "\n",
    "# Add bonus marks if assignments are completed\n",
    "if completed_assignments == \"yes\":\n",
    "    score += 5  # Add 5 bonus marks\n",
    "    print(\"All assignments completed. 5 bonus marks added!\")\n",
    "else:\n",
    "    print(\"Assignments not completed. No bonus marks added.\")\n",
    "\n",
    "# Output: Display the final score\n",
    "print(f\"The final score is: {score}\")\n"
   ]
  },
  {
   "cell_type": "markdown",
   "id": "5aa3d975-e2f8-4fdc-94ec-50f413bcca42",
   "metadata": {},
   "source": [
    "## 24) Attendance Eligibility If a student's attendance is 75% or more, they are eligible to take the exam. Otherwise, they are not.\n"
   ]
  },
  {
   "cell_type": "code",
   "execution_count": 123,
   "id": "58c77583-c11e-49c4-a2a8-b3dc6406b251",
   "metadata": {},
   "outputs": [
    {
     "name": "stdin",
     "output_type": "stream",
     "text": [
      "Enter the student's attendance percentage:  85\n"
     ]
    },
    {
     "name": "stdout",
     "output_type": "stream",
     "text": [
      "The student is eligible to take the exam.\n"
     ]
    }
   ],
   "source": [
    "attendance = float(input(\"Enter the student's attendance percentage: \"))\n",
    "\n",
    "# Check eligibility based on attendance\n",
    "if attendance >= 75:\n",
    "    print(\"The student is eligible to take the exam.\")\n",
    "else:\n",
    "    print(\"The student is not eligible to take the exam.\")"
   ]
  },
  {
   "cell_type": "markdown",
   "id": "7c6e5610-3706-4a43-8d65-88ebc392b3fa",
   "metadata": {},
   "source": [
    "## 25) Scholarship Eligibility If a student's grade is \"A\" and their annual family income is below $30,000, they are eligible for a scholarship. Otherwise, they are not.\n"
   ]
  },
  {
   "cell_type": "code",
   "execution_count": 126,
   "id": "adac43fe-f66c-4252-974a-5917dfd52fa8",
   "metadata": {},
   "outputs": [
    {
     "name": "stdin",
     "output_type": "stream",
     "text": [
      "Enter the student's grade (A, B, C, etc.):  a\n",
      "Enter the annual family income: $ 50000\n"
     ]
    },
    {
     "name": "stdout",
     "output_type": "stream",
     "text": [
      "The student is not eligible for a scholarship.\n"
     ]
    }
   ],
   "source": [
    "grade = input(\"Enter the student's grade (A, B, C, etc.): \").strip().upper()\n",
    "family_income = float(input(\"Enter the annual family income: $\"))\n",
    "\n",
    "# Check eligibility for scholarship\n",
    "if grade == \"A\" and family_income < 30000:\n",
    "    print(\"The student is eligible for a scholarship.\")\n",
    "else:\n",
    "    print(\"The student is not eligible for a scholarship.\")"
   ]
  },
  {
   "cell_type": "code",
   "execution_count": null,
   "id": "ab27a81c-8536-4ef5-9b1d-aa5c9e94b153",
   "metadata": {},
   "outputs": [],
   "source": []
  },
  {
   "cell_type": "code",
   "execution_count": null,
   "id": "1a05770b-81cd-4b56-88bf-3c8e265549b9",
   "metadata": {},
   "outputs": [],
   "source": []
  },
  {
   "cell_type": "code",
   "execution_count": null,
   "id": "f3abc3b8-0595-4d3a-96f6-4151bc7b2890",
   "metadata": {},
   "outputs": [],
   "source": []
  }
 ],
 "metadata": {
  "kernelspec": {
   "display_name": "Python 3 (ipykernel)",
   "language": "python",
   "name": "python3"
  },
  "language_info": {
   "codemirror_mode": {
    "name": "ipython",
    "version": 3
   },
   "file_extension": ".py",
   "mimetype": "text/x-python",
   "name": "python",
   "nbconvert_exporter": "python",
   "pygments_lexer": "ipython3",
   "version": "3.12.7"
  }
 },
 "nbformat": 4,
 "nbformat_minor": 5
}
