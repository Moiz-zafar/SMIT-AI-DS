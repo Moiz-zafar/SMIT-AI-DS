{
 "cells": [
  {
   "cell_type": "markdown",
   "id": "12b715f3-e476-49f2-9521-c3a727476b84",
   "metadata": {},
   "source": [
    "# PRINT\n",
    "    1.Using the python print function print any string value, integer value, boolean value, float value in single print command\n"
   ]
  },
  {
   "cell_type": "code",
   "execution_count": 4,
   "id": "7d1e088d-a8a8-4eb8-9a8f-e340dd5b85cb",
   "metadata": {},
   "outputs": [
    {
     "name": "stdout",
     "output_type": "stream",
     "text": [
      "hello 98 True 98.5\n"
     ]
    }
   ],
   "source": [
    "print(\"hello\" ,98 ,True ,98.5) \n"
   ]
  },
  {
   "cell_type": "markdown",
   "id": "adfd7fa4-50ff-4ec6-bb6b-f59f96d265af",
   "metadata": {},
   "source": [
    " 2) Using the python print function print hyphon(-) separated any string value, integer value, boolean value, float value in single print command\n"
   ]
  },
  {
   "cell_type": "code",
   "execution_count": 8,
   "id": "3cbb6bc0-8439-41fb-ae71-af958e716a66",
   "metadata": {},
   "outputs": [
    {
     "name": "stdout",
     "output_type": "stream",
     "text": [
      "hello-98-True-98.5\n"
     ]
    }
   ],
   "source": [
    " print(\"hello\" ,98 ,True ,98.5 ,sep='-')\n"
   ]
  },
  {
   "cell_type": "markdown",
   "id": "1d4b0e42-a8a2-4a89-b169-7c0f78a8c579",
   "metadata": {},
   "source": [
    "   3) Using the python print function print any string value, integer value, boolean value, float value in separate print command. But every value must be space separated and in single line\n"
   ]
  },
  {
   "cell_type": "code",
   "execution_count": 13,
   "id": "c48b5441-fba1-4e80-b6d6-418fb2414370",
   "metadata": {},
   "outputs": [
    {
     "name": "stdout",
     "output_type": "stream",
     "text": [
      "hello 98 True 98.5\n"
     ]
    }
   ],
   "source": [
    "print(\"hello\", end=' ')\n",
    "print(98, end=' ') \n",
    "print(True, end=' ') \n",
    "print(98.5) \n"
   ]
  },
  {
   "cell_type": "markdown",
   "id": "ff2b3936-1a78-4edc-8e9a-d63afd82187e",
   "metadata": {},
   "source": [
    " 4) Can a python print function take no value to print???\n"
   ]
  },
  {
   "cell_type": "code",
   "execution_count": 16,
   "id": "7fe94959-929d-4a13-b283-8e5caa65f0cd",
   "metadata": {},
   "outputs": [
    {
     "name": "stdout",
     "output_type": "stream",
     "text": [
      "\n"
     ]
    }
   ],
   "source": [
    "print(\"\")\n"
   ]
  },
  {
   "cell_type": "markdown",
   "id": "0e179e1d-7705-4719-8ea5-d71f4d6f932b",
   "metadata": {},
   "source": [
    "## Variables in Python Operators\n",
    "One of my friends name is Mr. Ahmed. He is 30 years old. He is a lawer by profession. He has done his bachelors in law in the year 2005. He is working with a reputable law firm 'The Himalya Associates' in Karachi since 2015. He is a handsome lawer with height of 5.10 feets and weight 70600 g. His monthly income is Rs. 200k PKR. Note: Create variables from above text and also assign values from the text."
   ]
  },
  {
   "cell_type": "code",
   "execution_count": 21,
   "id": "3c22c65e-103b-4016-9e9e-c457cd2ad1c5",
   "metadata": {},
   "outputs": [],
   "source": [
    "name = \"Mr.Ahmed\"\n",
    "age = 30\n",
    "profession = \"lawyer\" \n",
    "education = \"bachelors\"\n",
    "graduation_year = 2005\n",
    "company_name = \"The himalya associates\" \n",
    "company_location = \"karachi\" \n",
    "joining_year = 2015 \n",
    "height_Ft = 5.10 \n",
    "weight_g = 70600 \n",
    "monthly_income = 200000"
   ]
  },
  {
   "cell_type": "markdown",
   "id": "a793d9fd-7f58-40ec-a227-94faa9d7b02b",
   "metadata": {},
   "source": [
    "6)How many years has been to Mr. Ahmed after his bachelors degree? Create a variable that hold current year value and then subtract it from his passout year\n",
    "\n"
   ]
  },
  {
   "cell_type": "code",
   "execution_count": 24,
   "id": "55d88a6c-6359-41c3-81ff-3aa89f3b78e0",
   "metadata": {},
   "outputs": [
    {
     "data": {
      "text/plain": [
       "19"
      ]
     },
     "execution_count": 24,
     "metadata": {},
     "output_type": "execute_result"
    }
   ],
   "source": [
    "current_year = 2024 \n",
    "current_year - graduation_year\n"
   ]
  },
  {
   "cell_type": "markdown",
   "id": "45be1ba4-ab46-4c80-9f59-d4e8e70dd74f",
   "metadata": {},
   "source": [
    "7) How many years has Mr. Ahmed been working with law firm 'The Himalya Associates'. Create necesary variables and print the correct number of years in working in the firm\n"
   ]
  },
  {
   "cell_type": "code",
   "execution_count": 27,
   "id": "841e7151-3f47-4ffe-86c7-d37359e0d5a6",
   "metadata": {},
   "outputs": [
    {
     "data": {
      "text/plain": [
       "9"
      ]
     },
     "execution_count": 27,
     "metadata": {},
     "output_type": "execute_result"
    }
   ],
   "source": [
    "current_year - joining_year\n"
   ]
  },
  {
   "cell_type": "markdown",
   "id": "877c3cb0-1eef-439a-8802-f9cbdb5ecafc",
   "metadata": {},
   "source": [
    "8) Convert the monthly income of Mr. Ahmed in dollars. Create necesary variables and print the income in dollars.\n",
    "\n"
   ]
  },
  {
   "cell_type": "code",
   "execution_count": 31,
   "id": "ae1134f9-0551-489e-8970-14d1b221351a",
   "metadata": {},
   "outputs": [],
   "source": [
    "dollar = 277 \n",
    "monthly_income_dollars = monthly_income / dollar\n"
   ]
  },
  {
   "cell_type": "markdown",
   "id": "99932692-8c85-4a9a-8ee6-7923afdf8583",
   "metadata": {},
   "source": [
    "9) Check if the income in dollars is a float or integer value. if it is float, re-write the code so that income gets converted in integer. print the income in integer type value\n"
   ]
  },
  {
   "cell_type": "code",
   "execution_count": 35,
   "id": "ed0385a8-2a54-458e-819b-898f7396636b",
   "metadata": {},
   "outputs": [
    {
     "name": "stdout",
     "output_type": "stream",
     "text": [
      "722\n"
     ]
    }
   ],
   "source": [
    "type( monthly_income_dollars )\n",
    "monthly_income_dollars = monthly_income // dollar \n",
    "print( monthly_income_dollars)\n"
   ]
  },
  {
   "cell_type": "code",
   "execution_count": 37,
   "id": "f506daac-293e-4a5b-abee-c366cd15c137",
   "metadata": {},
   "outputs": [
    {
     "name": "stdout",
     "output_type": "stream",
     "text": [
      "70 kg\n"
     ]
    }
   ],
   "source": [
    "type( weight_g )\n",
    "weight_g = weight_g // 1000\n",
    "print(weight_g,\"kg\")\n"
   ]
  },
  {
   "cell_type": "markdown",
   "id": "b5ea9946-75a9-469f-871e-14a957e4791c",
   "metadata": {},
   "source": [
    "10) Can Rs. 100 be divided equally among 6 students? HINT: % operator (modulo )\n"
   ]
  },
  {
   "cell_type": "code",
   "execution_count": 40,
   "id": "1d10f0e9-dd0a-414c-8af1-5c18f909d1d9",
   "metadata": {},
   "outputs": [
    {
     "data": {
      "text/plain": [
       "4"
      ]
     },
     "execution_count": 40,
     "metadata": {},
     "output_type": "execute_result"
    }
   ],
   "source": [
    "100 % 6 \t\n"
   ]
  },
  {
   "cell_type": "code",
   "execution_count": null,
   "id": "efe8ced2-22bf-4bf6-9d5c-b81583009aa3",
   "metadata": {},
   "outputs": [],
   "source": []
  }
 ],
 "metadata": {
  "kernelspec": {
   "display_name": "Python 3 (ipykernel)",
   "language": "python",
   "name": "python3"
  },
  "language_info": {
   "codemirror_mode": {
    "name": "ipython",
    "version": 3
   },
   "file_extension": ".py",
   "mimetype": "text/x-python",
   "name": "python",
   "nbconvert_exporter": "python",
   "pygments_lexer": "ipython3",
   "version": "3.12.7"
  }
 },
 "nbformat": 4,
 "nbformat_minor": 5
}
