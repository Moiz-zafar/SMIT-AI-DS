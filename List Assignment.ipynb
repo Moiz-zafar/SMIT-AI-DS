{
 "cells": [
  {
   "cell_type": "markdown",
   "id": "b722586d-adc0-449d-b4d6-a21346528cf3",
   "metadata": {},
   "source": [
    "## 1) Write a program that accepts a list from user and print the alternate element of list.\n"
   ]
  },
  {
   "cell_type": "code",
   "execution_count": 7,
   "id": "4c3f7af2-bd74-4888-8eb0-583f556695ff",
   "metadata": {},
   "outputs": [
    {
     "name": "stdin",
     "output_type": "stream",
     "text": [
      "Enter a list of Elements moiz ali hamza\n"
     ]
    },
    {
     "name": "stdout",
     "output_type": "stream",
     "text": [
      "Alternate elements of the list are: ['moiz', 'ali', 'hamza']\n"
     ]
    }
   ],
   "source": [
    "myList=input(\"Enter a list of Elements\")\n",
    "userList=myList.split()\n",
    "print(\"Alternate elements of the list are:\",userList)\n"
   ]
  },
  {
   "cell_type": "markdown",
   "id": "9982465a-1236-4084-864c-c0f9c5a62b0b",
   "metadata": {},
   "source": [
    "## 2) Write a program that accepts a list from user. Your program should reverse the content of list and display it. Do not use reverse() method.\n"
   ]
  },
  {
   "cell_type": "code",
   "execution_count": 10,
   "id": "1955cf95-01a1-47b9-b423-4cb218599a3a",
   "metadata": {},
   "outputs": [
    {
     "name": "stdin",
     "output_type": "stream",
     "text": [
      "enter the list of element moiz hamza arif danish\n"
     ]
    },
    {
     "name": "stdout",
     "output_type": "stream",
     "text": [
      "['moiz', 'hamza', 'arif', 'danish']\n"
     ]
    },
    {
     "data": {
      "text/plain": [
       "['danish', 'arif', 'hamza', 'moiz']"
      ]
     },
     "execution_count": 10,
     "metadata": {},
     "output_type": "execute_result"
    }
   ],
   "source": [
    "newList=input(\"enter the list of element\")\n",
    "userLst=newList.split()\n",
    "print(userLst)\n",
    "userLst[::-1]\n"
   ]
  },
  {
   "cell_type": "markdown",
   "id": "1c8c98d3-8ccc-4e84-b080-ff59788a966c",
   "metadata": {},
   "source": [
    "## 3) Find and display the largest number of a list without using built-in function max(). Your program should ask the user to input values in list from keyboard.\n"
   ]
  },
  {
   "cell_type": "code",
   "execution_count": 17,
   "id": "608ccd8d-d7bb-4e9b-9661-3b811f61a1f3",
   "metadata": {},
   "outputs": [
    {
     "name": "stdin",
     "output_type": "stream",
     "text": [
      "Enter the list of number 6 8 2 4 9 3 4 \n"
     ]
    },
    {
     "name": "stdout",
     "output_type": "stream",
     "text": [
      "The largest number in List is : 9\n"
     ]
    }
   ],
   "source": [
    "num=(input(\"Enter the list of number\"))\n",
    "numList=num.split()\n",
    "if len(numList)==0:\n",
    "    print(\"Empty List\")\n",
    "else:\n",
    "    largest_num=int(numList[0])\n",
    "    for num in numList:\n",
    "        if int(num)>largest_num:\n",
    "            largest_num=int(num)\n",
    "    print(f\"The largest number in List is : {largest_num}\")\n"
   ]
  },
  {
   "cell_type": "markdown",
   "id": "b960fa3a-281d-4ea6-9ee6-723e2b8ddcc4",
   "metadata": {},
   "source": [
    "## 4) Write a program that rotates the element of a list so that the element at the first index moves to the second index, the element in the second index moves to the third index, etc., and the element in the last index moves to the first index.\n"
   ]
  },
  {
   "cell_type": "code",
   "execution_count": 22,
   "id": "1807235b-839c-4b18-98c3-22d37a8e027b",
   "metadata": {},
   "outputs": [
    {
     "name": "stdin",
     "output_type": "stream",
     "text": [
      "Enter the list of number 5 1 0 9 20 53\n"
     ]
    },
    {
     "name": "stdout",
     "output_type": "stream",
     "text": [
      "The largest number in List is : ['53', '5', '1', '0', '9', '20']\n"
     ]
    }
   ],
   "source": [
    "num=(input(\"Enter the list of number\"))\n",
    "numList=num.split()\n",
    "if len(numList)==0:\n",
    "    print(\"Empty List\")\n",
    "else:\n",
    "    Rotate_List=numList[-1:]+numList[:-1]\n",
    "    print(f\"The largest number in List is : {Rotate_List}\")\n"
   ]
  },
  {
   "cell_type": "markdown",
   "id": "4be65132-2e90-48fb-8240-f5375ca7b6f8",
   "metadata": {},
   "source": [
    "## 5) Write a program that input a string and ask user to delete a given word from a string.\n"
   ]
  },
  {
   "cell_type": "code",
   "execution_count": 35,
   "id": "3b125cc9-a669-485f-8665-b4777c0343ae",
   "metadata": {},
   "outputs": [
    {
     "name": "stdin",
     "output_type": "stream",
     "text": [
      "Enter a string:  moiz\n",
      "Enter the word you want to remove:  m\n"
     ]
    },
    {
     "name": "stdout",
     "output_type": "stream",
     "text": [
      "Updated string: oiz\n"
     ]
    }
   ],
   "source": [
    "string = input(\"Enter a string: \")\n",
    "word_to_remove = input(\"Enter the word you want to remove: \")\n",
    "updated_string = string.replace(word_to_remove, \"\").strip()  # Remove word and strip extra spaces\n",
    "print(\"Updated string:\", updated_string)\n"
   ]
  },
  {
   "cell_type": "markdown",
   "id": "08d3aa41-8664-430c-8040-be16561aa028",
   "metadata": {},
   "source": [
    "## 6. Write a program that reads a string from the user containing a date in the form mm/dd/yyyy. It should print the date in the form March 12, 2021.\n"
   ]
  },
  {
   "cell_type": "code",
   "execution_count": 46,
   "id": "e27aec54-fd27-405d-9554-493d6c8f4a43",
   "metadata": {},
   "outputs": [
    {
     "name": "stdin",
     "output_type": "stream",
     "text": [
      "Enter date in format mm/dd/yy 03/16/2004\n"
     ]
    },
    {
     "name": "stdout",
     "output_type": "stream",
     "text": [
      "March 16,2004\n"
     ]
    }
   ],
   "source": [
    "mon={1:'Jan', 2:'Feb',3:'March',4:'April',5:'May',6:'June',7:'July',8:'Aug',9:'Sep',10:'Oct',11:'Nov',12:'Dec'}\n",
    "date=input(\"Enter date in format mm/dd/yy\").split(\"/\")\n",
    "print(f\"{mon.get(int(date[0]))} {date[1]},{date[2]}\")\n"
   ]
  },
  {
   "cell_type": "markdown",
   "id": "51e69200-978f-4b85-80bb-e3fd6d40daef",
   "metadata": {},
   "source": [
    "## 7. Write a program with a function that accepts a string from keyboard and create a new string after converting character of each word capitalized. For instance, if the sentence is \"stop and smell the roses.\" the output should be \"Stop And Smell The Roses\"\n"
   ]
  },
  {
   "cell_type": "code",
   "execution_count": 51,
   "id": "27cb2512-165b-4c9e-ab83-8dc4b582eca9",
   "metadata": {},
   "outputs": [
    {
     "name": "stdin",
     "output_type": "stream",
     "text": [
      "Enter string moiz is a student\n"
     ]
    },
    {
     "name": "stdout",
     "output_type": "stream",
     "text": [
      "Moiz Is A Student\n"
     ]
    }
   ],
   "source": [
    "string1=input(\"Enter string\")\n",
    "new_str=string1.title()\n",
    "print(new_str)\n"
   ]
  },
  {
   "cell_type": "markdown",
   "id": "d4b9c634-10ee-461b-9f23-38f31a013792",
   "metadata": {},
   "source": [
    "## 8. Find the sum of each row of matrix of size m x n. For example for the following matrix output will be like this :\n"
   ]
  },
  {
   "cell_type": "code",
   "execution_count": 54,
   "id": "274145c7-0a78-4672-b30b-95f33c7b2f5a",
   "metadata": {},
   "outputs": [
    {
     "name": "stdin",
     "output_type": "stream",
     "text": [
      "Enter number of rows:  3\n",
      "Enter number of columns:  3\n"
     ]
    },
    {
     "name": "stdout",
     "output_type": "stream",
     "text": [
      "Enter 3 elements for row 1, separated by spaces:\n"
     ]
    },
    {
     "name": "stdin",
     "output_type": "stream",
     "text": [
      " 5 9 7\n"
     ]
    },
    {
     "name": "stdout",
     "output_type": "stream",
     "text": [
      "Enter 3 elements for row 2, separated by spaces:\n"
     ]
    },
    {
     "name": "stdin",
     "output_type": "stream",
     "text": [
      " 2 6 4\n"
     ]
    },
    {
     "name": "stdout",
     "output_type": "stream",
     "text": [
      "Enter 3 elements for row 3, separated by spaces:\n"
     ]
    },
    {
     "name": "stdin",
     "output_type": "stream",
     "text": [
      " 0 7 8\n"
     ]
    },
    {
     "name": "stdout",
     "output_type": "stream",
     "text": [
      "\n",
      "Sum of each row:\n",
      "21\n",
      "12\n",
      "15\n"
     ]
    }
   ],
   "source": [
    "m=int(input(\"Enter number of rows: \"))\n",
    "n=int(input(\"Enter number of columns: \"))\n",
    "matrix=[]\n",
    "for i in range(m):\n",
    "    while True:\n",
    "        print(f\"Enter {n} elements for row {i + 1}, separated by spaces:\")\n",
    "        row=list(map(int, input().split()))\n",
    "        if len(row)==n:\n",
    "            matrix.append(row)\n",
    "            break\n",
    "        else:\n",
    "            print(f\"Error! You must enter exactly {n} elements. Try again.\")\n",
    "print(\"\\nSum of each row:\")\n",
    "for row in matrix:\n",
    "    row_sum=sum(row)\n",
    "    print(row_sum)\n"
   ]
  },
  {
   "cell_type": "markdown",
   "id": "e7c0a0cc-6aa5-4494-be77-5594bda26b41",
   "metadata": {},
   "source": [
    "## 9. Write a program to add two matrices of size n x m.\n"
   ]
  },
  {
   "cell_type": "code",
   "execution_count": 59,
   "id": "3608607b-4092-419d-b9d1-76f4ef352ebd",
   "metadata": {},
   "outputs": [
    {
     "name": "stdin",
     "output_type": "stream",
     "text": [
      "Enter the number of rows and columns (n m):  2 2\n"
     ]
    },
    {
     "name": "stdout",
     "output_type": "stream",
     "text": [
      "Enter the first matrix:\n"
     ]
    },
    {
     "name": "stdin",
     "output_type": "stream",
     "text": [
      " 2 6\n",
      " 3 4\n"
     ]
    },
    {
     "name": "stdout",
     "output_type": "stream",
     "text": [
      "Enter the second matrix:\n"
     ]
    },
    {
     "name": "stdin",
     "output_type": "stream",
     "text": [
      " 4 7\n",
      " 8 1\n"
     ]
    },
    {
     "name": "stdout",
     "output_type": "stream",
     "text": [
      "Sum of matrices:\n",
      "6 13\n",
      "11 5\n"
     ]
    }
   ],
   "source": [
    "n, m = map(int, input(\"Enter the number of rows and columns (n m): \").split())\n",
    "matrix1 = []\n",
    "matrix2 = []\n",
    "\n",
    "print(\"Enter the first matrix:\")\n",
    "for i in range(n):\n",
    "    matrix1.append(list(map(int, input().split())))\n",
    "\n",
    "print(\"Enter the second matrix:\")\n",
    "for i in range(n):\n",
    "    matrix2.append(list(map(int, input().split())))\n",
    "\n",
    "result = [[matrix1[i][j] + matrix2[i][j] for j in range(m)] for i in range(n)]\n",
    "print(\"Sum of matrices:\")\n",
    "for row in result:\n",
    "    print(*row)\n"
   ]
  },
  {
   "cell_type": "markdown",
   "id": "a1e66551-4d8e-4cf8-b8ee-e8a19508418b",
   "metadata": {},
   "source": [
    "## 10) Write a program to multiply two matrices\n"
   ]
  },
  {
   "cell_type": "code",
   "execution_count": 78,
   "id": "e96aaffb-9abb-4572-a1cb-793c7ecab913",
   "metadata": {},
   "outputs": [
    {
     "name": "stdin",
     "output_type": "stream",
     "text": [
      "Enter rows and columns of first matrix:  2 3\n"
     ]
    },
    {
     "name": "stdout",
     "output_type": "stream",
     "text": [
      "Enter first matrix:\n"
     ]
    },
    {
     "name": "stdin",
     "output_type": "stream",
     "text": [
      " 2 5 7\n",
      " 9 1 0\n",
      "Enter rows and columns of second matrix:  3 2\n"
     ]
    },
    {
     "name": "stdout",
     "output_type": "stream",
     "text": [
      "Enter second matrix:\n"
     ]
    },
    {
     "name": "stdin",
     "output_type": "stream",
     "text": [
      " 6 4\n",
      " 8 1\n",
      " 2 0\n"
     ]
    },
    {
     "name": "stdout",
     "output_type": "stream",
     "text": [
      "Product of matrices:\n",
      "66 13\n",
      "62 37\n"
     ]
    }
   ],
   "source": [
    "def multiply_matrices():\n",
    "    rows1, cols1 = map(int, input(\"Enter rows and columns of first matrix: \").split())\n",
    "    print(\"Enter first matrix:\")\n",
    "    matrix1 = [[int(x) for x in input().split()] for _ in range(rows1)]\n",
    "\n",
    "    rows2, cols2 = map(int, input(\"Enter rows and columns of second matrix: \").split())\n",
    "    print(\"Enter second matrix:\")\n",
    "    matrix2 = [[int(x) for x in input().split()] for _ in range(rows2)]\n",
    "\n",
    "    if cols1 != rows2:\n",
    "        print(\"Matrix multiplication is not possible with these dimensions.\")\n",
    "        return\n",
    "\n",
    "    result = [[sum(matrix1[i][k] * matrix2[k][j] for k in range(cols1)) for j in range(cols2)] for i in range(rows1)]\n",
    "    print(\"Product of matrices:\")\n",
    "    for row in result:\n",
    "        print(' '.join(map(str, row)))\n",
    "\n",
    "multiply_matrices()\n"
   ]
  },
  {
   "cell_type": "code",
   "execution_count": null,
   "id": "4170bc13-126f-4136-9e1e-a7056aa823c2",
   "metadata": {},
   "outputs": [],
   "source": []
  }
 ],
 "metadata": {
  "kernelspec": {
   "display_name": "Python 3 (ipykernel)",
   "language": "python",
   "name": "python3"
  },
  "language_info": {
   "codemirror_mode": {
    "name": "ipython",
    "version": 3
   },
   "file_extension": ".py",
   "mimetype": "text/x-python",
   "name": "python",
   "nbconvert_exporter": "python",
   "pygments_lexer": "ipython3",
   "version": "3.12.7"
  }
 },
 "nbformat": 4,
 "nbformat_minor": 5
}
